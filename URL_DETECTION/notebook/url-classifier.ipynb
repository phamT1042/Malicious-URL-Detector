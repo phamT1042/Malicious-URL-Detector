{
 "cells": [
  {
   "cell_type": "code",
   "execution_count": 1,
   "id": "502d7445",
   "metadata": {
    "execution": {
     "iopub.execute_input": "2024-05-10T08:45:14.675093Z",
     "iopub.status.busy": "2024-05-10T08:45:14.674277Z",
     "iopub.status.idle": "2024-05-10T08:45:42.576314Z",
     "shell.execute_reply": "2024-05-10T08:45:42.575381Z"
    },
    "executionInfo": {
     "elapsed": 24191,
     "status": "ok",
     "timestamp": 1714451659887,
     "user": {
      "displayName": "Văn Tiến Phạm",
      "userId": "12820767994936355268"
     },
     "user_tz": -420
    },
    "id": "eihAJWIawxxj",
    "outputId": "f4c2d9b5-1f1a-48c2-c705-b7d16d855a36",
    "papermill": {
     "duration": 27.927028,
     "end_time": "2024-05-10T08:45:42.578952",
     "exception": false,
     "start_time": "2024-05-10T08:45:14.651924",
     "status": "completed"
    },
    "tags": []
   },
   "outputs": [
    {
     "name": "stdout",
     "output_type": "stream",
     "text": [
      "Collecting tldextract\r\n",
      "  Downloading tldextract-5.1.2-py3-none-any.whl.metadata (11 kB)\r\n",
      "Requirement already satisfied: idna in /opt/conda/lib/python3.10/site-packages (from tldextract) (3.6)\r\n",
      "Requirement already satisfied: requests>=2.1.0 in /opt/conda/lib/python3.10/site-packages (from tldextract) (2.31.0)\r\n",
      "Collecting requests-file>=1.4 (from tldextract)\r\n",
      "  Downloading requests_file-2.0.0-py2.py3-none-any.whl.metadata (1.7 kB)\r\n",
      "Requirement already satisfied: filelock>=3.0.8 in /opt/conda/lib/python3.10/site-packages (from tldextract) (3.13.1)\r\n",
      "Requirement already satisfied: charset-normalizer<4,>=2 in /opt/conda/lib/python3.10/site-packages (from requests>=2.1.0->tldextract) (3.3.2)\r\n",
      "Requirement already satisfied: urllib3<3,>=1.21.1 in /opt/conda/lib/python3.10/site-packages (from requests>=2.1.0->tldextract) (1.26.18)\r\n",
      "Requirement already satisfied: certifi>=2017.4.17 in /opt/conda/lib/python3.10/site-packages (from requests>=2.1.0->tldextract) (2024.2.2)\r\n",
      "Downloading tldextract-5.1.2-py3-none-any.whl (97 kB)\r\n",
      "\u001b[2K   \u001b[90m━━━━━━━━━━━━━━━━━━━━━━━━━━━━━━━━━━━━━━━━\u001b[0m \u001b[32m97.6/97.6 kB\u001b[0m \u001b[31m3.4 MB/s\u001b[0m eta \u001b[36m0:00:00\u001b[0m\r\n",
      "\u001b[?25hDownloading requests_file-2.0.0-py2.py3-none-any.whl (4.2 kB)\r\n",
      "Installing collected packages: requests-file, tldextract\r\n",
      "Successfully installed requests-file-2.0.0 tldextract-5.1.2\r\n",
      "Collecting tld\r\n",
      "  Downloading tld-0.13-py2.py3-none-any.whl.metadata (9.4 kB)\r\n",
      "Downloading tld-0.13-py2.py3-none-any.whl (263 kB)\r\n",
      "\u001b[2K   \u001b[90m━━━━━━━━━━━━━━━━━━━━━━━━━━━━━━━━━━━━━━━━\u001b[0m \u001b[32m263.8/263.8 kB\u001b[0m \u001b[31m7.1 MB/s\u001b[0m eta \u001b[36m0:00:00\u001b[0m\r\n",
      "\u001b[?25hInstalling collected packages: tld\r\n",
      "Successfully installed tld-0.13\r\n"
     ]
    }
   ],
   "source": [
    "!pip install tldextract\n",
    "!pip install tld\n",
    "\n",
    "import pandas as pd\n",
    "import numpy as np\n",
    "import re\n",
    "from sklearn.model_selection import train_test_split\n",
    "from sklearn import metrics\n",
    "from sklearn.metrics import r2_score\n",
    "from sklearn.metrics import accuracy_score, f1_score, recall_score, precision_score\n",
    "from sklearn.metrics import confusion_matrix\n",
    "from sklearn.metrics import mean_squared_error\n",
    "from sklearn.metrics import classification_report\n",
    "from sklearn.metrics import ConfusionMatrixDisplay\n",
    "from sklearn.metrics import precision_recall_curve\n",
    "from sklearn.model_selection import cross_val_score\n",
    "from sklearn.metrics import roc_curve, roc_auc_score\n",
    "from sklearn.model_selection import GridSearchCV\n",
    "from sklearn.metrics import make_scorer\n",
    "import pickle\n",
    "import seaborn as sns\n",
    "import matplotlib.pyplot as plt\n",
    "from math import sqrt\n",
    "\n",
    "from urllib.parse import urlparse #module của thư viện urllib, được sử dụng để phân tích các thành phần của URL như scheme, netloc, path, params, query, và fragment\n",
    "import tldextract #trích xuất các thành phần của một URL, bao gồm tên miền, tên miền cấp cao nhất (TLD), và tên miền phụ\n",
    "import re #hỗ trợ cho các biểu thức chính quy (regular expressions)\n",
    "from tld import get_tld\n",
    "import string\n",
    "import requests\n",
    "import textwrap"
   ]
  },
  {
   "cell_type": "code",
   "execution_count": 2,
   "id": "c73b2e0f",
   "metadata": {
    "execution": {
     "iopub.execute_input": "2024-05-10T08:45:42.624558Z",
     "iopub.status.busy": "2024-05-10T08:45:42.624155Z",
     "iopub.status.idle": "2024-05-10T08:45:42.628039Z",
     "shell.execute_reply": "2024-05-10T08:45:42.627174Z"
    },
    "executionInfo": {
     "elapsed": 19894,
     "status": "ok",
     "timestamp": 1714451681265,
     "user": {
      "displayName": "Văn Tiến Phạm",
      "userId": "12820767994936355268"
     },
     "user_tz": -420
    },
    "id": "sinmX_up8gXI",
    "outputId": "77fd6e25-cc28-4489-a877-ef875d5e7b3f",
    "papermill": {
     "duration": 0.029107,
     "end_time": "2024-05-10T08:45:42.629991",
     "exception": false,
     "start_time": "2024-05-10T08:45:42.600884",
     "status": "completed"
    },
    "tags": []
   },
   "outputs": [],
   "source": [
    "# from google.colab import drive\n",
    "# drive.mount('/content/drive', force_remount = True)"
   ]
  },
  {
   "cell_type": "code",
   "execution_count": 3,
   "id": "26baf327",
   "metadata": {
    "execution": {
     "iopub.execute_input": "2024-05-10T08:45:42.674104Z",
     "iopub.status.busy": "2024-05-10T08:45:42.673424Z",
     "iopub.status.idle": "2024-05-10T08:45:42.677022Z",
     "shell.execute_reply": "2024-05-10T08:45:42.676234Z"
    },
    "executionInfo": {
     "elapsed": 2656,
     "status": "ok",
     "timestamp": 1714451685406,
     "user": {
      "displayName": "Văn Tiến Phạm",
      "userId": "12820767994936355268"
     },
     "user_tz": -420
    },
    "id": "qJbGFNvbxVOW",
    "outputId": "36059452-a040-4bcc-aee3-14e0b47488e4",
    "papermill": {
     "duration": 0.027573,
     "end_time": "2024-05-10T08:45:42.678957",
     "exception": false,
     "start_time": "2024-05-10T08:45:42.651384",
     "status": "completed"
    },
    "tags": []
   },
   "outputs": [],
   "source": [
    "# Google colab\n",
    "# data = pd.read_csv('/content/drive/MyDrive/Colab Notebooks/URL_DETECTION/URL_Feature_Extraction.csv')\n",
    "# data"
   ]
  },
  {
   "cell_type": "code",
   "execution_count": 4,
   "id": "ee076809",
   "metadata": {
    "execution": {
     "iopub.execute_input": "2024-05-10T08:45:42.723150Z",
     "iopub.status.busy": "2024-05-10T08:45:42.722606Z",
     "iopub.status.idle": "2024-05-10T08:45:54.880511Z",
     "shell.execute_reply": "2024-05-10T08:45:54.879222Z"
    },
    "papermill": {
     "duration": 12.182432,
     "end_time": "2024-05-10T08:45:54.882925",
     "exception": false,
     "start_time": "2024-05-10T08:45:42.700493",
     "status": "completed"
    },
    "tags": []
   },
   "outputs": [
    {
     "name": "stdout",
     "output_type": "stream",
     "text": [
      "Collecting gdown\r\n",
      "  Downloading gdown-5.1.0-py3-none-any.whl.metadata (5.7 kB)\r\n",
      "Requirement already satisfied: beautifulsoup4 in /opt/conda/lib/python3.10/site-packages (from gdown) (4.12.2)\r\n",
      "Requirement already satisfied: filelock in /opt/conda/lib/python3.10/site-packages (from gdown) (3.13.1)\r\n",
      "Requirement already satisfied: requests[socks] in /opt/conda/lib/python3.10/site-packages (from gdown) (2.31.0)\r\n",
      "Requirement already satisfied: tqdm in /opt/conda/lib/python3.10/site-packages (from gdown) (4.66.1)\r\n",
      "Requirement already satisfied: soupsieve>1.2 in /opt/conda/lib/python3.10/site-packages (from beautifulsoup4->gdown) (2.5)\r\n",
      "Requirement already satisfied: charset-normalizer<4,>=2 in /opt/conda/lib/python3.10/site-packages (from requests[socks]->gdown) (3.3.2)\r\n",
      "Requirement already satisfied: idna<4,>=2.5 in /opt/conda/lib/python3.10/site-packages (from requests[socks]->gdown) (3.6)\r\n",
      "Requirement already satisfied: urllib3<3,>=1.21.1 in /opt/conda/lib/python3.10/site-packages (from requests[socks]->gdown) (1.26.18)\r\n",
      "Requirement already satisfied: certifi>=2017.4.17 in /opt/conda/lib/python3.10/site-packages (from requests[socks]->gdown) (2024.2.2)\r\n",
      "Requirement already satisfied: PySocks!=1.5.7,>=1.5.6 in /opt/conda/lib/python3.10/site-packages (from requests[socks]->gdown) (1.7.1)\r\n",
      "Downloading gdown-5.1.0-py3-none-any.whl (17 kB)\r\n",
      "Installing collected packages: gdown\r\n",
      "Successfully installed gdown-5.1.0\r\n"
     ]
    }
   ],
   "source": [
    "# Kaggle\n",
    "!pip install gdown"
   ]
  },
  {
   "cell_type": "code",
   "execution_count": 5,
   "id": "7ef0d00e",
   "metadata": {
    "execution": {
     "iopub.execute_input": "2024-05-10T08:45:54.929238Z",
     "iopub.status.busy": "2024-05-10T08:45:54.928502Z",
     "iopub.status.idle": "2024-05-10T08:45:58.601304Z",
     "shell.execute_reply": "2024-05-10T08:45:58.600360Z"
    },
    "papermill": {
     "duration": 3.698369,
     "end_time": "2024-05-10T08:45:58.603677",
     "exception": false,
     "start_time": "2024-05-10T08:45:54.905308",
     "status": "completed"
    },
    "tags": []
   },
   "outputs": [
    {
     "name": "stdout",
     "output_type": "stream",
     "text": [
      "/opt/conda/lib/python3.10/site-packages/gdown/__main__.py:132: FutureWarning: Option `--id` was deprecated in version 4.3.1 and will be removed in 5.0. You don't need to pass it anymore to use a file ID.\r\n",
      "  warnings.warn(\r\n",
      "Downloading...\r\n",
      "From: https://drive.google.com/uc?id=1jRqud9iXllhkg4WeyroGHDSkAyUF4glA\r\n",
      "To: /kaggle/working/URL_Feature.csv\r\n",
      "100%|██████████████████████████████████████| 21.1M/21.1M [00:00<00:00, 91.6MB/s]\r\n"
     ]
    }
   ],
   "source": [
    "!gdown --id 1jRqud9iXllhkg4WeyroGHDSkAyUF4glA"
   ]
  },
  {
   "cell_type": "code",
   "execution_count": 6,
   "id": "9357c2a5",
   "metadata": {
    "execution": {
     "iopub.execute_input": "2024-05-10T08:45:58.650331Z",
     "iopub.status.busy": "2024-05-10T08:45:58.650026Z",
     "iopub.status.idle": "2024-05-10T08:46:02.916867Z",
     "shell.execute_reply": "2024-05-10T08:46:02.915892Z"
    },
    "papermill": {
     "duration": 4.292822,
     "end_time": "2024-05-10T08:46:02.919386",
     "exception": false,
     "start_time": "2024-05-10T08:45:58.626564",
     "status": "completed"
    },
    "tags": []
   },
   "outputs": [
    {
     "name": "stdout",
     "output_type": "stream",
     "text": [
      "/opt/conda/lib/python3.10/site-packages/gdown/__main__.py:132: FutureWarning: Option `--id` was deprecated in version 4.3.1 and will be removed in 5.0. You don't need to pass it anymore to use a file ID.\r\n",
      "  warnings.warn(\r\n",
      "Downloading...\r\n",
      "From: https://drive.google.com/uc?id=1SBJ6D9HoV6oT6ndHidowyFZkp1hpAnwm\r\n",
      "To: /kaggle/working/top-1m.csv\r\n",
      "100%|███████████████████████████████████████| 22.2M/22.2M [00:00<00:00, 168MB/s]\r\n"
     ]
    }
   ],
   "source": [
    "!gdown --id 1SBJ6D9HoV6oT6ndHidowyFZkp1hpAnwm"
   ]
  },
  {
   "cell_type": "code",
   "execution_count": 7,
   "id": "a970004d",
   "metadata": {
    "execution": {
     "iopub.execute_input": "2024-05-10T08:46:02.968890Z",
     "iopub.status.busy": "2024-05-10T08:46:02.968231Z",
     "iopub.status.idle": "2024-05-10T08:46:03.709569Z",
     "shell.execute_reply": "2024-05-10T08:46:03.708620Z"
    },
    "papermill": {
     "duration": 0.76875,
     "end_time": "2024-05-10T08:46:03.712095",
     "exception": false,
     "start_time": "2024-05-10T08:46:02.943345",
     "status": "completed"
    },
    "tags": []
   },
   "outputs": [
    {
     "data": {
      "text/html": [
       "<div>\n",
       "<style scoped>\n",
       "    .dataframe tbody tr th:only-of-type {\n",
       "        vertical-align: middle;\n",
       "    }\n",
       "\n",
       "    .dataframe tbody tr th {\n",
       "        vertical-align: top;\n",
       "    }\n",
       "\n",
       "    .dataframe thead th {\n",
       "        text-align: right;\n",
       "    }\n",
       "</style>\n",
       "<table border=\"1\" class=\"dataframe\">\n",
       "  <thead>\n",
       "    <tr style=\"text-align: right;\">\n",
       "      <th></th>\n",
       "      <th>rank</th>\n",
       "      <th>domain</th>\n",
       "    </tr>\n",
       "  </thead>\n",
       "  <tbody>\n",
       "    <tr>\n",
       "      <th>0</th>\n",
       "      <td>1</td>\n",
       "      <td>google.com</td>\n",
       "    </tr>\n",
       "    <tr>\n",
       "      <th>1</th>\n",
       "      <td>2</td>\n",
       "      <td>youtube.com</td>\n",
       "    </tr>\n",
       "    <tr>\n",
       "      <th>2</th>\n",
       "      <td>3</td>\n",
       "      <td>facebook.com</td>\n",
       "    </tr>\n",
       "    <tr>\n",
       "      <th>3</th>\n",
       "      <td>4</td>\n",
       "      <td>baidu.com</td>\n",
       "    </tr>\n",
       "    <tr>\n",
       "      <th>4</th>\n",
       "      <td>5</td>\n",
       "      <td>wikipedia.org</td>\n",
       "    </tr>\n",
       "    <tr>\n",
       "      <th>...</th>\n",
       "      <td>...</td>\n",
       "      <td>...</td>\n",
       "    </tr>\n",
       "    <tr>\n",
       "      <th>999995</th>\n",
       "      <td>999996</td>\n",
       "      <td>sibf.org</td>\n",
       "    </tr>\n",
       "    <tr>\n",
       "      <th>999996</th>\n",
       "      <td>999997</td>\n",
       "      <td>bukapintu.co</td>\n",
       "    </tr>\n",
       "    <tr>\n",
       "      <th>999997</th>\n",
       "      <td>999998</td>\n",
       "      <td>klatovynet.cz</td>\n",
       "    </tr>\n",
       "    <tr>\n",
       "      <th>999998</th>\n",
       "      <td>999999</td>\n",
       "      <td>elconquistadorfm.cl</td>\n",
       "    </tr>\n",
       "    <tr>\n",
       "      <th>999999</th>\n",
       "      <td>1000000</td>\n",
       "      <td>laputertienda.com</td>\n",
       "    </tr>\n",
       "  </tbody>\n",
       "</table>\n",
       "<p>1000000 rows × 2 columns</p>\n",
       "</div>"
      ],
      "text/plain": [
       "           rank               domain\n",
       "0             1           google.com\n",
       "1             2          youtube.com\n",
       "2             3         facebook.com\n",
       "3             4            baidu.com\n",
       "4             5        wikipedia.org\n",
       "...         ...                  ...\n",
       "999995   999996             sibf.org\n",
       "999996   999997         bukapintu.co\n",
       "999997   999998        klatovynet.cz\n",
       "999998   999999  elconquistadorfm.cl\n",
       "999999  1000000    laputertienda.com\n",
       "\n",
       "[1000000 rows x 2 columns]"
      ]
     },
     "execution_count": 7,
     "metadata": {},
     "output_type": "execute_result"
    }
   ],
   "source": [
    "alexa = pd.read_csv(\"/kaggle/working/top-1m.csv\", header=None, names=['rank', 'domain'])\n",
    "alexa"
   ]
  },
  {
   "cell_type": "code",
   "execution_count": 8,
   "id": "11ff2259",
   "metadata": {
    "execution": {
     "iopub.execute_input": "2024-05-10T08:46:03.761173Z",
     "iopub.status.busy": "2024-05-10T08:46:03.760844Z",
     "iopub.status.idle": "2024-05-10T08:46:04.403839Z",
     "shell.execute_reply": "2024-05-10T08:46:04.402879Z"
    },
    "papermill": {
     "duration": 0.669375,
     "end_time": "2024-05-10T08:46:04.406020",
     "exception": false,
     "start_time": "2024-05-10T08:46:03.736645",
     "status": "completed"
    },
    "tags": []
   },
   "outputs": [
    {
     "data": {
      "text/html": [
       "<div>\n",
       "<style scoped>\n",
       "    .dataframe tbody tr th:only-of-type {\n",
       "        vertical-align: middle;\n",
       "    }\n",
       "\n",
       "    .dataframe tbody tr th {\n",
       "        vertical-align: top;\n",
       "    }\n",
       "\n",
       "    .dataframe thead th {\n",
       "        text-align: right;\n",
       "    }\n",
       "</style>\n",
       "<table border=\"1\" class=\"dataframe\">\n",
       "  <thead>\n",
       "    <tr style=\"text-align: right;\">\n",
       "      <th></th>\n",
       "      <th>label</th>\n",
       "      <th>AtSymbol</th>\n",
       "      <th>DomainInPaths</th>\n",
       "      <th>DomainInSubdomains</th>\n",
       "      <th>DoubleSlashInPath</th>\n",
       "      <th>EntropyDomainName</th>\n",
       "      <th>HostnameLength</th>\n",
       "      <th>IpAddress</th>\n",
       "      <th>NumAmpersand</th>\n",
       "      <th>NumDash</th>\n",
       "      <th>...</th>\n",
       "      <th>NumUnderscore</th>\n",
       "      <th>PathLength</th>\n",
       "      <th>PathLevel</th>\n",
       "      <th>QueryLength</th>\n",
       "      <th>SubDomainLevel</th>\n",
       "      <th>SusTlds</th>\n",
       "      <th>TildeSymbol</th>\n",
       "      <th>UrlLength</th>\n",
       "      <th>UseShortService</th>\n",
       "      <th>rank_host</th>\n",
       "    </tr>\n",
       "  </thead>\n",
       "  <tbody>\n",
       "    <tr>\n",
       "      <th>0</th>\n",
       "      <td>1</td>\n",
       "      <td>0</td>\n",
       "      <td>0</td>\n",
       "      <td>0</td>\n",
       "      <td>0</td>\n",
       "      <td>3.503998</td>\n",
       "      <td>22</td>\n",
       "      <td>0</td>\n",
       "      <td>0</td>\n",
       "      <td>0</td>\n",
       "      <td>...</td>\n",
       "      <td>0</td>\n",
       "      <td>0</td>\n",
       "      <td>0</td>\n",
       "      <td>0</td>\n",
       "      <td>2</td>\n",
       "      <td>1</td>\n",
       "      <td>0</td>\n",
       "      <td>29</td>\n",
       "      <td>0</td>\n",
       "      <td>0</td>\n",
       "    </tr>\n",
       "    <tr>\n",
       "      <th>1</th>\n",
       "      <td>1</td>\n",
       "      <td>0</td>\n",
       "      <td>0</td>\n",
       "      <td>0</td>\n",
       "      <td>0</td>\n",
       "      <td>4.137538</td>\n",
       "      <td>28</td>\n",
       "      <td>0</td>\n",
       "      <td>0</td>\n",
       "      <td>0</td>\n",
       "      <td>...</td>\n",
       "      <td>0</td>\n",
       "      <td>1</td>\n",
       "      <td>2</td>\n",
       "      <td>0</td>\n",
       "      <td>2</td>\n",
       "      <td>0</td>\n",
       "      <td>0</td>\n",
       "      <td>36</td>\n",
       "      <td>0</td>\n",
       "      <td>1</td>\n",
       "    </tr>\n",
       "    <tr>\n",
       "      <th>2</th>\n",
       "      <td>1</td>\n",
       "      <td>0</td>\n",
       "      <td>0</td>\n",
       "      <td>0</td>\n",
       "      <td>0</td>\n",
       "      <td>3.323231</td>\n",
       "      <td>15</td>\n",
       "      <td>0</td>\n",
       "      <td>0</td>\n",
       "      <td>0</td>\n",
       "      <td>...</td>\n",
       "      <td>0</td>\n",
       "      <td>1</td>\n",
       "      <td>2</td>\n",
       "      <td>0</td>\n",
       "      <td>1</td>\n",
       "      <td>0</td>\n",
       "      <td>0</td>\n",
       "      <td>24</td>\n",
       "      <td>0</td>\n",
       "      <td>0</td>\n",
       "    </tr>\n",
       "    <tr>\n",
       "      <th>3</th>\n",
       "      <td>1</td>\n",
       "      <td>0</td>\n",
       "      <td>0</td>\n",
       "      <td>0</td>\n",
       "      <td>0</td>\n",
       "      <td>3.327820</td>\n",
       "      <td>16</td>\n",
       "      <td>0</td>\n",
       "      <td>1</td>\n",
       "      <td>1</td>\n",
       "      <td>...</td>\n",
       "      <td>0</td>\n",
       "      <td>5</td>\n",
       "      <td>3</td>\n",
       "      <td>68</td>\n",
       "      <td>1</td>\n",
       "      <td>0</td>\n",
       "      <td>0</td>\n",
       "      <td>97</td>\n",
       "      <td>0</td>\n",
       "      <td>1</td>\n",
       "    </tr>\n",
       "    <tr>\n",
       "      <th>4</th>\n",
       "      <td>0</td>\n",
       "      <td>0</td>\n",
       "      <td>0</td>\n",
       "      <td>0</td>\n",
       "      <td>0</td>\n",
       "      <td>3.454987</td>\n",
       "      <td>24</td>\n",
       "      <td>0</td>\n",
       "      <td>0</td>\n",
       "      <td>0</td>\n",
       "      <td>...</td>\n",
       "      <td>1</td>\n",
       "      <td>73</td>\n",
       "      <td>8</td>\n",
       "      <td>0</td>\n",
       "      <td>1</td>\n",
       "      <td>0</td>\n",
       "      <td>0</td>\n",
       "      <td>105</td>\n",
       "      <td>0</td>\n",
       "      <td>1</td>\n",
       "    </tr>\n",
       "    <tr>\n",
       "      <th>...</th>\n",
       "      <td>...</td>\n",
       "      <td>...</td>\n",
       "      <td>...</td>\n",
       "      <td>...</td>\n",
       "      <td>...</td>\n",
       "      <td>...</td>\n",
       "      <td>...</td>\n",
       "      <td>...</td>\n",
       "      <td>...</td>\n",
       "      <td>...</td>\n",
       "      <td>...</td>\n",
       "      <td>...</td>\n",
       "      <td>...</td>\n",
       "      <td>...</td>\n",
       "      <td>...</td>\n",
       "      <td>...</td>\n",
       "      <td>...</td>\n",
       "      <td>...</td>\n",
       "      <td>...</td>\n",
       "      <td>...</td>\n",
       "      <td>...</td>\n",
       "    </tr>\n",
       "    <tr>\n",
       "      <th>288153</th>\n",
       "      <td>1</td>\n",
       "      <td>0</td>\n",
       "      <td>0</td>\n",
       "      <td>0</td>\n",
       "      <td>0</td>\n",
       "      <td>2.923231</td>\n",
       "      <td>15</td>\n",
       "      <td>0</td>\n",
       "      <td>0</td>\n",
       "      <td>0</td>\n",
       "      <td>...</td>\n",
       "      <td>0</td>\n",
       "      <td>8</td>\n",
       "      <td>2</td>\n",
       "      <td>0</td>\n",
       "      <td>0</td>\n",
       "      <td>1</td>\n",
       "      <td>0</td>\n",
       "      <td>31</td>\n",
       "      <td>0</td>\n",
       "      <td>1</td>\n",
       "    </tr>\n",
       "    <tr>\n",
       "      <th>288154</th>\n",
       "      <td>0</td>\n",
       "      <td>0</td>\n",
       "      <td>0</td>\n",
       "      <td>0</td>\n",
       "      <td>0</td>\n",
       "      <td>2.663533</td>\n",
       "      <td>11</td>\n",
       "      <td>0</td>\n",
       "      <td>0</td>\n",
       "      <td>8</td>\n",
       "      <td>...</td>\n",
       "      <td>0</td>\n",
       "      <td>86</td>\n",
       "      <td>8</td>\n",
       "      <td>0</td>\n",
       "      <td>1</td>\n",
       "      <td>1</td>\n",
       "      <td>0</td>\n",
       "      <td>105</td>\n",
       "      <td>0</td>\n",
       "      <td>0</td>\n",
       "    </tr>\n",
       "    <tr>\n",
       "      <th>288155</th>\n",
       "      <td>0</td>\n",
       "      <td>0</td>\n",
       "      <td>0</td>\n",
       "      <td>0</td>\n",
       "      <td>0</td>\n",
       "      <td>3.681881</td>\n",
       "      <td>19</td>\n",
       "      <td>0</td>\n",
       "      <td>0</td>\n",
       "      <td>0</td>\n",
       "      <td>...</td>\n",
       "      <td>0</td>\n",
       "      <td>0</td>\n",
       "      <td>0</td>\n",
       "      <td>0</td>\n",
       "      <td>1</td>\n",
       "      <td>0</td>\n",
       "      <td>0</td>\n",
       "      <td>27</td>\n",
       "      <td>0</td>\n",
       "      <td>1</td>\n",
       "    </tr>\n",
       "    <tr>\n",
       "      <th>288156</th>\n",
       "      <td>1</td>\n",
       "      <td>0</td>\n",
       "      <td>0</td>\n",
       "      <td>0</td>\n",
       "      <td>0</td>\n",
       "      <td>3.796218</td>\n",
       "      <td>26</td>\n",
       "      <td>0</td>\n",
       "      <td>0</td>\n",
       "      <td>0</td>\n",
       "      <td>...</td>\n",
       "      <td>0</td>\n",
       "      <td>0</td>\n",
       "      <td>0</td>\n",
       "      <td>0</td>\n",
       "      <td>2</td>\n",
       "      <td>0</td>\n",
       "      <td>0</td>\n",
       "      <td>33</td>\n",
       "      <td>0</td>\n",
       "      <td>1</td>\n",
       "    </tr>\n",
       "    <tr>\n",
       "      <th>288157</th>\n",
       "      <td>1</td>\n",
       "      <td>0</td>\n",
       "      <td>0</td>\n",
       "      <td>0</td>\n",
       "      <td>0</td>\n",
       "      <td>3.884155</td>\n",
       "      <td>27</td>\n",
       "      <td>0</td>\n",
       "      <td>0</td>\n",
       "      <td>0</td>\n",
       "      <td>...</td>\n",
       "      <td>0</td>\n",
       "      <td>7</td>\n",
       "      <td>2</td>\n",
       "      <td>0</td>\n",
       "      <td>1</td>\n",
       "      <td>0</td>\n",
       "      <td>0</td>\n",
       "      <td>42</td>\n",
       "      <td>0</td>\n",
       "      <td>0</td>\n",
       "    </tr>\n",
       "  </tbody>\n",
       "</table>\n",
       "<p>288158 rows × 27 columns</p>\n",
       "</div>"
      ],
      "text/plain": [
       "        label  AtSymbol  DomainInPaths  DomainInSubdomains  DoubleSlashInPath  \\\n",
       "0           1         0              0                   0                  0   \n",
       "1           1         0              0                   0                  0   \n",
       "2           1         0              0                   0                  0   \n",
       "3           1         0              0                   0                  0   \n",
       "4           0         0              0                   0                  0   \n",
       "...       ...       ...            ...                 ...                ...   \n",
       "288153      1         0              0                   0                  0   \n",
       "288154      0         0              0                   0                  0   \n",
       "288155      0         0              0                   0                  0   \n",
       "288156      1         0              0                   0                  0   \n",
       "288157      1         0              0                   0                  0   \n",
       "\n",
       "        EntropyDomainName  HostnameLength  IpAddress  NumAmpersand  NumDash  \\\n",
       "0                3.503998              22          0             0        0   \n",
       "1                4.137538              28          0             0        0   \n",
       "2                3.323231              15          0             0        0   \n",
       "3                3.327820              16          0             1        1   \n",
       "4                3.454987              24          0             0        0   \n",
       "...                   ...             ...        ...           ...      ...   \n",
       "288153           2.923231              15          0             0        0   \n",
       "288154           2.663533              11          0             0        8   \n",
       "288155           3.681881              19          0             0        0   \n",
       "288156           3.796218              26          0             0        0   \n",
       "288157           3.884155              27          0             0        0   \n",
       "\n",
       "        ...  NumUnderscore  PathLength  PathLevel  QueryLength  \\\n",
       "0       ...              0           0          0            0   \n",
       "1       ...              0           1          2            0   \n",
       "2       ...              0           1          2            0   \n",
       "3       ...              0           5          3           68   \n",
       "4       ...              1          73          8            0   \n",
       "...     ...            ...         ...        ...          ...   \n",
       "288153  ...              0           8          2            0   \n",
       "288154  ...              0          86          8            0   \n",
       "288155  ...              0           0          0            0   \n",
       "288156  ...              0           0          0            0   \n",
       "288157  ...              0           7          2            0   \n",
       "\n",
       "        SubDomainLevel  SusTlds  TildeSymbol  UrlLength  UseShortService  \\\n",
       "0                    2        1            0         29                0   \n",
       "1                    2        0            0         36                0   \n",
       "2                    1        0            0         24                0   \n",
       "3                    1        0            0         97                0   \n",
       "4                    1        0            0        105                0   \n",
       "...                ...      ...          ...        ...              ...   \n",
       "288153               0        1            0         31                0   \n",
       "288154               1        1            0        105                0   \n",
       "288155               1        0            0         27                0   \n",
       "288156               2        0            0         33                0   \n",
       "288157               1        0            0         42                0   \n",
       "\n",
       "        rank_host  \n",
       "0               0  \n",
       "1               1  \n",
       "2               0  \n",
       "3               1  \n",
       "4               1  \n",
       "...           ...  \n",
       "288153          1  \n",
       "288154          0  \n",
       "288155          1  \n",
       "288156          1  \n",
       "288157          0  \n",
       "\n",
       "[288158 rows x 27 columns]"
      ]
     },
     "execution_count": 8,
     "metadata": {},
     "output_type": "execute_result"
    }
   ],
   "source": [
    "data = pd.read_csv('/kaggle/working/URL_Feature.csv')\n",
    "data"
   ]
  },
  {
   "cell_type": "code",
   "execution_count": 9,
   "id": "dac0220d",
   "metadata": {
    "execution": {
     "iopub.execute_input": "2024-05-10T08:46:04.454741Z",
     "iopub.status.busy": "2024-05-10T08:46:04.454418Z",
     "iopub.status.idle": "2024-05-10T08:46:04.544063Z",
     "shell.execute_reply": "2024-05-10T08:46:04.543152Z"
    },
    "executionInfo": {
     "elapsed": 292,
     "status": "ok",
     "timestamp": 1714451690659,
     "user": {
      "displayName": "Văn Tiến Phạm",
      "userId": "12820767994936355268"
     },
     "user_tz": -420
    },
    "id": "ikxfap01yD-G",
    "outputId": "5694bcf8-b736-4e90-f6d1-3fa1b37a23cf",
    "papermill": {
     "duration": 0.116091,
     "end_time": "2024-05-10T08:46:04.546208",
     "exception": false,
     "start_time": "2024-05-10T08:46:04.430117",
     "status": "completed"
    },
    "tags": []
   },
   "outputs": [
    {
     "data": {
      "text/plain": [
       "((230526, 26), (230526,), (57632, 26), (57632,))"
      ]
     },
     "execution_count": 9,
     "metadata": {},
     "output_type": "execute_result"
    }
   ],
   "source": [
    "X = data.drop(['label'], axis=1) \n",
    "Y = data[\"label\"]\n",
    "\n",
    "X_train, X_test, y_train, y_test = train_test_split(X, Y, test_size = 0.2, random_state = 101)\n",
    "\n",
    "X_train.shape, y_train.shape, X_test.shape, y_test.shape"
   ]
  },
  {
   "cell_type": "code",
   "execution_count": 10,
   "id": "df1ec5df",
   "metadata": {
    "execution": {
     "iopub.execute_input": "2024-05-10T08:46:04.596130Z",
     "iopub.status.busy": "2024-05-10T08:46:04.595768Z",
     "iopub.status.idle": "2024-05-10T08:46:04.676075Z",
     "shell.execute_reply": "2024-05-10T08:46:04.675175Z"
    },
    "papermill": {
     "duration": 0.108175,
     "end_time": "2024-05-10T08:46:04.678354",
     "exception": false,
     "start_time": "2024-05-10T08:46:04.570179",
     "status": "completed"
    },
    "tags": []
   },
   "outputs": [
    {
     "data": {
      "text/html": [
       "<div>\n",
       "<style scoped>\n",
       "    .dataframe tbody tr th:only-of-type {\n",
       "        vertical-align: middle;\n",
       "    }\n",
       "\n",
       "    .dataframe tbody tr th {\n",
       "        vertical-align: top;\n",
       "    }\n",
       "\n",
       "    .dataframe thead th {\n",
       "        text-align: right;\n",
       "    }\n",
       "</style>\n",
       "<table border=\"1\" class=\"dataframe\">\n",
       "  <thead>\n",
       "    <tr style=\"text-align: right;\">\n",
       "      <th></th>\n",
       "      <th>AtSymbol</th>\n",
       "      <th>DomainInPaths</th>\n",
       "      <th>DomainInSubdomains</th>\n",
       "      <th>DoubleSlashInPath</th>\n",
       "      <th>EntropyDomainName</th>\n",
       "      <th>HostnameLength</th>\n",
       "      <th>IpAddress</th>\n",
       "      <th>NumAmpersand</th>\n",
       "      <th>NumDash</th>\n",
       "      <th>NumDashInHostname</th>\n",
       "      <th>...</th>\n",
       "      <th>NumUnderscore</th>\n",
       "      <th>PathLength</th>\n",
       "      <th>PathLevel</th>\n",
       "      <th>QueryLength</th>\n",
       "      <th>SubDomainLevel</th>\n",
       "      <th>SusTlds</th>\n",
       "      <th>TildeSymbol</th>\n",
       "      <th>UrlLength</th>\n",
       "      <th>UseShortService</th>\n",
       "      <th>rank_host</th>\n",
       "    </tr>\n",
       "  </thead>\n",
       "  <tbody>\n",
       "    <tr>\n",
       "      <th>626</th>\n",
       "      <td>0</td>\n",
       "      <td>0</td>\n",
       "      <td>0</td>\n",
       "      <td>0</td>\n",
       "      <td>3.084963</td>\n",
       "      <td>12</td>\n",
       "      <td>0</td>\n",
       "      <td>0</td>\n",
       "      <td>1</td>\n",
       "      <td>1</td>\n",
       "      <td>...</td>\n",
       "      <td>0</td>\n",
       "      <td>20</td>\n",
       "      <td>5</td>\n",
       "      <td>0</td>\n",
       "      <td>0</td>\n",
       "      <td>1</td>\n",
       "      <td>0</td>\n",
       "      <td>39</td>\n",
       "      <td>0</td>\n",
       "      <td>0</td>\n",
       "    </tr>\n",
       "    <tr>\n",
       "      <th>122095</th>\n",
       "      <td>0</td>\n",
       "      <td>0</td>\n",
       "      <td>0</td>\n",
       "      <td>0</td>\n",
       "      <td>2.923231</td>\n",
       "      <td>15</td>\n",
       "      <td>0</td>\n",
       "      <td>0</td>\n",
       "      <td>0</td>\n",
       "      <td>0</td>\n",
       "      <td>...</td>\n",
       "      <td>0</td>\n",
       "      <td>17</td>\n",
       "      <td>4</td>\n",
       "      <td>0</td>\n",
       "      <td>0</td>\n",
       "      <td>0</td>\n",
       "      <td>0</td>\n",
       "      <td>39</td>\n",
       "      <td>0</td>\n",
       "      <td>1</td>\n",
       "    </tr>\n",
       "    <tr>\n",
       "      <th>92786</th>\n",
       "      <td>0</td>\n",
       "      <td>0</td>\n",
       "      <td>0</td>\n",
       "      <td>0</td>\n",
       "      <td>3.323231</td>\n",
       "      <td>15</td>\n",
       "      <td>0</td>\n",
       "      <td>0</td>\n",
       "      <td>3</td>\n",
       "      <td>0</td>\n",
       "      <td>...</td>\n",
       "      <td>0</td>\n",
       "      <td>55</td>\n",
       "      <td>2</td>\n",
       "      <td>0</td>\n",
       "      <td>1</td>\n",
       "      <td>0</td>\n",
       "      <td>0</td>\n",
       "      <td>78</td>\n",
       "      <td>0</td>\n",
       "      <td>0</td>\n",
       "    </tr>\n",
       "    <tr>\n",
       "      <th>176343</th>\n",
       "      <td>0</td>\n",
       "      <td>1</td>\n",
       "      <td>0</td>\n",
       "      <td>0</td>\n",
       "      <td>3.681881</td>\n",
       "      <td>19</td>\n",
       "      <td>0</td>\n",
       "      <td>0</td>\n",
       "      <td>2</td>\n",
       "      <td>0</td>\n",
       "      <td>...</td>\n",
       "      <td>3</td>\n",
       "      <td>96</td>\n",
       "      <td>9</td>\n",
       "      <td>29</td>\n",
       "      <td>0</td>\n",
       "      <td>0</td>\n",
       "      <td>0</td>\n",
       "      <td>152</td>\n",
       "      <td>0</td>\n",
       "      <td>1</td>\n",
       "    </tr>\n",
       "    <tr>\n",
       "      <th>1391</th>\n",
       "      <td>0</td>\n",
       "      <td>0</td>\n",
       "      <td>0</td>\n",
       "      <td>0</td>\n",
       "      <td>3.689892</td>\n",
       "      <td>27</td>\n",
       "      <td>0</td>\n",
       "      <td>0</td>\n",
       "      <td>1</td>\n",
       "      <td>0</td>\n",
       "      <td>...</td>\n",
       "      <td>0</td>\n",
       "      <td>1</td>\n",
       "      <td>2</td>\n",
       "      <td>0</td>\n",
       "      <td>2</td>\n",
       "      <td>0</td>\n",
       "      <td>0</td>\n",
       "      <td>35</td>\n",
       "      <td>0</td>\n",
       "      <td>1</td>\n",
       "    </tr>\n",
       "    <tr>\n",
       "      <th>...</th>\n",
       "      <td>...</td>\n",
       "      <td>...</td>\n",
       "      <td>...</td>\n",
       "      <td>...</td>\n",
       "      <td>...</td>\n",
       "      <td>...</td>\n",
       "      <td>...</td>\n",
       "      <td>...</td>\n",
       "      <td>...</td>\n",
       "      <td>...</td>\n",
       "      <td>...</td>\n",
       "      <td>...</td>\n",
       "      <td>...</td>\n",
       "      <td>...</td>\n",
       "      <td>...</td>\n",
       "      <td>...</td>\n",
       "      <td>...</td>\n",
       "      <td>...</td>\n",
       "      <td>...</td>\n",
       "      <td>...</td>\n",
       "      <td>...</td>\n",
       "    </tr>\n",
       "    <tr>\n",
       "      <th>55293</th>\n",
       "      <td>0</td>\n",
       "      <td>0</td>\n",
       "      <td>0</td>\n",
       "      <td>0</td>\n",
       "      <td>3.326360</td>\n",
       "      <td>19</td>\n",
       "      <td>0</td>\n",
       "      <td>0</td>\n",
       "      <td>0</td>\n",
       "      <td>0</td>\n",
       "      <td>...</td>\n",
       "      <td>0</td>\n",
       "      <td>20</td>\n",
       "      <td>4</td>\n",
       "      <td>0</td>\n",
       "      <td>1</td>\n",
       "      <td>0</td>\n",
       "      <td>0</td>\n",
       "      <td>47</td>\n",
       "      <td>1</td>\n",
       "      <td>1</td>\n",
       "    </tr>\n",
       "    <tr>\n",
       "      <th>136767</th>\n",
       "      <td>0</td>\n",
       "      <td>0</td>\n",
       "      <td>0</td>\n",
       "      <td>0</td>\n",
       "      <td>3.646439</td>\n",
       "      <td>20</td>\n",
       "      <td>0</td>\n",
       "      <td>0</td>\n",
       "      <td>2</td>\n",
       "      <td>0</td>\n",
       "      <td>...</td>\n",
       "      <td>0</td>\n",
       "      <td>35</td>\n",
       "      <td>7</td>\n",
       "      <td>0</td>\n",
       "      <td>1</td>\n",
       "      <td>0</td>\n",
       "      <td>0</td>\n",
       "      <td>63</td>\n",
       "      <td>0</td>\n",
       "      <td>0</td>\n",
       "    </tr>\n",
       "    <tr>\n",
       "      <th>204614</th>\n",
       "      <td>0</td>\n",
       "      <td>0</td>\n",
       "      <td>0</td>\n",
       "      <td>0</td>\n",
       "      <td>3.572431</td>\n",
       "      <td>18</td>\n",
       "      <td>0</td>\n",
       "      <td>0</td>\n",
       "      <td>0</td>\n",
       "      <td>0</td>\n",
       "      <td>...</td>\n",
       "      <td>3</td>\n",
       "      <td>36</td>\n",
       "      <td>5</td>\n",
       "      <td>0</td>\n",
       "      <td>1</td>\n",
       "      <td>0</td>\n",
       "      <td>0</td>\n",
       "      <td>62</td>\n",
       "      <td>0</td>\n",
       "      <td>0</td>\n",
       "    </tr>\n",
       "    <tr>\n",
       "      <th>214539</th>\n",
       "      <td>0</td>\n",
       "      <td>0</td>\n",
       "      <td>0</td>\n",
       "      <td>0</td>\n",
       "      <td>2.913977</td>\n",
       "      <td>11</td>\n",
       "      <td>0</td>\n",
       "      <td>0</td>\n",
       "      <td>0</td>\n",
       "      <td>0</td>\n",
       "      <td>...</td>\n",
       "      <td>1</td>\n",
       "      <td>16</td>\n",
       "      <td>3</td>\n",
       "      <td>0</td>\n",
       "      <td>0</td>\n",
       "      <td>0</td>\n",
       "      <td>0</td>\n",
       "      <td>34</td>\n",
       "      <td>0</td>\n",
       "      <td>1</td>\n",
       "    </tr>\n",
       "    <tr>\n",
       "      <th>176991</th>\n",
       "      <td>0</td>\n",
       "      <td>0</td>\n",
       "      <td>0</td>\n",
       "      <td>0</td>\n",
       "      <td>3.323231</td>\n",
       "      <td>15</td>\n",
       "      <td>0</td>\n",
       "      <td>0</td>\n",
       "      <td>0</td>\n",
       "      <td>0</td>\n",
       "      <td>...</td>\n",
       "      <td>0</td>\n",
       "      <td>0</td>\n",
       "      <td>0</td>\n",
       "      <td>0</td>\n",
       "      <td>1</td>\n",
       "      <td>0</td>\n",
       "      <td>0</td>\n",
       "      <td>22</td>\n",
       "      <td>0</td>\n",
       "      <td>1</td>\n",
       "    </tr>\n",
       "  </tbody>\n",
       "</table>\n",
       "<p>230526 rows × 26 columns</p>\n",
       "</div>"
      ],
      "text/plain": [
       "        AtSymbol  DomainInPaths  DomainInSubdomains  DoubleSlashInPath  \\\n",
       "626            0              0                   0                  0   \n",
       "122095         0              0                   0                  0   \n",
       "92786          0              0                   0                  0   \n",
       "176343         0              1                   0                  0   \n",
       "1391           0              0                   0                  0   \n",
       "...          ...            ...                 ...                ...   \n",
       "55293          0              0                   0                  0   \n",
       "136767         0              0                   0                  0   \n",
       "204614         0              0                   0                  0   \n",
       "214539         0              0                   0                  0   \n",
       "176991         0              0                   0                  0   \n",
       "\n",
       "        EntropyDomainName  HostnameLength  IpAddress  NumAmpersand  NumDash  \\\n",
       "626              3.084963              12          0             0        1   \n",
       "122095           2.923231              15          0             0        0   \n",
       "92786            3.323231              15          0             0        3   \n",
       "176343           3.681881              19          0             0        2   \n",
       "1391             3.689892              27          0             0        1   \n",
       "...                   ...             ...        ...           ...      ...   \n",
       "55293            3.326360              19          0             0        0   \n",
       "136767           3.646439              20          0             0        2   \n",
       "204614           3.572431              18          0             0        0   \n",
       "214539           2.913977              11          0             0        0   \n",
       "176991           3.323231              15          0             0        0   \n",
       "\n",
       "        NumDashInHostname  ...  NumUnderscore  PathLength  PathLevel  \\\n",
       "626                     1  ...              0          20          5   \n",
       "122095                  0  ...              0          17          4   \n",
       "92786                   0  ...              0          55          2   \n",
       "176343                  0  ...              3          96          9   \n",
       "1391                    0  ...              0           1          2   \n",
       "...                   ...  ...            ...         ...        ...   \n",
       "55293                   0  ...              0          20          4   \n",
       "136767                  0  ...              0          35          7   \n",
       "204614                  0  ...              3          36          5   \n",
       "214539                  0  ...              1          16          3   \n",
       "176991                  0  ...              0           0          0   \n",
       "\n",
       "        QueryLength  SubDomainLevel  SusTlds  TildeSymbol  UrlLength  \\\n",
       "626               0               0        1            0         39   \n",
       "122095            0               0        0            0         39   \n",
       "92786             0               1        0            0         78   \n",
       "176343           29               0        0            0        152   \n",
       "1391              0               2        0            0         35   \n",
       "...             ...             ...      ...          ...        ...   \n",
       "55293             0               1        0            0         47   \n",
       "136767            0               1        0            0         63   \n",
       "204614            0               1        0            0         62   \n",
       "214539            0               0        0            0         34   \n",
       "176991            0               1        0            0         22   \n",
       "\n",
       "        UseShortService  rank_host  \n",
       "626                   0          0  \n",
       "122095                0          1  \n",
       "92786                 0          0  \n",
       "176343                0          1  \n",
       "1391                  0          1  \n",
       "...                 ...        ...  \n",
       "55293                 1          1  \n",
       "136767                0          0  \n",
       "204614                0          0  \n",
       "214539                0          1  \n",
       "176991                0          1  \n",
       "\n",
       "[230526 rows x 26 columns]"
      ]
     },
     "execution_count": 10,
     "metadata": {},
     "output_type": "execute_result"
    }
   ],
   "source": [
    "X_train"
   ]
  },
  {
   "cell_type": "code",
   "execution_count": 11,
   "id": "9fcabb09",
   "metadata": {
    "execution": {
     "iopub.execute_input": "2024-05-10T08:46:04.729872Z",
     "iopub.status.busy": "2024-05-10T08:46:04.729189Z",
     "iopub.status.idle": "2024-05-10T08:46:04.737551Z",
     "shell.execute_reply": "2024-05-10T08:46:04.736689Z"
    },
    "executionInfo": {
     "elapsed": 293,
     "status": "ok",
     "timestamp": 1714451693053,
     "user": {
      "displayName": "Văn Tiến Phạm",
      "userId": "12820767994936355268"
     },
     "user_tz": -420
    },
    "id": "u4i5Mx7Lw8kj",
    "papermill": {
     "duration": 0.036243,
     "end_time": "2024-05-10T08:46:04.739506",
     "exception": false,
     "start_time": "2024-05-10T08:46:04.703263",
     "status": "completed"
    },
    "tags": []
   },
   "outputs": [],
   "source": [
    "ML_model = []\n",
    "ML_top3_model_tuning = []\n",
    "\n",
    "class ModelPerformance:\n",
    "    def __init__(self, name, acc_train, acc_tests, f1_score, recall_score, precision_score):\n",
    "        self.name = name\n",
    "        self.acc_train = round(acc_train, 3)\n",
    "        self.acc_tests = round(acc_tests, 3)\n",
    "        self.f1_score = round(f1_score, 3)\n",
    "        self.recall_score = round(recall_score, 3)\n",
    "        self.precision_score = round(precision_score, 3)\n",
    "\n",
    "def sort_models(models):\n",
    "    return sorted(models, key=lambda x: (-x.acc_tests, -x.f1_score, -x.recall_score, -x.precision_score))\n",
    "\n",
    "def storeResults(name, a, b, c, d, e, array):\n",
    "    if array == 0:\n",
    "        ML_model.append(ModelPerformance(name, a, b, c, d, e))\n",
    "    else:\n",
    "        ML_top3_model_tuning.append(ModelPerformance(name, a, b, c, d, e))"
   ]
  },
  {
   "cell_type": "markdown",
   "id": "733d35de",
   "metadata": {
    "id": "6qjXek2DTEum",
    "papermill": {
     "duration": 0.024583,
     "end_time": "2024-05-10T08:46:04.788569",
     "exception": false,
     "start_time": "2024-05-10T08:46:04.763986",
     "status": "completed"
    },
    "tags": []
   },
   "source": [
    "# Decision Tree\n"
   ]
  },
  {
   "cell_type": "code",
   "execution_count": 12,
   "id": "cfecff90",
   "metadata": {
    "execution": {
     "iopub.execute_input": "2024-05-10T08:46:04.883706Z",
     "iopub.status.busy": "2024-05-10T08:46:04.882888Z",
     "iopub.status.idle": "2024-05-10T08:46:05.031633Z",
     "shell.execute_reply": "2024-05-10T08:46:05.030682Z"
    },
    "executionInfo": {
     "elapsed": 5,
     "status": "ok",
     "timestamp": 1714445400513,
     "user": {
      "displayName": "Văn Tiến Phạm",
      "userId": "12820767994936355268"
     },
     "user_tz": -420
    },
    "id": "8H4VyMkTm-GM",
    "outputId": "e759f14e-29ee-44f9-fe7a-3b481bb969e4",
    "papermill": {
     "duration": 0.176394,
     "end_time": "2024-05-10T08:46:05.033764",
     "exception": false,
     "start_time": "2024-05-10T08:46:04.857370",
     "status": "completed"
    },
    "tags": []
   },
   "outputs": [
    {
     "name": "stdout",
     "output_type": "stream",
     "text": [
      "ccp_alpha=0.0, class_weight=None, criterion=entropy, max_depth=None,\n",
      "max_features=None, max_leaf_nodes=None, min_impurity_decrease=0.0,\n",
      "min_samples_leaf=1, min_samples_split=2, min_weight_fraction_leaf=0.0,\n",
      "random_state=100, splitter=best\n"
     ]
    }
   ],
   "source": [
    "# Tạo một đối tượng DecisionTreeClassifier\n",
    "from sklearn.tree import DecisionTreeClassifier\n",
    "\n",
    "DTC_model = DecisionTreeClassifier(random_state = 100, \n",
    "                                   criterion = \"entropy\")\n",
    "\n",
    "# Hiển thị tất cả các tham số của mô hình\n",
    "params = DTC_model.get_params()\n",
    "params_str = ', '.join(f'{k}={v}' for k, v in params.items())\n",
    "\n",
    "# Định dạng chuỗi để nó tự động ngắt dòng khi vượt quá độ rộng cố định\n",
    "print(textwrap.fill(params_str, width=70))"
   ]
  },
  {
   "cell_type": "code",
   "execution_count": 13,
   "id": "b2b1f12b",
   "metadata": {
    "execution": {
     "iopub.execute_input": "2024-05-10T08:46:05.083952Z",
     "iopub.status.busy": "2024-05-10T08:46:05.083657Z",
     "iopub.status.idle": "2024-05-10T08:46:07.004466Z",
     "shell.execute_reply": "2024-05-10T08:46:07.003540Z"
    },
    "papermill": {
     "duration": 1.948383,
     "end_time": "2024-05-10T08:46:07.006742",
     "exception": false,
     "start_time": "2024-05-10T08:46:05.058359",
     "status": "completed"
    },
    "tags": []
   },
   "outputs": [
    {
     "data": {
      "text/html": [
       "<style>#sk-container-id-1 {color: black;background-color: white;}#sk-container-id-1 pre{padding: 0;}#sk-container-id-1 div.sk-toggleable {background-color: white;}#sk-container-id-1 label.sk-toggleable__label {cursor: pointer;display: block;width: 100%;margin-bottom: 0;padding: 0.3em;box-sizing: border-box;text-align: center;}#sk-container-id-1 label.sk-toggleable__label-arrow:before {content: \"▸\";float: left;margin-right: 0.25em;color: #696969;}#sk-container-id-1 label.sk-toggleable__label-arrow:hover:before {color: black;}#sk-container-id-1 div.sk-estimator:hover label.sk-toggleable__label-arrow:before {color: black;}#sk-container-id-1 div.sk-toggleable__content {max-height: 0;max-width: 0;overflow: hidden;text-align: left;background-color: #f0f8ff;}#sk-container-id-1 div.sk-toggleable__content pre {margin: 0.2em;color: black;border-radius: 0.25em;background-color: #f0f8ff;}#sk-container-id-1 input.sk-toggleable__control:checked~div.sk-toggleable__content {max-height: 200px;max-width: 100%;overflow: auto;}#sk-container-id-1 input.sk-toggleable__control:checked~label.sk-toggleable__label-arrow:before {content: \"▾\";}#sk-container-id-1 div.sk-estimator input.sk-toggleable__control:checked~label.sk-toggleable__label {background-color: #d4ebff;}#sk-container-id-1 div.sk-label input.sk-toggleable__control:checked~label.sk-toggleable__label {background-color: #d4ebff;}#sk-container-id-1 input.sk-hidden--visually {border: 0;clip: rect(1px 1px 1px 1px);clip: rect(1px, 1px, 1px, 1px);height: 1px;margin: -1px;overflow: hidden;padding: 0;position: absolute;width: 1px;}#sk-container-id-1 div.sk-estimator {font-family: monospace;background-color: #f0f8ff;border: 1px dotted black;border-radius: 0.25em;box-sizing: border-box;margin-bottom: 0.5em;}#sk-container-id-1 div.sk-estimator:hover {background-color: #d4ebff;}#sk-container-id-1 div.sk-parallel-item::after {content: \"\";width: 100%;border-bottom: 1px solid gray;flex-grow: 1;}#sk-container-id-1 div.sk-label:hover label.sk-toggleable__label {background-color: #d4ebff;}#sk-container-id-1 div.sk-serial::before {content: \"\";position: absolute;border-left: 1px solid gray;box-sizing: border-box;top: 0;bottom: 0;left: 50%;z-index: 0;}#sk-container-id-1 div.sk-serial {display: flex;flex-direction: column;align-items: center;background-color: white;padding-right: 0.2em;padding-left: 0.2em;position: relative;}#sk-container-id-1 div.sk-item {position: relative;z-index: 1;}#sk-container-id-1 div.sk-parallel {display: flex;align-items: stretch;justify-content: center;background-color: white;position: relative;}#sk-container-id-1 div.sk-item::before, #sk-container-id-1 div.sk-parallel-item::before {content: \"\";position: absolute;border-left: 1px solid gray;box-sizing: border-box;top: 0;bottom: 0;left: 50%;z-index: -1;}#sk-container-id-1 div.sk-parallel-item {display: flex;flex-direction: column;z-index: 1;position: relative;background-color: white;}#sk-container-id-1 div.sk-parallel-item:first-child::after {align-self: flex-end;width: 50%;}#sk-container-id-1 div.sk-parallel-item:last-child::after {align-self: flex-start;width: 50%;}#sk-container-id-1 div.sk-parallel-item:only-child::after {width: 0;}#sk-container-id-1 div.sk-dashed-wrapped {border: 1px dashed gray;margin: 0 0.4em 0.5em 0.4em;box-sizing: border-box;padding-bottom: 0.4em;background-color: white;}#sk-container-id-1 div.sk-label label {font-family: monospace;font-weight: bold;display: inline-block;line-height: 1.2em;}#sk-container-id-1 div.sk-label-container {text-align: center;}#sk-container-id-1 div.sk-container {/* jupyter's `normalize.less` sets `[hidden] { display: none; }` but bootstrap.min.css set `[hidden] { display: none !important; }` so we also need the `!important` here to be able to override the default hidden behavior on the sphinx rendered scikit-learn.org. See: https://github.com/scikit-learn/scikit-learn/issues/21755 */display: inline-block !important;position: relative;}#sk-container-id-1 div.sk-text-repr-fallback {display: none;}</style><div id=\"sk-container-id-1\" class=\"sk-top-container\"><div class=\"sk-text-repr-fallback\"><pre>DecisionTreeClassifier(criterion=&#x27;entropy&#x27;, random_state=100)</pre><b>In a Jupyter environment, please rerun this cell to show the HTML representation or trust the notebook. <br />On GitHub, the HTML representation is unable to render, please try loading this page with nbviewer.org.</b></div><div class=\"sk-container\" hidden><div class=\"sk-item\"><div class=\"sk-estimator sk-toggleable\"><input class=\"sk-toggleable__control sk-hidden--visually\" id=\"sk-estimator-id-1\" type=\"checkbox\" checked><label for=\"sk-estimator-id-1\" class=\"sk-toggleable__label sk-toggleable__label-arrow\">DecisionTreeClassifier</label><div class=\"sk-toggleable__content\"><pre>DecisionTreeClassifier(criterion=&#x27;entropy&#x27;, random_state=100)</pre></div></div></div></div></div>"
      ],
      "text/plain": [
       "DecisionTreeClassifier(criterion='entropy', random_state=100)"
      ]
     },
     "execution_count": 13,
     "metadata": {},
     "output_type": "execute_result"
    }
   ],
   "source": [
    "DTC_model.fit(X_train, y_train)"
   ]
  },
  {
   "cell_type": "code",
   "execution_count": 14,
   "id": "728fb89e",
   "metadata": {
    "execution": {
     "iopub.execute_input": "2024-05-10T08:46:07.057292Z",
     "iopub.status.busy": "2024-05-10T08:46:07.056969Z",
     "iopub.status.idle": "2024-05-10T08:46:07.515471Z",
     "shell.execute_reply": "2024-05-10T08:46:07.514546Z"
    },
    "executionInfo": {
     "elapsed": 9438,
     "status": "ok",
     "timestamp": 1714445409947,
     "user": {
      "displayName": "Văn Tiến Phạm",
      "userId": "12820767994936355268"
     },
     "user_tz": -420
    },
    "id": "4E-gt8Q6TEW4",
    "outputId": "68b7a55e-86d6-430a-fd6f-f9e4f07e86e2",
    "papermill": {
     "duration": 0.485943,
     "end_time": "2024-05-10T08:46:07.517490",
     "exception": false,
     "start_time": "2024-05-10T08:46:07.031547",
     "status": "completed"
    },
    "tags": []
   },
   "outputs": [
    {
     "name": "stdout",
     "output_type": "stream",
     "text": [
      "\n",
      "--------------- DECISION TREE ---------------\n",
      "\n",
      "BÁO CÁO PHÂN LOẠI:\n",
      "               precision    recall  f1-score   support\n",
      "\n",
      "           0       0.91      0.92      0.92     28812\n",
      "           1       0.92      0.91      0.91     28820\n",
      "\n",
      "    accuracy                           0.91     57632\n",
      "   macro avg       0.92      0.91      0.91     57632\n",
      "weighted avg       0.92      0.91      0.91     57632\n",
      "\n",
      "\n",
      "MA TRẬN NHẦM LẪN:\n",
      " <sklearn.metrics._plot.confusion_matrix.ConfusionMatrixDisplay object at 0x7b6e04b85c60>\n",
      "Train Accuracy:  0.9936059273140557\n",
      "Test Accuracy:  0.9149604386451972\n",
      "F1 Score:  0.914346633111379\n",
      "Recall:  0.9076682859125608\n",
      "Precision:  0.9211239832388465\n"
     ]
    },
    {
     "data": {
      "image/png": "[encoded data removed]",
      "text/plain": [
       "<Figure size 640x480 with 2 Axes>"
      ]
     },
     "metadata": {},
     "output_type": "display_data"
    }
   ],
   "source": [
    "# Sử dụng mô hình đã huấn luyện để đưa ra dự đoán trên tập kiểm tra.\n",
    "pred_DT_test = DTC_model.predict(X_test)\n",
    "\n",
    "# Sử dụng mô hình đã huấn luyện để đưa ra dự đoán trên tập huấn luyện.\n",
    "pred_DT_train = DTC_model.predict(X_train)\n",
    "\n",
    "print('\\n--------------- DECISION TREE ---------------\\n')\n",
    "print('BÁO CÁO PHÂN LOẠI:\\n', classification_report(y_test, pred_DT_test, target_names=['0','1']))\n",
    "\n",
    "# Tạo đối tượng biểu diễn ma trận nhầm lẫn.\n",
    "disp = ConfusionMatrixDisplay(confusion_matrix=confusion_matrix(y_test, pred_DT_test),display_labels=['0','1'])\n",
    "print('\\nMA TRẬN NHẦM LẪN:\\n',disp.plot())\n",
    "\n",
    "acc_train = accuracy_score(y_train,pred_DT_train)\n",
    "acc_test = accuracy_score(y_test,pred_DT_test)\n",
    "f1 = f1_score(y_test,pred_DT_test)\n",
    "recall = recall_score(y_test,pred_DT_test)\n",
    "precision = precision_score(y_test,pred_DT_test)\n",
    "\n",
    "print(\"Train Accuracy: \", acc_train)\n",
    "print(\"Test Accuracy: \", acc_test)\n",
    "print(\"F1 Score: \", f1)\n",
    "print(\"Recall: \", recall)\n",
    "print(\"Precision: \", precision)"
   ]
  },
  {
   "cell_type": "code",
   "execution_count": 15,
   "id": "5078b308",
   "metadata": {
    "execution": {
     "iopub.execute_input": "2024-05-10T08:46:07.570276Z",
     "iopub.status.busy": "2024-05-10T08:46:07.569644Z",
     "iopub.status.idle": "2024-05-10T08:46:07.573979Z",
     "shell.execute_reply": "2024-05-10T08:46:07.573133Z"
    },
    "papermill": {
     "duration": 0.031927,
     "end_time": "2024-05-10T08:46:07.575892",
     "exception": false,
     "start_time": "2024-05-10T08:46:07.543965",
     "status": "completed"
    },
    "tags": []
   },
   "outputs": [],
   "source": [
    "storeResults('Decision Tree', acc_train, acc_test, f1, recall, precision, 0)"
   ]
  },
  {
   "cell_type": "markdown",
   "id": "f0007198",
   "metadata": {
    "papermill": {
     "duration": 0.024589,
     "end_time": "2024-05-10T08:46:07.625261",
     "exception": false,
     "start_time": "2024-05-10T08:46:07.600672",
     "status": "completed"
    },
    "tags": []
   },
   "source": [
    "## Hyperparameter Tuning"
   ]
  },
  {
   "cell_type": "code",
   "execution_count": 16,
   "id": "cd9c4175",
   "metadata": {
    "execution": {
     "iopub.execute_input": "2024-05-10T08:46:07.677025Z",
     "iopub.status.busy": "2024-05-10T08:46:07.676710Z",
     "iopub.status.idle": "2024-05-10T08:46:07.682995Z",
     "shell.execute_reply": "2024-05-10T08:46:07.682138Z"
    },
    "papermill": {
     "duration": 0.034471,
     "end_time": "2024-05-10T08:46:07.684909",
     "exception": false,
     "start_time": "2024-05-10T08:46:07.650438",
     "status": "completed"
    },
    "tags": []
   },
   "outputs": [],
   "source": [
    "# the number of features to be considered when looking for the best split in the decision tree\n",
    "max_features = [None, 'sqrt', 'log2']\n",
    "\n",
    "# the required minimal amount of samples to be present at a leaf node.\n",
    "min_samples_leaf = [1, 2, 4]\n",
    "\n",
    "# Minimum number of samples required to split a node\n",
    "min_samples_split = [2, 5, 10]\n",
    "\n",
    "# maximum depth to which the decision tree is allowed to grow.\n",
    "max_depth = [None, 10, 20, 30]\n",
    "\n",
    "param_grid = {\n",
    "    'min_samples_leaf': min_samples_leaf, \n",
    "    'max_features': max_features, \n",
    "    'max_depth': max_depth,\n",
    "    'min_samples_split': min_samples_split, \n",
    "}\n",
    "\n",
    "# cv : 3-fold cross validation\n",
    "# verbose: Controls the verbosity: the higher, the more messages.\n",
    "grid = GridSearchCV(DecisionTreeClassifier(random_state = 100, criterion = 'entropy'), param_grid = param_grid, cv = 3,scoring = \"accuracy\", verbose = 1, n_jobs = -1, return_train_score=True)"
   ]
  },
  {
   "cell_type": "code",
   "execution_count": 17,
   "id": "5400d605",
   "metadata": {
    "execution": {
     "iopub.execute_input": "2024-05-10T08:46:07.735960Z",
     "iopub.status.busy": "2024-05-10T08:46:07.735188Z",
     "iopub.status.idle": "2024-05-10T08:47:27.411120Z",
     "shell.execute_reply": "2024-05-10T08:47:27.410081Z"
    },
    "papermill": {
     "duration": 79.728597,
     "end_time": "2024-05-10T08:47:27.438521",
     "exception": false,
     "start_time": "2024-05-10T08:46:07.709924",
     "status": "completed"
    },
    "tags": []
   },
   "outputs": [
    {
     "name": "stdout",
     "output_type": "stream",
     "text": [
      "Fitting 3 folds for each of 108 candidates, totalling 324 fits\n"
     ]
    },
    {
     "data": {
      "text/html": [
       "<style>#sk-container-id-2 {color: black;background-color: white;}#sk-container-id-2 pre{padding: 0;}#sk-container-id-2 div.sk-toggleable {background-color: white;}#sk-container-id-2 label.sk-toggleable__label {cursor: pointer;display: block;width: 100%;margin-bottom: 0;padding: 0.3em;box-sizing: border-box;text-align: center;}#sk-container-id-2 label.sk-toggleable__label-arrow:before {content: \"▸\";float: left;margin-right: 0.25em;color: #696969;}#sk-container-id-2 label.sk-toggleable__label-arrow:hover:before {color: black;}#sk-container-id-2 div.sk-estimator:hover label.sk-toggleable__label-arrow:before {color: black;}#sk-container-id-2 div.sk-toggleable__content {max-height: 0;max-width: 0;overflow: hidden;text-align: left;background-color: #f0f8ff;}#sk-container-id-2 div.sk-toggleable__content pre {margin: 0.2em;color: black;border-radius: 0.25em;background-color: #f0f8ff;}#sk-container-id-2 input.sk-toggleable__control:checked~div.sk-toggleable__content {max-height: 200px;max-width: 100%;overflow: auto;}#sk-container-id-2 input.sk-toggleable__control:checked~label.sk-toggleable__label-arrow:before {content: \"▾\";}#sk-container-id-2 div.sk-estimator input.sk-toggleable__control:checked~label.sk-toggleable__label {background-color: #d4ebff;}#sk-container-id-2 div.sk-label input.sk-toggleable__control:checked~label.sk-toggleable__label {background-color: #d4ebff;}#sk-container-id-2 input.sk-hidden--visually {border: 0;clip: rect(1px 1px 1px 1px);clip: rect(1px, 1px, 1px, 1px);height: 1px;margin: -1px;overflow: hidden;padding: 0;position: absolute;width: 1px;}#sk-container-id-2 div.sk-estimator {font-family: monospace;background-color: #f0f8ff;border: 1px dotted black;border-radius: 0.25em;box-sizing: border-box;margin-bottom: 0.5em;}#sk-container-id-2 div.sk-estimator:hover {background-color: #d4ebff;}#sk-container-id-2 div.sk-parallel-item::after {content: \"\";width: 100%;border-bottom: 1px solid gray;flex-grow: 1;}#sk-container-id-2 div.sk-label:hover label.sk-toggleable__label {background-color: #d4ebff;}#sk-container-id-2 div.sk-serial::before {content: \"\";position: absolute;border-left: 1px solid gray;box-sizing: border-box;top: 0;bottom: 0;left: 50%;z-index: 0;}#sk-container-id-2 div.sk-serial {display: flex;flex-direction: column;align-items: center;background-color: white;padding-right: 0.2em;padding-left: 0.2em;position: relative;}#sk-container-id-2 div.sk-item {position: relative;z-index: 1;}#sk-container-id-2 div.sk-parallel {display: flex;align-items: stretch;justify-content: center;background-color: white;position: relative;}#sk-container-id-2 div.sk-item::before, #sk-container-id-2 div.sk-parallel-item::before {content: \"\";position: absolute;border-left: 1px solid gray;box-sizing: border-box;top: 0;bottom: 0;left: 50%;z-index: -1;}#sk-container-id-2 div.sk-parallel-item {display: flex;flex-direction: column;z-index: 1;position: relative;background-color: white;}#sk-container-id-2 div.sk-parallel-item:first-child::after {align-self: flex-end;width: 50%;}#sk-container-id-2 div.sk-parallel-item:last-child::after {align-self: flex-start;width: 50%;}#sk-container-id-2 div.sk-parallel-item:only-child::after {width: 0;}#sk-container-id-2 div.sk-dashed-wrapped {border: 1px dashed gray;margin: 0 0.4em 0.5em 0.4em;box-sizing: border-box;padding-bottom: 0.4em;background-color: white;}#sk-container-id-2 div.sk-label label {font-family: monospace;font-weight: bold;display: inline-block;line-height: 1.2em;}#sk-container-id-2 div.sk-label-container {text-align: center;}#sk-container-id-2 div.sk-container {/* jupyter's `normalize.less` sets `[hidden] { display: none; }` but bootstrap.min.css set `[hidden] { display: none !important; }` so we also need the `!important` here to be able to override the default hidden behavior on the sphinx rendered scikit-learn.org. See: https://github.com/scikit-learn/scikit-learn/issues/21755 */display: inline-block !important;position: relative;}#sk-container-id-2 div.sk-text-repr-fallback {display: none;}</style><div id=\"sk-container-id-2\" class=\"sk-top-container\"><div class=\"sk-text-repr-fallback\"><pre>GridSearchCV(cv=3,\n",
       "             estimator=DecisionTreeClassifier(criterion=&#x27;entropy&#x27;,\n",
       "                                              random_state=100),\n",
       "             n_jobs=-1,\n",
       "             param_grid={&#x27;max_depth&#x27;: [None, 10, 20, 30],\n",
       "                         &#x27;max_features&#x27;: [None, &#x27;sqrt&#x27;, &#x27;log2&#x27;],\n",
       "                         &#x27;min_samples_leaf&#x27;: [1, 2, 4],\n",
       "                         &#x27;min_samples_split&#x27;: [2, 5, 10]},\n",
       "             return_train_score=True, scoring=&#x27;accuracy&#x27;, verbose=1)</pre><b>In a Jupyter environment, please rerun this cell to show the HTML representation or trust the notebook. <br />On GitHub, the HTML representation is unable to render, please try loading this page with nbviewer.org.</b></div><div class=\"sk-container\" hidden><div class=\"sk-item sk-dashed-wrapped\"><div class=\"sk-label-container\"><div class=\"sk-label sk-toggleable\"><input class=\"sk-toggleable__control sk-hidden--visually\" id=\"sk-estimator-id-2\" type=\"checkbox\" ><label for=\"sk-estimator-id-2\" class=\"sk-toggleable__label sk-toggleable__label-arrow\">GridSearchCV</label><div class=\"sk-toggleable__content\"><pre>GridSearchCV(cv=3,\n",
       "             estimator=DecisionTreeClassifier(criterion=&#x27;entropy&#x27;,\n",
       "                                              random_state=100),\n",
       "             n_jobs=-1,\n",
       "             param_grid={&#x27;max_depth&#x27;: [None, 10, 20, 30],\n",
       "                         &#x27;max_features&#x27;: [None, &#x27;sqrt&#x27;, &#x27;log2&#x27;],\n",
       "                         &#x27;min_samples_leaf&#x27;: [1, 2, 4],\n",
       "                         &#x27;min_samples_split&#x27;: [2, 5, 10]},\n",
       "             return_train_score=True, scoring=&#x27;accuracy&#x27;, verbose=1)</pre></div></div></div><div class=\"sk-parallel\"><div class=\"sk-parallel-item\"><div class=\"sk-item\"><div class=\"sk-label-container\"><div class=\"sk-label sk-toggleable\"><input class=\"sk-toggleable__control sk-hidden--visually\" id=\"sk-estimator-id-3\" type=\"checkbox\" ><label for=\"sk-estimator-id-3\" class=\"sk-toggleable__label sk-toggleable__label-arrow\">estimator: DecisionTreeClassifier</label><div class=\"sk-toggleable__content\"><pre>DecisionTreeClassifier(criterion=&#x27;entropy&#x27;, random_state=100)</pre></div></div></div><div class=\"sk-serial\"><div class=\"sk-item\"><div class=\"sk-estimator sk-toggleable\"><input class=\"sk-toggleable__control sk-hidden--visually\" id=\"sk-estimator-id-4\" type=\"checkbox\" ><label for=\"sk-estimator-id-4\" class=\"sk-toggleable__label sk-toggleable__label-arrow\">DecisionTreeClassifier</label><div class=\"sk-toggleable__content\"><pre>DecisionTreeClassifier(criterion=&#x27;entropy&#x27;, random_state=100)</pre></div></div></div></div></div></div></div></div></div></div>"
      ],
      "text/plain": [
       "GridSearchCV(cv=3,\n",
       "             estimator=DecisionTreeClassifier(criterion='entropy',\n",
       "                                              random_state=100),\n",
       "             n_jobs=-1,\n",
       "             param_grid={'max_depth': [None, 10, 20, 30],\n",
       "                         'max_features': [None, 'sqrt', 'log2'],\n",
       "                         'min_samples_leaf': [1, 2, 4],\n",
       "                         'min_samples_split': [2, 5, 10]},\n",
       "             return_train_score=True, scoring='accuracy', verbose=1)"
      ]
     },
     "execution_count": 17,
     "metadata": {},
     "output_type": "execute_result"
    }
   ],
   "source": [
    "# Huấn luyện mô hình với Grid Search.\n",
    "grid.fit(X_train, y_train)"
   ]
  },
  {
   "cell_type": "code",
   "execution_count": 18,
   "id": "68093e2a",
   "metadata": {
    "execution": {
     "iopub.execute_input": "2024-05-10T08:47:27.490577Z",
     "iopub.status.busy": "2024-05-10T08:47:27.490247Z",
     "iopub.status.idle": "2024-05-10T08:47:27.496613Z",
     "shell.execute_reply": "2024-05-10T08:47:27.495618Z"
    },
    "papermill": {
     "duration": 0.035215,
     "end_time": "2024-05-10T08:47:27.498621",
     "exception": false,
     "start_time": "2024-05-10T08:47:27.463406",
     "status": "completed"
    },
    "tags": []
   },
   "outputs": [
    {
     "data": {
      "text/plain": [
       "{'max_depth': None,\n",
       " 'max_features': None,\n",
       " 'min_samples_leaf': 2,\n",
       " 'min_samples_split': 10}"
      ]
     },
     "execution_count": 18,
     "metadata": {},
     "output_type": "execute_result"
    }
   ],
   "source": [
    "grid.best_params_"
   ]
  },
  {
   "cell_type": "code",
   "execution_count": 19,
   "id": "1c213f4b",
   "metadata": {
    "execution": {
     "iopub.execute_input": "2024-05-10T08:47:27.550996Z",
     "iopub.status.busy": "2024-05-10T08:47:27.550701Z",
     "iopub.status.idle": "2024-05-10T08:47:27.555181Z",
     "shell.execute_reply": "2024-05-10T08:47:27.554304Z"
    },
    "papermill": {
     "duration": 0.032529,
     "end_time": "2024-05-10T08:47:27.557140",
     "exception": false,
     "start_time": "2024-05-10T08:47:27.524611",
     "status": "completed"
    },
    "tags": []
   },
   "outputs": [],
   "source": [
    "DTC_grid = DecisionTreeClassifier(random_state = 100, \n",
    "                                   criterion = \"entropy\",\n",
    "                                     max_depth = None,\n",
    "                                     max_features = None,\n",
    "                                     min_samples_leaf = 2,\n",
    "                                     min_samples_split = 10\n",
    "                                 )"
   ]
  },
  {
   "cell_type": "code",
   "execution_count": 20,
   "id": "af5855e4",
   "metadata": {
    "execution": {
     "iopub.execute_input": "2024-05-10T08:47:27.607920Z",
     "iopub.status.busy": "2024-05-10T08:47:27.607670Z",
     "iopub.status.idle": "2024-05-10T08:47:29.538449Z",
     "shell.execute_reply": "2024-05-10T08:47:29.537616Z"
    },
    "papermill": {
     "duration": 1.958521,
     "end_time": "2024-05-10T08:47:29.540563",
     "exception": false,
     "start_time": "2024-05-10T08:47:27.582042",
     "status": "completed"
    },
    "tags": []
   },
   "outputs": [
    {
     "data": {
      "text/html": [
       "<style>#sk-container-id-3 {color: black;background-color: white;}#sk-container-id-3 pre{padding: 0;}#sk-container-id-3 div.sk-toggleable {background-color: white;}#sk-container-id-3 label.sk-toggleable__label {cursor: pointer;display: block;width: 100%;margin-bottom: 0;padding: 0.3em;box-sizing: border-box;text-align: center;}#sk-container-id-3 label.sk-toggleable__label-arrow:before {content: \"▸\";float: left;margin-right: 0.25em;color: #696969;}#sk-container-id-3 label.sk-toggleable__label-arrow:hover:before {color: black;}#sk-container-id-3 div.sk-estimator:hover label.sk-toggleable__label-arrow:before {color: black;}#sk-container-id-3 div.sk-toggleable__content {max-height: 0;max-width: 0;overflow: hidden;text-align: left;background-color: #f0f8ff;}#sk-container-id-3 div.sk-toggleable__content pre {margin: 0.2em;color: black;border-radius: 0.25em;background-color: #f0f8ff;}#sk-container-id-3 input.sk-toggleable__control:checked~div.sk-toggleable__content {max-height: 200px;max-width: 100%;overflow: auto;}#sk-container-id-3 input.sk-toggleable__control:checked~label.sk-toggleable__label-arrow:before {content: \"▾\";}#sk-container-id-3 div.sk-estimator input.sk-toggleable__control:checked~label.sk-toggleable__label {background-color: #d4ebff;}#sk-container-id-3 div.sk-label input.sk-toggleable__control:checked~label.sk-toggleable__label {background-color: #d4ebff;}#sk-container-id-3 input.sk-hidden--visually {border: 0;clip: rect(1px 1px 1px 1px);clip: rect(1px, 1px, 1px, 1px);height: 1px;margin: -1px;overflow: hidden;padding: 0;position: absolute;width: 1px;}#sk-container-id-3 div.sk-estimator {font-family: monospace;background-color: #f0f8ff;border: 1px dotted black;border-radius: 0.25em;box-sizing: border-box;margin-bottom: 0.5em;}#sk-container-id-3 div.sk-estimator:hover {background-color: #d4ebff;}#sk-container-id-3 div.sk-parallel-item::after {content: \"\";width: 100%;border-bottom: 1px solid gray;flex-grow: 1;}#sk-container-id-3 div.sk-label:hover label.sk-toggleable__label {background-color: #d4ebff;}#sk-container-id-3 div.sk-serial::before {content: \"\";position: absolute;border-left: 1px solid gray;box-sizing: border-box;top: 0;bottom: 0;left: 50%;z-index: 0;}#sk-container-id-3 div.sk-serial {display: flex;flex-direction: column;align-items: center;background-color: white;padding-right: 0.2em;padding-left: 0.2em;position: relative;}#sk-container-id-3 div.sk-item {position: relative;z-index: 1;}#sk-container-id-3 div.sk-parallel {display: flex;align-items: stretch;justify-content: center;background-color: white;position: relative;}#sk-container-id-3 div.sk-item::before, #sk-container-id-3 div.sk-parallel-item::before {content: \"\";position: absolute;border-left: 1px solid gray;box-sizing: border-box;top: 0;bottom: 0;left: 50%;z-index: -1;}#sk-container-id-3 div.sk-parallel-item {display: flex;flex-direction: column;z-index: 1;position: relative;background-color: white;}#sk-container-id-3 div.sk-parallel-item:first-child::after {align-self: flex-end;width: 50%;}#sk-container-id-3 div.sk-parallel-item:last-child::after {align-self: flex-start;width: 50%;}#sk-container-id-3 div.sk-parallel-item:only-child::after {width: 0;}#sk-container-id-3 div.sk-dashed-wrapped {border: 1px dashed gray;margin: 0 0.4em 0.5em 0.4em;box-sizing: border-box;padding-bottom: 0.4em;background-color: white;}#sk-container-id-3 div.sk-label label {font-family: monospace;font-weight: bold;display: inline-block;line-height: 1.2em;}#sk-container-id-3 div.sk-label-container {text-align: center;}#sk-container-id-3 div.sk-container {/* jupyter's `normalize.less` sets `[hidden] { display: none; }` but bootstrap.min.css set `[hidden] { display: none !important; }` so we also need the `!important` here to be able to override the default hidden behavior on the sphinx rendered scikit-learn.org. See: https://github.com/scikit-learn/scikit-learn/issues/21755 */display: inline-block !important;position: relative;}#sk-container-id-3 div.sk-text-repr-fallback {display: none;}</style><div id=\"sk-container-id-3\" class=\"sk-top-container\"><div class=\"sk-text-repr-fallback\"><pre>DecisionTreeClassifier(criterion=&#x27;entropy&#x27;, min_samples_leaf=2,\n",
       "                       min_samples_split=10, random_state=100)</pre><b>In a Jupyter environment, please rerun this cell to show the HTML representation or trust the notebook. <br />On GitHub, the HTML representation is unable to render, please try loading this page with nbviewer.org.</b></div><div class=\"sk-container\" hidden><div class=\"sk-item\"><div class=\"sk-estimator sk-toggleable\"><input class=\"sk-toggleable__control sk-hidden--visually\" id=\"sk-estimator-id-5\" type=\"checkbox\" checked><label for=\"sk-estimator-id-5\" class=\"sk-toggleable__label sk-toggleable__label-arrow\">DecisionTreeClassifier</label><div class=\"sk-toggleable__content\"><pre>DecisionTreeClassifier(criterion=&#x27;entropy&#x27;, min_samples_leaf=2,\n",
       "                       min_samples_split=10, random_state=100)</pre></div></div></div></div></div>"
      ],
      "text/plain": [
       "DecisionTreeClassifier(criterion='entropy', min_samples_leaf=2,\n",
       "                       min_samples_split=10, random_state=100)"
      ]
     },
     "execution_count": 20,
     "metadata": {},
     "output_type": "execute_result"
    }
   ],
   "source": [
    "DTC_grid.fit(X_train, y_train)"
   ]
  },
  {
   "cell_type": "code",
   "execution_count": 21,
   "id": "54685853",
   "metadata": {
    "execution": {
     "iopub.execute_input": "2024-05-10T08:47:29.594836Z",
     "iopub.status.busy": "2024-05-10T08:47:29.594541Z",
     "iopub.status.idle": "2024-05-10T08:47:30.007578Z",
     "shell.execute_reply": "2024-05-10T08:47:30.006580Z"
    },
    "papermill": {
     "duration": 0.441085,
     "end_time": "2024-05-10T08:47:30.009529",
     "exception": false,
     "start_time": "2024-05-10T08:47:29.568444",
     "status": "completed"
    },
    "tags": []
   },
   "outputs": [
    {
     "name": "stdout",
     "output_type": "stream",
     "text": [
      "\n",
      "--------------- DECISION TREE AFTER TUNING ---------------\n",
      "\n",
      "BÁO CÁO PHÂN LOẠI:\n",
      "               precision    recall  f1-score   support\n",
      "\n",
      "           0       0.90      0.93      0.92     28812\n",
      "           1       0.93      0.90      0.92     28820\n",
      "\n",
      "    accuracy                           0.92     57632\n",
      "   macro avg       0.92      0.92      0.92     57632\n",
      "weighted avg       0.92      0.92      0.92     57632\n",
      "\n",
      "\n",
      "MA TRẬN NHẦM LẪN:\n",
      " <sklearn.metrics._plot.confusion_matrix.ConfusionMatrixDisplay object at 0x7b6de7015900>\n",
      "Train Accuracy:  0.9655136513885636\n",
      "Test Accuracy:  0.9167649916712938\n",
      "F1 Score:  0.9155294159080103\n",
      "Recall:  0.9020124913254685\n",
      "Precision:  0.9294576137866924\n"
     ]
    },
    {
     "data": {
      "image/png": "[encoded data removed]",
      "text/plain": [
       "<Figure size 640x480 with 2 Axes>"
      ]
     },
     "metadata": {},
     "output_type": "display_data"
    }
   ],
   "source": [
    "pred_DT_test = DTC_grid.predict(X_test)\n",
    "\n",
    "pred_DT_train = DTC_grid.predict(X_train)\n",
    "\n",
    "print('\\n--------------- DECISION TREE AFTER TUNING ---------------\\n')\n",
    "print('BÁO CÁO PHÂN LOẠI:\\n', classification_report(y_test, pred_DT_test, target_names=['0','1']))\n",
    "\n",
    "disp = ConfusionMatrixDisplay(confusion_matrix=confusion_matrix(y_test, pred_DT_test),display_labels=['0','1'])\n",
    "print('\\nMA TRẬN NHẦM LẪN:\\n',disp.plot())\n",
    "\n",
    "acc_train = accuracy_score(y_train,pred_DT_train)\n",
    "acc_test = accuracy_score(y_test,pred_DT_test)\n",
    "f1 = f1_score(y_test,pred_DT_test)\n",
    "recall = recall_score(y_test,pred_DT_test)\n",
    "precision = precision_score(y_test,pred_DT_test)\n",
    "\n",
    "print(\"Train Accuracy: \", acc_train)\n",
    "print(\"Test Accuracy: \", acc_test)\n",
    "print(\"F1 Score: \", f1)\n",
    "print(\"Recall: \", recall)\n",
    "print(\"Precision: \", precision)"
   ]
  },
  {
   "cell_type": "code",
   "execution_count": 22,
   "id": "65d3d406",
   "metadata": {
    "execution": {
     "iopub.execute_input": "2024-05-10T08:47:30.062655Z",
     "iopub.status.busy": "2024-05-10T08:47:30.062325Z",
     "iopub.status.idle": "2024-05-10T08:47:30.429089Z",
     "shell.execute_reply": "2024-05-10T08:47:30.428116Z"
    },
    "executionInfo": {
     "elapsed": 2263,
     "status": "ok",
     "timestamp": 1714445412205,
     "user": {
      "displayName": "Văn Tiến Phạm",
      "userId": "12820767994936355268"
     },
     "user_tz": -420
    },
    "id": "rYkQL1F7Zxe1",
    "outputId": "dfed709f-7012-4459-9cad-ab48dd02e2d6",
    "papermill": {
     "duration": 0.395568,
     "end_time": "2024-05-10T08:47:30.431175",
     "exception": false,
     "start_time": "2024-05-10T08:47:30.035607",
     "status": "completed"
    },
    "tags": []
   },
   "outputs": [
    {
     "data": {
      "image/png": "[encoded data removed]",
      "text/plain": [
       "<Figure size 900x700 with 1 Axes>"
      ]
     },
     "metadata": {},
     "output_type": "display_data"
    }
   ],
   "source": [
    "# Lấy tầm quan trọng của các đặc trưng từ mô hình cây quyết định đã được huấn luyện.\n",
    "importances = DTC_grid.feature_importances_\n",
    "\n",
    "# Sắp xếp các đặc trưng theo tầm quan trọng giảm dần.\n",
    "indices = np.argsort(importances)\n",
    "\n",
    "plt.figure(figsize = (9, 7)) # Rộng: 9, Cao: 7\n",
    "\n",
    "# Lấy số lượng đặc trưng trong tập huấn luyện.\n",
    "n_features = X_train.shape[1]\n",
    "\n",
    "# Tạo biểu đồ.\n",
    "plt.barh(range(n_features), importances[indices], align = 'center')\n",
    "\n",
    "# Đặt nhãn cho trục y bằng tên các đặc trưng được sắp xếp theo tầm quan trọng.\n",
    "plt.yticks(np.arange(n_features), X_train.columns[indices])\n",
    "for index, value in enumerate(importances[indices]):\n",
    "    plt.text(value, index, str(round(value,3)))\n",
    "plt.xlabel(\"ĐẶC TRƯNG QUAN TRỌNG\")\n",
    "plt.ylabel(\"ĐẶC TRƯNG\")\n",
    "plt.show()"
   ]
  },
  {
   "cell_type": "code",
   "execution_count": 23,
   "id": "595732b3",
   "metadata": {
    "execution": {
     "iopub.execute_input": "2024-05-10T08:47:30.487074Z",
     "iopub.status.busy": "2024-05-10T08:47:30.486742Z",
     "iopub.status.idle": "2024-05-10T08:47:30.491143Z",
     "shell.execute_reply": "2024-05-10T08:47:30.490269Z"
    },
    "executionInfo": {
     "elapsed": 520,
     "status": "ok",
     "timestamp": 1714445412722,
     "user": {
      "displayName": "Văn Tiến Phạm",
      "userId": "12820767994936355268"
     },
     "user_tz": -420
    },
    "id": "yVkvFUL8T2e-",
    "papermill": {
     "duration": 0.03429,
     "end_time": "2024-05-10T08:47:30.492988",
     "exception": false,
     "start_time": "2024-05-10T08:47:30.458698",
     "status": "completed"
    },
    "tags": []
   },
   "outputs": [],
   "source": [
    "storeResults('Decision Tree', acc_train, acc_test, f1, recall, precision, 1)"
   ]
  },
  {
   "cell_type": "markdown",
   "id": "0f7305c3",
   "metadata": {
    "id": "SFuNYkbue-t0",
    "papermill": {
     "duration": 0.027128,
     "end_time": "2024-05-10T08:47:30.547367",
     "exception": false,
     "start_time": "2024-05-10T08:47:30.520239",
     "status": "completed"
    },
    "tags": []
   },
   "source": [
    "# Random Forest"
   ]
  },
  {
   "cell_type": "code",
   "execution_count": 24,
   "id": "e2efebd2",
   "metadata": {
    "execution": {
     "iopub.execute_input": "2024-05-10T08:47:30.602360Z",
     "iopub.status.busy": "2024-05-10T08:47:30.601865Z",
     "iopub.status.idle": "2024-05-10T08:47:30.656410Z",
     "shell.execute_reply": "2024-05-10T08:47:30.655438Z"
    },
    "executionInfo": {
     "elapsed": 809,
     "status": "ok",
     "timestamp": 1714446120123,
     "user": {
      "displayName": "Văn Tiến Phạm",
      "userId": "12820767994936355268"
     },
     "user_tz": -420
    },
    "id": "A2THx4KM4Q1G",
    "outputId": "cd6cfda8-1f1d-47b0-9439-56f14d741108",
    "papermill": {
     "duration": 0.084035,
     "end_time": "2024-05-10T08:47:30.658304",
     "exception": false,
     "start_time": "2024-05-10T08:47:30.574269",
     "status": "completed"
    },
    "tags": []
   },
   "outputs": [
    {
     "name": "stdout",
     "output_type": "stream",
     "text": [
      "bootstrap=True, ccp_alpha=0.0, class_weight=None, criterion=entropy,\n",
      "max_depth=None, max_features=sqrt, max_leaf_nodes=None,\n",
      "max_samples=None, min_impurity_decrease=0.0, min_samples_leaf=1,\n",
      "min_samples_split=2, min_weight_fraction_leaf=0.0, n_estimators=100,\n",
      "n_jobs=None, oob_score=False, random_state=100, verbose=0,\n",
      "warm_start=False\n"
     ]
    }
   ],
   "source": [
    "from sklearn.ensemble import RandomForestClassifier\n",
    "\n",
    "RFC_model = RandomForestClassifier(random_state = 100,\n",
    "                                   criterion = \"entropy\"\n",
    "                                  ) \n",
    "\n",
    "params = RFC_model.get_params()\n",
    "params_str = ', '.join(f'{k}={v}' for k, v in params.items())\n",
    "\n",
    "print(textwrap.fill(params_str, width=70))"
   ]
  },
  {
   "cell_type": "code",
   "execution_count": 25,
   "id": "f10a7d3a",
   "metadata": {
    "execution": {
     "iopub.execute_input": "2024-05-10T08:47:30.713962Z",
     "iopub.status.busy": "2024-05-10T08:47:30.713433Z",
     "iopub.status.idle": "2024-05-10T08:48:07.333806Z",
     "shell.execute_reply": "2024-05-10T08:48:07.332743Z"
    },
    "papermill": {
     "duration": 36.677705,
     "end_time": "2024-05-10T08:48:07.363165",
     "exception": false,
     "start_time": "2024-05-10T08:47:30.685460",
     "status": "completed"
    },
    "tags": []
   },
   "outputs": [
    {
     "data": {
      "text/html": [
       "<style>#sk-container-id-4 {color: black;background-color: white;}#sk-container-id-4 pre{padding: 0;}#sk-container-id-4 div.sk-toggleable {background-color: white;}#sk-container-id-4 label.sk-toggleable__label {cursor: pointer;display: block;width: 100%;margin-bottom: 0;padding: 0.3em;box-sizing: border-box;text-align: center;}#sk-container-id-4 label.sk-toggleable__label-arrow:before {content: \"▸\";float: left;margin-right: 0.25em;color: #696969;}#sk-container-id-4 label.sk-toggleable__label-arrow:hover:before {color: black;}#sk-container-id-4 div.sk-estimator:hover label.sk-toggleable__label-arrow:before {color: black;}#sk-container-id-4 div.sk-toggleable__content {max-height: 0;max-width: 0;overflow: hidden;text-align: left;background-color: #f0f8ff;}#sk-container-id-4 div.sk-toggleable__content pre {margin: 0.2em;color: black;border-radius: 0.25em;background-color: #f0f8ff;}#sk-container-id-4 input.sk-toggleable__control:checked~div.sk-toggleable__content {max-height: 200px;max-width: 100%;overflow: auto;}#sk-container-id-4 input.sk-toggleable__control:checked~label.sk-toggleable__label-arrow:before {content: \"▾\";}#sk-container-id-4 div.sk-estimator input.sk-toggleable__control:checked~label.sk-toggleable__label {background-color: #d4ebff;}#sk-container-id-4 div.sk-label input.sk-toggleable__control:checked~label.sk-toggleable__label {background-color: #d4ebff;}#sk-container-id-4 input.sk-hidden--visually {border: 0;clip: rect(1px 1px 1px 1px);clip: rect(1px, 1px, 1px, 1px);height: 1px;margin: -1px;overflow: hidden;padding: 0;position: absolute;width: 1px;}#sk-container-id-4 div.sk-estimator {font-family: monospace;background-color: #f0f8ff;border: 1px dotted black;border-radius: 0.25em;box-sizing: border-box;margin-bottom: 0.5em;}#sk-container-id-4 div.sk-estimator:hover {background-color: #d4ebff;}#sk-container-id-4 div.sk-parallel-item::after {content: \"\";width: 100%;border-bottom: 1px solid gray;flex-grow: 1;}#sk-container-id-4 div.sk-label:hover label.sk-toggleable__label {background-color: #d4ebff;}#sk-container-id-4 div.sk-serial::before {content: \"\";position: absolute;border-left: 1px solid gray;box-sizing: border-box;top: 0;bottom: 0;left: 50%;z-index: 0;}#sk-container-id-4 div.sk-serial {display: flex;flex-direction: column;align-items: center;background-color: white;padding-right: 0.2em;padding-left: 0.2em;position: relative;}#sk-container-id-4 div.sk-item {position: relative;z-index: 1;}#sk-container-id-4 div.sk-parallel {display: flex;align-items: stretch;justify-content: center;background-color: white;position: relative;}#sk-container-id-4 div.sk-item::before, #sk-container-id-4 div.sk-parallel-item::before {content: \"\";position: absolute;border-left: 1px solid gray;box-sizing: border-box;top: 0;bottom: 0;left: 50%;z-index: -1;}#sk-container-id-4 div.sk-parallel-item {display: flex;flex-direction: column;z-index: 1;position: relative;background-color: white;}#sk-container-id-4 div.sk-parallel-item:first-child::after {align-self: flex-end;width: 50%;}#sk-container-id-4 div.sk-parallel-item:last-child::after {align-self: flex-start;width: 50%;}#sk-container-id-4 div.sk-parallel-item:only-child::after {width: 0;}#sk-container-id-4 div.sk-dashed-wrapped {border: 1px dashed gray;margin: 0 0.4em 0.5em 0.4em;box-sizing: border-box;padding-bottom: 0.4em;background-color: white;}#sk-container-id-4 div.sk-label label {font-family: monospace;font-weight: bold;display: inline-block;line-height: 1.2em;}#sk-container-id-4 div.sk-label-container {text-align: center;}#sk-container-id-4 div.sk-container {/* jupyter's `normalize.less` sets `[hidden] { display: none; }` but bootstrap.min.css set `[hidden] { display: none !important; }` so we also need the `!important` here to be able to override the default hidden behavior on the sphinx rendered scikit-learn.org. See: https://github.com/scikit-learn/scikit-learn/issues/21755 */display: inline-block !important;position: relative;}#sk-container-id-4 div.sk-text-repr-fallback {display: none;}</style><div id=\"sk-container-id-4\" class=\"sk-top-container\"><div class=\"sk-text-repr-fallback\"><pre>RandomForestClassifier(criterion=&#x27;entropy&#x27;, random_state=100)</pre><b>In a Jupyter environment, please rerun this cell to show the HTML representation or trust the notebook. <br />On GitHub, the HTML representation is unable to render, please try loading this page with nbviewer.org.</b></div><div class=\"sk-container\" hidden><div class=\"sk-item\"><div class=\"sk-estimator sk-toggleable\"><input class=\"sk-toggleable__control sk-hidden--visually\" id=\"sk-estimator-id-6\" type=\"checkbox\" checked><label for=\"sk-estimator-id-6\" class=\"sk-toggleable__label sk-toggleable__label-arrow\">RandomForestClassifier</label><div class=\"sk-toggleable__content\"><pre>RandomForestClassifier(criterion=&#x27;entropy&#x27;, random_state=100)</pre></div></div></div></div></div>"
      ],
      "text/plain": [
       "RandomForestClassifier(criterion='entropy', random_state=100)"
      ]
     },
     "execution_count": 25,
     "metadata": {},
     "output_type": "execute_result"
    }
   ],
   "source": [
    "RFC_model.fit(X_train, y_train)"
   ]
  },
  {
   "cell_type": "code",
   "execution_count": 26,
   "id": "1707b298",
   "metadata": {
    "execution": {
     "iopub.execute_input": "2024-05-10T08:48:07.419455Z",
     "iopub.status.busy": "2024-05-10T08:48:07.419124Z",
     "iopub.status.idle": "2024-05-10T08:48:13.880683Z",
     "shell.execute_reply": "2024-05-10T08:48:13.879847Z"
    },
    "executionInfo": {
     "elapsed": 96552,
     "status": "ok",
     "timestamp": 1714446216673,
     "user": {
      "displayName": "Văn Tiến Phạm",
      "userId": "12820767994936355268"
     },
     "user_tz": -420
    },
    "id": "jbNasSDNycsy",
    "outputId": "325a2db6-80f1-4907-87e9-27988f29de3c",
    "papermill": {
     "duration": 6.492289,
     "end_time": "2024-05-10T08:48:13.882656",
     "exception": false,
     "start_time": "2024-05-10T08:48:07.390367",
     "status": "completed"
    },
    "tags": []
   },
   "outputs": [
    {
     "name": "stdout",
     "output_type": "stream",
     "text": [
      "\n",
      "--------------- RANDOM FOREST ---------------\n",
      "\n",
      "BÁO CÁO PHÂN LOẠI:\n",
      "               precision    recall  f1-score   support\n",
      "\n",
      "           0       0.92      0.95      0.93     28812\n",
      "           1       0.95      0.92      0.93     28820\n",
      "\n",
      "    accuracy                           0.93     57632\n",
      "   macro avg       0.93      0.93      0.93     57632\n",
      "weighted avg       0.93      0.93      0.93     57632\n",
      "\n",
      "\n",
      "MA TRẬN NHẦM LẪN:\n",
      " <sklearn.metrics._plot.confusion_matrix.ConfusionMatrixDisplay object at 0x7b6de679a890>\n",
      "Train Accuracy:  0.9935972515030842\n",
      "Test Accuracy:  0.9335438645197113\n",
      "F1 Score:  0.9326131325216412\n",
      "Recall:  0.9196044413601665\n",
      "Precision:  0.945995145631068\n"
     ]
    },
    {
     "data": {
      "image/png": "[encoded data removed]",
      "text/plain": [
       "<Figure size 640x480 with 2 Axes>"
      ]
     },
     "metadata": {},
     "output_type": "display_data"
    }
   ],
   "source": [
    "pred_RF_test = RFC_model.predict(X_test)\n",
    "\n",
    "pred_RF_train = RFC_model.predict(X_train)\n",
    "\n",
    "print('\\n--------------- RANDOM FOREST ---------------\\n')\n",
    "print('BÁO CÁO PHÂN LOẠI:\\n', classification_report(y_test, pred_RF_test, target_names=['0','1']))\n",
    "\n",
    "disp = ConfusionMatrixDisplay(confusion_matrix=confusion_matrix(y_test, pred_RF_test),display_labels=['0','1'])\n",
    "print('\\nMA TRẬN NHẦM LẪN:\\n',disp.plot())\n",
    "\n",
    "acc_train = accuracy_score(y_train,pred_RF_train)\n",
    "acc_test = accuracy_score(y_test,pred_RF_test)\n",
    "f1 = f1_score(y_test,pred_RF_test)\n",
    "recall = recall_score(y_test,pred_RF_test)\n",
    "precision = precision_score(y_test,pred_RF_test)\n",
    "\n",
    "print(\"Train Accuracy: \", acc_train)\n",
    "print(\"Test Accuracy: \", acc_test)\n",
    "print(\"F1 Score: \", f1)\n",
    "print(\"Recall: \", recall)\n",
    "print(\"Precision: \", precision)"
   ]
  },
  {
   "cell_type": "code",
   "execution_count": 27,
   "id": "2b2ea3f1",
   "metadata": {
    "execution": {
     "iopub.execute_input": "2024-05-10T08:48:13.939662Z",
     "iopub.status.busy": "2024-05-10T08:48:13.939337Z",
     "iopub.status.idle": "2024-05-10T08:48:13.943468Z",
     "shell.execute_reply": "2024-05-10T08:48:13.942643Z"
    },
    "papermill": {
     "duration": 0.034261,
     "end_time": "2024-05-10T08:48:13.945223",
     "exception": false,
     "start_time": "2024-05-10T08:48:13.910962",
     "status": "completed"
    },
    "tags": []
   },
   "outputs": [],
   "source": [
    "storeResults('Random Forest', acc_train, acc_test, f1, recall, precision, 0)"
   ]
  },
  {
   "cell_type": "markdown",
   "id": "10118d23",
   "metadata": {
    "papermill": {
     "duration": 0.028618,
     "end_time": "2024-05-10T08:48:14.001295",
     "exception": false,
     "start_time": "2024-05-10T08:48:13.972677",
     "status": "completed"
    },
    "tags": []
   },
   "source": [
    "## Hyperparameter tuning"
   ]
  },
  {
   "cell_type": "code",
   "execution_count": 28,
   "id": "ba514bc5",
   "metadata": {
    "execution": {
     "iopub.execute_input": "2024-05-10T08:48:14.057273Z",
     "iopub.status.busy": "2024-05-10T08:48:14.056993Z",
     "iopub.status.idle": "2024-05-10T08:48:14.063007Z",
     "shell.execute_reply": "2024-05-10T08:48:14.062182Z"
    },
    "papermill": {
     "duration": 0.036036,
     "end_time": "2024-05-10T08:48:14.064815",
     "exception": false,
     "start_time": "2024-05-10T08:48:14.028779",
     "status": "completed"
    },
    "tags": []
   },
   "outputs": [],
   "source": [
    "# the number of trees to be used\n",
    "n_estimators = [50, 100, 200]\n",
    "\n",
    "# a count to select the maximum features in each tree\n",
    "max_features = ['sqrt', 'log2']\n",
    "\n",
    "# Minimum number of samples required to split a node\n",
    "min_samples_split = [2, 5]\n",
    "\n",
    "# maximum number of splits each tree can take.\n",
    "max_depth = [None, 10, 20, 30]\n",
    "\n",
    "param_grid = {\n",
    "    'n_estimators': n_estimators, \n",
    "    'max_features': max_features, \n",
    "    'max_depth': max_depth,\n",
    "    'min_samples_split': min_samples_split, \n",
    "}\n",
    "\n",
    "# cv : 3-fold cross validation\n",
    "# verbose: Controls the verbosity: the higher, the more messages.\n",
    "grid = GridSearchCV(RandomForestClassifier(random_state = 100, criterion = 'entropy'), param_grid = param_grid, cv = 3,scoring = \"accuracy\", verbose = 1, n_jobs = -1, return_train_score=True)"
   ]
  },
  {
   "cell_type": "code",
   "execution_count": 29,
   "id": "bf196c30",
   "metadata": {
    "execution": {
     "iopub.execute_input": "2024-05-10T08:48:14.120672Z",
     "iopub.status.busy": "2024-05-10T08:48:14.120404Z",
     "iopub.status.idle": "2024-05-10T09:11:58.707305Z",
     "shell.execute_reply": "2024-05-10T09:11:58.706351Z"
    },
    "papermill": {
     "duration": 1424.646545,
     "end_time": "2024-05-10T09:11:58.738788",
     "exception": false,
     "start_time": "2024-05-10T08:48:14.092243",
     "status": "completed"
    },
    "tags": []
   },
   "outputs": [
    {
     "name": "stdout",
     "output_type": "stream",
     "text": [
      "Fitting 3 folds for each of 48 candidates, totalling 144 fits\n"
     ]
    },
    {
     "data": {
      "text/html": [
       "<style>#sk-container-id-5 {color: black;background-color: white;}#sk-container-id-5 pre{padding: 0;}#sk-container-id-5 div.sk-toggleable {background-color: white;}#sk-container-id-5 label.sk-toggleable__label {cursor: pointer;display: block;width: 100%;margin-bottom: 0;padding: 0.3em;box-sizing: border-box;text-align: center;}#sk-container-id-5 label.sk-toggleable__label-arrow:before {content: \"▸\";float: left;margin-right: 0.25em;color: #696969;}#sk-container-id-5 label.sk-toggleable__label-arrow:hover:before {color: black;}#sk-container-id-5 div.sk-estimator:hover label.sk-toggleable__label-arrow:before {color: black;}#sk-container-id-5 div.sk-toggleable__content {max-height: 0;max-width: 0;overflow: hidden;text-align: left;background-color: #f0f8ff;}#sk-container-id-5 div.sk-toggleable__content pre {margin: 0.2em;color: black;border-radius: 0.25em;background-color: #f0f8ff;}#sk-container-id-5 input.sk-toggleable__control:checked~div.sk-toggleable__content {max-height: 200px;max-width: 100%;overflow: auto;}#sk-container-id-5 input.sk-toggleable__control:checked~label.sk-toggleable__label-arrow:before {content: \"▾\";}#sk-container-id-5 div.sk-estimator input.sk-toggleable__control:checked~label.sk-toggleable__label {background-color: #d4ebff;}#sk-container-id-5 div.sk-label input.sk-toggleable__control:checked~label.sk-toggleable__label {background-color: #d4ebff;}#sk-container-id-5 input.sk-hidden--visually {border: 0;clip: rect(1px 1px 1px 1px);clip: rect(1px, 1px, 1px, 1px);height: 1px;margin: -1px;overflow: hidden;padding: 0;position: absolute;width: 1px;}#sk-container-id-5 div.sk-estimator {font-family: monospace;background-color: #f0f8ff;border: 1px dotted black;border-radius: 0.25em;box-sizing: border-box;margin-bottom: 0.5em;}#sk-container-id-5 div.sk-estimator:hover {background-color: #d4ebff;}#sk-container-id-5 div.sk-parallel-item::after {content: \"\";width: 100%;border-bottom: 1px solid gray;flex-grow: 1;}#sk-container-id-5 div.sk-label:hover label.sk-toggleable__label {background-color: #d4ebff;}#sk-container-id-5 div.sk-serial::before {content: \"\";position: absolute;border-left: 1px solid gray;box-sizing: border-box;top: 0;bottom: 0;left: 50%;z-index: 0;}#sk-container-id-5 div.sk-serial {display: flex;flex-direction: column;align-items: center;background-color: white;padding-right: 0.2em;padding-left: 0.2em;position: relative;}#sk-container-id-5 div.sk-item {position: relative;z-index: 1;}#sk-container-id-5 div.sk-parallel {display: flex;align-items: stretch;justify-content: center;background-color: white;position: relative;}#sk-container-id-5 div.sk-item::before, #sk-container-id-5 div.sk-parallel-item::before {content: \"\";position: absolute;border-left: 1px solid gray;box-sizing: border-box;top: 0;bottom: 0;left: 50%;z-index: -1;}#sk-container-id-5 div.sk-parallel-item {display: flex;flex-direction: column;z-index: 1;position: relative;background-color: white;}#sk-container-id-5 div.sk-parallel-item:first-child::after {align-self: flex-end;width: 50%;}#sk-container-id-5 div.sk-parallel-item:last-child::after {align-self: flex-start;width: 50%;}#sk-container-id-5 div.sk-parallel-item:only-child::after {width: 0;}#sk-container-id-5 div.sk-dashed-wrapped {border: 1px dashed gray;margin: 0 0.4em 0.5em 0.4em;box-sizing: border-box;padding-bottom: 0.4em;background-color: white;}#sk-container-id-5 div.sk-label label {font-family: monospace;font-weight: bold;display: inline-block;line-height: 1.2em;}#sk-container-id-5 div.sk-label-container {text-align: center;}#sk-container-id-5 div.sk-container {/* jupyter's `normalize.less` sets `[hidden] { display: none; }` but bootstrap.min.css set `[hidden] { display: none !important; }` so we also need the `!important` here to be able to override the default hidden behavior on the sphinx rendered scikit-learn.org. See: https://github.com/scikit-learn/scikit-learn/issues/21755 */display: inline-block !important;position: relative;}#sk-container-id-5 div.sk-text-repr-fallback {display: none;}</style><div id=\"sk-container-id-5\" class=\"sk-top-container\"><div class=\"sk-text-repr-fallback\"><pre>GridSearchCV(cv=3,\n",
       "             estimator=RandomForestClassifier(criterion=&#x27;entropy&#x27;,\n",
       "                                              random_state=100),\n",
       "             n_jobs=-1,\n",
       "             param_grid={&#x27;max_depth&#x27;: [None, 10, 20, 30],\n",
       "                         &#x27;max_features&#x27;: [&#x27;sqrt&#x27;, &#x27;log2&#x27;],\n",
       "                         &#x27;min_samples_split&#x27;: [2, 5],\n",
       "                         &#x27;n_estimators&#x27;: [50, 100, 200]},\n",
       "             return_train_score=True, scoring=&#x27;accuracy&#x27;, verbose=1)</pre><b>In a Jupyter environment, please rerun this cell to show the HTML representation or trust the notebook. <br />On GitHub, the HTML representation is unable to render, please try loading this page with nbviewer.org.</b></div><div class=\"sk-container\" hidden><div class=\"sk-item sk-dashed-wrapped\"><div class=\"sk-label-container\"><div class=\"sk-label sk-toggleable\"><input class=\"sk-toggleable__control sk-hidden--visually\" id=\"sk-estimator-id-7\" type=\"checkbox\" ><label for=\"sk-estimator-id-7\" class=\"sk-toggleable__label sk-toggleable__label-arrow\">GridSearchCV</label><div class=\"sk-toggleable__content\"><pre>GridSearchCV(cv=3,\n",
       "             estimator=RandomForestClassifier(criterion=&#x27;entropy&#x27;,\n",
       "                                              random_state=100),\n",
       "             n_jobs=-1,\n",
       "             param_grid={&#x27;max_depth&#x27;: [None, 10, 20, 30],\n",
       "                         &#x27;max_features&#x27;: [&#x27;sqrt&#x27;, &#x27;log2&#x27;],\n",
       "                         &#x27;min_samples_split&#x27;: [2, 5],\n",
       "                         &#x27;n_estimators&#x27;: [50, 100, 200]},\n",
       "             return_train_score=True, scoring=&#x27;accuracy&#x27;, verbose=1)</pre></div></div></div><div class=\"sk-parallel\"><div class=\"sk-parallel-item\"><div class=\"sk-item\"><div class=\"sk-label-container\"><div class=\"sk-label sk-toggleable\"><input class=\"sk-toggleable__control sk-hidden--visually\" id=\"sk-estimator-id-8\" type=\"checkbox\" ><label for=\"sk-estimator-id-8\" class=\"sk-toggleable__label sk-toggleable__label-arrow\">estimator: RandomForestClassifier</label><div class=\"sk-toggleable__content\"><pre>RandomForestClassifier(criterion=&#x27;entropy&#x27;, random_state=100)</pre></div></div></div><div class=\"sk-serial\"><div class=\"sk-item\"><div class=\"sk-estimator sk-toggleable\"><input class=\"sk-toggleable__control sk-hidden--visually\" id=\"sk-estimator-id-9\" type=\"checkbox\" ><label for=\"sk-estimator-id-9\" class=\"sk-toggleable__label sk-toggleable__label-arrow\">RandomForestClassifier</label><div class=\"sk-toggleable__content\"><pre>RandomForestClassifier(criterion=&#x27;entropy&#x27;, random_state=100)</pre></div></div></div></div></div></div></div></div></div></div>"
      ],
      "text/plain": [
       "GridSearchCV(cv=3,\n",
       "             estimator=RandomForestClassifier(criterion='entropy',\n",
       "                                              random_state=100),\n",
       "             n_jobs=-1,\n",
       "             param_grid={'max_depth': [None, 10, 20, 30],\n",
       "                         'max_features': ['sqrt', 'log2'],\n",
       "                         'min_samples_split': [2, 5],\n",
       "                         'n_estimators': [50, 100, 200]},\n",
       "             return_train_score=True, scoring='accuracy', verbose=1)"
      ]
     },
     "execution_count": 29,
     "metadata": {},
     "output_type": "execute_result"
    }
   ],
   "source": [
    "# Huấn luyện mô hình với Grid Search.\n",
    "grid.fit(X_train, y_train)"
   ]
  },
  {
   "cell_type": "code",
   "execution_count": 30,
   "id": "6cc7e85d",
   "metadata": {
    "execution": {
     "iopub.execute_input": "2024-05-10T09:11:58.796463Z",
     "iopub.status.busy": "2024-05-10T09:11:58.796116Z",
     "iopub.status.idle": "2024-05-10T09:11:58.801989Z",
     "shell.execute_reply": "2024-05-10T09:11:58.801116Z"
    },
    "papermill": {
     "duration": 0.037044,
     "end_time": "2024-05-10T09:11:58.803979",
     "exception": false,
     "start_time": "2024-05-10T09:11:58.766935",
     "status": "completed"
    },
    "tags": []
   },
   "outputs": [
    {
     "data": {
      "text/plain": [
       "{'max_depth': None,\n",
       " 'max_features': 'sqrt',\n",
       " 'min_samples_split': 5,\n",
       " 'n_estimators': 200}"
      ]
     },
     "execution_count": 30,
     "metadata": {},
     "output_type": "execute_result"
    }
   ],
   "source": [
    "grid.best_params_"
   ]
  },
  {
   "cell_type": "code",
   "execution_count": 31,
   "id": "b73f921d",
   "metadata": {
    "execution": {
     "iopub.execute_input": "2024-05-10T09:11:58.862800Z",
     "iopub.status.busy": "2024-05-10T09:11:58.862505Z",
     "iopub.status.idle": "2024-05-10T09:11:58.867038Z",
     "shell.execute_reply": "2024-05-10T09:11:58.866316Z"
    },
    "papermill": {
     "duration": 0.035922,
     "end_time": "2024-05-10T09:11:58.868868",
     "exception": false,
     "start_time": "2024-05-10T09:11:58.832946",
     "status": "completed"
    },
    "tags": []
   },
   "outputs": [],
   "source": [
    "RFC_grid = RandomForestClassifier(random_state = 100, \n",
    "                                   max_depth = None, \n",
    "                                   max_features = 'sqrt', \n",
    "                                   min_samples_split = 5, \n",
    "                                   n_estimators = 200,\n",
    "                                   criterion = \"entropy\"\n",
    "                                  ) "
   ]
  },
  {
   "cell_type": "code",
   "execution_count": 32,
   "id": "5940b430",
   "metadata": {
    "execution": {
     "iopub.execute_input": "2024-05-10T09:11:58.928019Z",
     "iopub.status.busy": "2024-05-10T09:11:58.927475Z",
     "iopub.status.idle": "2024-05-10T09:13:11.947791Z",
     "shell.execute_reply": "2024-05-10T09:13:11.946848Z"
    },
    "papermill": {
     "duration": 73.080825,
     "end_time": "2024-05-10T09:13:11.977764",
     "exception": false,
     "start_time": "2024-05-10T09:11:58.896939",
     "status": "completed"
    },
    "tags": []
   },
   "outputs": [
    {
     "data": {
      "text/html": [
       "<style>#sk-container-id-6 {color: black;background-color: white;}#sk-container-id-6 pre{padding: 0;}#sk-container-id-6 div.sk-toggleable {background-color: white;}#sk-container-id-6 label.sk-toggleable__label {cursor: pointer;display: block;width: 100%;margin-bottom: 0;padding: 0.3em;box-sizing: border-box;text-align: center;}#sk-container-id-6 label.sk-toggleable__label-arrow:before {content: \"▸\";float: left;margin-right: 0.25em;color: #696969;}#sk-container-id-6 label.sk-toggleable__label-arrow:hover:before {color: black;}#sk-container-id-6 div.sk-estimator:hover label.sk-toggleable__label-arrow:before {color: black;}#sk-container-id-6 div.sk-toggleable__content {max-height: 0;max-width: 0;overflow: hidden;text-align: left;background-color: #f0f8ff;}#sk-container-id-6 div.sk-toggleable__content pre {margin: 0.2em;color: black;border-radius: 0.25em;background-color: #f0f8ff;}#sk-container-id-6 input.sk-toggleable__control:checked~div.sk-toggleable__content {max-height: 200px;max-width: 100%;overflow: auto;}#sk-container-id-6 input.sk-toggleable__control:checked~label.sk-toggleable__label-arrow:before {content: \"▾\";}#sk-container-id-6 div.sk-estimator input.sk-toggleable__control:checked~label.sk-toggleable__label {background-color: #d4ebff;}#sk-container-id-6 div.sk-label input.sk-toggleable__control:checked~label.sk-toggleable__label {background-color: #d4ebff;}#sk-container-id-6 input.sk-hidden--visually {border: 0;clip: rect(1px 1px 1px 1px);clip: rect(1px, 1px, 1px, 1px);height: 1px;margin: -1px;overflow: hidden;padding: 0;position: absolute;width: 1px;}#sk-container-id-6 div.sk-estimator {font-family: monospace;background-color: #f0f8ff;border: 1px dotted black;border-radius: 0.25em;box-sizing: border-box;margin-bottom: 0.5em;}#sk-container-id-6 div.sk-estimator:hover {background-color: #d4ebff;}#sk-container-id-6 div.sk-parallel-item::after {content: \"\";width: 100%;border-bottom: 1px solid gray;flex-grow: 1;}#sk-container-id-6 div.sk-label:hover label.sk-toggleable__label {background-color: #d4ebff;}#sk-container-id-6 div.sk-serial::before {content: \"\";position: absolute;border-left: 1px solid gray;box-sizing: border-box;top: 0;bottom: 0;left: 50%;z-index: 0;}#sk-container-id-6 div.sk-serial {display: flex;flex-direction: column;align-items: center;background-color: white;padding-right: 0.2em;padding-left: 0.2em;position: relative;}#sk-container-id-6 div.sk-item {position: relative;z-index: 1;}#sk-container-id-6 div.sk-parallel {display: flex;align-items: stretch;justify-content: center;background-color: white;position: relative;}#sk-container-id-6 div.sk-item::before, #sk-container-id-6 div.sk-parallel-item::before {content: \"\";position: absolute;border-left: 1px solid gray;box-sizing: border-box;top: 0;bottom: 0;left: 50%;z-index: -1;}#sk-container-id-6 div.sk-parallel-item {display: flex;flex-direction: column;z-index: 1;position: relative;background-color: white;}#sk-container-id-6 div.sk-parallel-item:first-child::after {align-self: flex-end;width: 50%;}#sk-container-id-6 div.sk-parallel-item:last-child::after {align-self: flex-start;width: 50%;}#sk-container-id-6 div.sk-parallel-item:only-child::after {width: 0;}#sk-container-id-6 div.sk-dashed-wrapped {border: 1px dashed gray;margin: 0 0.4em 0.5em 0.4em;box-sizing: border-box;padding-bottom: 0.4em;background-color: white;}#sk-container-id-6 div.sk-label label {font-family: monospace;font-weight: bold;display: inline-block;line-height: 1.2em;}#sk-container-id-6 div.sk-label-container {text-align: center;}#sk-container-id-6 div.sk-container {/* jupyter's `normalize.less` sets `[hidden] { display: none; }` but bootstrap.min.css set `[hidden] { display: none !important; }` so we also need the `!important` here to be able to override the default hidden behavior on the sphinx rendered scikit-learn.org. See: https://github.com/scikit-learn/scikit-learn/issues/21755 */display: inline-block !important;position: relative;}#sk-container-id-6 div.sk-text-repr-fallback {display: none;}</style><div id=\"sk-container-id-6\" class=\"sk-top-container\"><div class=\"sk-text-repr-fallback\"><pre>RandomForestClassifier(criterion=&#x27;entropy&#x27;, min_samples_split=5,\n",
       "                       n_estimators=200, random_state=100)</pre><b>In a Jupyter environment, please rerun this cell to show the HTML representation or trust the notebook. <br />On GitHub, the HTML representation is unable to render, please try loading this page with nbviewer.org.</b></div><div class=\"sk-container\" hidden><div class=\"sk-item\"><div class=\"sk-estimator sk-toggleable\"><input class=\"sk-toggleable__control sk-hidden--visually\" id=\"sk-estimator-id-10\" type=\"checkbox\" checked><label for=\"sk-estimator-id-10\" class=\"sk-toggleable__label sk-toggleable__label-arrow\">RandomForestClassifier</label><div class=\"sk-toggleable__content\"><pre>RandomForestClassifier(criterion=&#x27;entropy&#x27;, min_samples_split=5,\n",
       "                       n_estimators=200, random_state=100)</pre></div></div></div></div></div>"
      ],
      "text/plain": [
       "RandomForestClassifier(criterion='entropy', min_samples_split=5,\n",
       "                       n_estimators=200, random_state=100)"
      ]
     },
     "execution_count": 32,
     "metadata": {},
     "output_type": "execute_result"
    }
   ],
   "source": [
    "RFC_grid.fit(X_train, y_train)"
   ]
  },
  {
   "cell_type": "code",
   "execution_count": 33,
   "id": "003211aa",
   "metadata": {
    "execution": {
     "iopub.execute_input": "2024-05-10T09:13:12.035809Z",
     "iopub.status.busy": "2024-05-10T09:13:12.034926Z",
     "iopub.status.idle": "2024-05-10T09:13:24.199324Z",
     "shell.execute_reply": "2024-05-10T09:13:24.198419Z"
    },
    "papermill": {
     "duration": 12.195611,
     "end_time": "2024-05-10T09:13:24.201462",
     "exception": false,
     "start_time": "2024-05-10T09:13:12.005851",
     "status": "completed"
    },
    "tags": []
   },
   "outputs": [
    {
     "name": "stdout",
     "output_type": "stream",
     "text": [
      "\n",
      "--------------- RANDOM FOREST AFTER TUNING ---------------\n",
      "\n",
      "BÁO CÁO PHÂN LOẠI:\n",
      "               precision    recall  f1-score   support\n",
      "\n",
      "           0       0.92      0.95      0.94     28812\n",
      "           1       0.95      0.92      0.93     28820\n",
      "\n",
      "    accuracy                           0.94     57632\n",
      "   macro avg       0.94      0.94      0.94     57632\n",
      "weighted avg       0.94      0.94      0.94     57632\n",
      "\n",
      "\n",
      "MA TRẬN NHẦM LẪN:\n",
      " <sklearn.metrics._plot.confusion_matrix.ConfusionMatrixDisplay object at 0x7b6de655afb0>\n",
      "Train Accuracy:  0.9849821712084537\n",
      "Test Accuracy:  0.9355045807884509\n",
      "F1 Score:  0.934593253444544\n",
      "Recall:  0.9214434420541291\n",
      "Precision:  0.948123817344425\n"
     ]
    },
    {
     "data": {
      "image/png": "[encoded data removed]",
      "text/plain": [
       "<Figure size 640x480 with 2 Axes>"
      ]
     },
     "metadata": {},
     "output_type": "display_data"
    }
   ],
   "source": [
    "pred_RF_test = RFC_grid.predict(X_test)\n",
    "\n",
    "pred_RF_train = RFC_grid.predict(X_train)\n",
    "\n",
    "print('\\n--------------- RANDOM FOREST AFTER TUNING ---------------\\n')\n",
    "print('BÁO CÁO PHÂN LOẠI:\\n', classification_report(y_test, pred_RF_test, target_names=['0','1']))\n",
    "\n",
    "disp = ConfusionMatrixDisplay(confusion_matrix=confusion_matrix(y_test, pred_RF_test),display_labels=['0','1'])\n",
    "print('\\nMA TRẬN NHẦM LẪN:\\n',disp.plot())\n",
    "\n",
    "acc_train = accuracy_score(y_train,pred_RF_train)\n",
    "acc_test = accuracy_score(y_test,pred_RF_test)\n",
    "f1 = f1_score(y_test,pred_RF_test)\n",
    "recall = recall_score(y_test,pred_RF_test)\n",
    "precision = precision_score(y_test,pred_RF_test)\n",
    "\n",
    "print(\"Train Accuracy: \", acc_train)\n",
    "print(\"Test Accuracy: \", acc_test)\n",
    "print(\"F1 Score: \", f1)\n",
    "print(\"Recall: \", recall)\n",
    "print(\"Precision: \", precision)"
   ]
  },
  {
   "cell_type": "code",
   "execution_count": 34,
   "id": "b46300cf",
   "metadata": {
    "execution": {
     "iopub.execute_input": "2024-05-10T09:13:24.260452Z",
     "iopub.status.busy": "2024-05-10T09:13:24.260141Z",
     "iopub.status.idle": "2024-05-10T09:13:24.779612Z",
     "shell.execute_reply": "2024-05-10T09:13:24.778681Z"
    },
    "executionInfo": {
     "elapsed": 9,
     "status": "ok",
     "timestamp": 1714446216674,
     "user": {
      "displayName": "Văn Tiến Phạm",
      "userId": "12820767994936355268"
     },
     "user_tz": -420
    },
    "id": "j3qNWZ0BTP0o",
    "outputId": "2cb2aebb-f8af-47e3-9e9a-ae9cc8bef001",
    "papermill": {
     "duration": 0.551403,
     "end_time": "2024-05-10T09:13:24.782115",
     "exception": false,
     "start_time": "2024-05-10T09:13:24.230712",
     "status": "completed"
    },
    "tags": []
   },
   "outputs": [
    {
     "data": {
      "image/png": "[encoded data removed]",
      "text/plain": [
       "<Figure size 900x700 with 1 Axes>"
      ]
     },
     "metadata": {},
     "output_type": "display_data"
    }
   ],
   "source": [
    "importances = RFC_grid.feature_importances_\n",
    "\n",
    "indices = np.argsort(importances)\n",
    "\n",
    "plt.figure(figsize = (9, 7))\n",
    "\n",
    "n_features = X_train.shape[1]\n",
    "\n",
    "plt.barh(range(n_features), importances[indices], align = 'center')\n",
    "\n",
    "plt.yticks(np.arange(n_features), X_train.columns[indices])\n",
    "for index, value in enumerate(importances[indices]):\n",
    "    plt.text(value, index, str(round(value,3)))\n",
    "plt.xlabel(\"ĐẶC TRƯNG QUAN TRỌNG\")\n",
    "plt.ylabel(\"ĐẶC TRƯNG\")\n",
    "plt.show()"
   ]
  },
  {
   "cell_type": "code",
   "execution_count": 35,
   "id": "49569c05",
   "metadata": {
    "execution": {
     "iopub.execute_input": "2024-05-10T09:13:24.843268Z",
     "iopub.status.busy": "2024-05-10T09:13:24.842966Z",
     "iopub.status.idle": "2024-05-10T09:13:24.847150Z",
     "shell.execute_reply": "2024-05-10T09:13:24.846346Z"
    },
    "executionInfo": {
     "elapsed": 8,
     "status": "ok",
     "timestamp": 1714446216675,
     "user": {
      "displayName": "Văn Tiến Phạm",
      "userId": "12820767994936355268"
     },
     "user_tz": -420
    },
    "id": "mBREd_9I5FJS",
    "papermill": {
     "duration": 0.036627,
     "end_time": "2024-05-10T09:13:24.848962",
     "exception": false,
     "start_time": "2024-05-10T09:13:24.812335",
     "status": "completed"
    },
    "tags": []
   },
   "outputs": [],
   "source": [
    "storeResults('Random Forest', acc_train, acc_test, f1, recall, precision, 1)"
   ]
  },
  {
   "cell_type": "markdown",
   "id": "104933c8",
   "metadata": {
    "id": "9um-PI7-Ell1",
    "papermill": {
     "duration": 0.029342,
     "end_time": "2024-05-10T09:13:24.908445",
     "exception": false,
     "start_time": "2024-05-10T09:13:24.879103",
     "status": "completed"
    },
    "tags": []
   },
   "source": [
    "# Logistic Regression"
   ]
  },
  {
   "cell_type": "code",
   "execution_count": 36,
   "id": "56b98a4d",
   "metadata": {
    "execution": {
     "iopub.execute_input": "2024-05-10T09:13:24.968850Z",
     "iopub.status.busy": "2024-05-10T09:13:24.968586Z",
     "iopub.status.idle": "2024-05-10T09:13:24.974317Z",
     "shell.execute_reply": "2024-05-10T09:13:24.973479Z"
    },
    "executionInfo": {
     "elapsed": 487,
     "status": "ok",
     "timestamp": 1714451698500,
     "user": {
      "displayName": "Văn Tiến Phạm",
      "userId": "12820767994936355268"
     },
     "user_tz": -420
    },
    "id": "AlenCEi9EkeU",
    "outputId": "ff087f08-da1c-4ce5-a7a1-b449a24821c6",
    "papermill": {
     "duration": 0.038366,
     "end_time": "2024-05-10T09:13:24.976351",
     "exception": false,
     "start_time": "2024-05-10T09:13:24.937985",
     "status": "completed"
    },
    "tags": []
   },
   "outputs": [
    {
     "name": "stdout",
     "output_type": "stream",
     "text": [
      "C=1.0, class_weight=None, dual=False, fit_intercept=True,\n",
      "intercept_scaling=1, l1_ratio=None, max_iter=10000, multi_class=auto,\n",
      "n_jobs=None, penalty=l2, random_state=100, solver=lbfgs, tol=0.0001,\n",
      "verbose=0, warm_start=False\n"
     ]
    }
   ],
   "source": [
    "from sklearn.linear_model import LogisticRegression\n",
    "\n",
    "LR_model = LogisticRegression(random_state = 100, max_iter = 10000)\n",
    "\n",
    "params = LR_model.get_params()\n",
    "params_str = ', '.join(f'{k}={v}' for k, v in params.items())\n",
    "\n",
    "print(textwrap.fill(params_str, width=70))"
   ]
  },
  {
   "cell_type": "code",
   "execution_count": 37,
   "id": "39478a10",
   "metadata": {
    "execution": {
     "iopub.execute_input": "2024-05-10T09:13:25.036653Z",
     "iopub.status.busy": "2024-05-10T09:13:25.036393Z",
     "iopub.status.idle": "2024-05-10T09:16:41.840544Z",
     "shell.execute_reply": "2024-05-10T09:16:41.838075Z"
    },
    "papermill": {
     "duration": 196.895277,
     "end_time": "2024-05-10T09:16:41.901311",
     "exception": false,
     "start_time": "2024-05-10T09:13:25.006034",
     "status": "completed"
    },
    "tags": []
   },
   "outputs": [
    {
     "data": {
      "text/html": [
       "<style>#sk-container-id-7 {color: black;background-color: white;}#sk-container-id-7 pre{padding: 0;}#sk-container-id-7 div.sk-toggleable {background-color: white;}#sk-container-id-7 label.sk-toggleable__label {cursor: pointer;display: block;width: 100%;margin-bottom: 0;padding: 0.3em;box-sizing: border-box;text-align: center;}#sk-container-id-7 label.sk-toggleable__label-arrow:before {content: \"▸\";float: left;margin-right: 0.25em;color: #696969;}#sk-container-id-7 label.sk-toggleable__label-arrow:hover:before {color: black;}#sk-container-id-7 div.sk-estimator:hover label.sk-toggleable__label-arrow:before {color: black;}#sk-container-id-7 div.sk-toggleable__content {max-height: 0;max-width: 0;overflow: hidden;text-align: left;background-color: #f0f8ff;}#sk-container-id-7 div.sk-toggleable__content pre {margin: 0.2em;color: black;border-radius: 0.25em;background-color: #f0f8ff;}#sk-container-id-7 input.sk-toggleable__control:checked~div.sk-toggleable__content {max-height: 200px;max-width: 100%;overflow: auto;}#sk-container-id-7 input.sk-toggleable__control:checked~label.sk-toggleable__label-arrow:before {content: \"▾\";}#sk-container-id-7 div.sk-estimator input.sk-toggleable__control:checked~label.sk-toggleable__label {background-color: #d4ebff;}#sk-container-id-7 div.sk-label input.sk-toggleable__control:checked~label.sk-toggleable__label {background-color: #d4ebff;}#sk-container-id-7 input.sk-hidden--visually {border: 0;clip: rect(1px 1px 1px 1px);clip: rect(1px, 1px, 1px, 1px);height: 1px;margin: -1px;overflow: hidden;padding: 0;position: absolute;width: 1px;}#sk-container-id-7 div.sk-estimator {font-family: monospace;background-color: #f0f8ff;border: 1px dotted black;border-radius: 0.25em;box-sizing: border-box;margin-bottom: 0.5em;}#sk-container-id-7 div.sk-estimator:hover {background-color: #d4ebff;}#sk-container-id-7 div.sk-parallel-item::after {content: \"\";width: 100%;border-bottom: 1px solid gray;flex-grow: 1;}#sk-container-id-7 div.sk-label:hover label.sk-toggleable__label {background-color: #d4ebff;}#sk-container-id-7 div.sk-serial::before {content: \"\";position: absolute;border-left: 1px solid gray;box-sizing: border-box;top: 0;bottom: 0;left: 50%;z-index: 0;}#sk-container-id-7 div.sk-serial {display: flex;flex-direction: column;align-items: center;background-color: white;padding-right: 0.2em;padding-left: 0.2em;position: relative;}#sk-container-id-7 div.sk-item {position: relative;z-index: 1;}#sk-container-id-7 div.sk-parallel {display: flex;align-items: stretch;justify-content: center;background-color: white;position: relative;}#sk-container-id-7 div.sk-item::before, #sk-container-id-7 div.sk-parallel-item::before {content: \"\";position: absolute;border-left: 1px solid gray;box-sizing: border-box;top: 0;bottom: 0;left: 50%;z-index: -1;}#sk-container-id-7 div.sk-parallel-item {display: flex;flex-direction: column;z-index: 1;position: relative;background-color: white;}#sk-container-id-7 div.sk-parallel-item:first-child::after {align-self: flex-end;width: 50%;}#sk-container-id-7 div.sk-parallel-item:last-child::after {align-self: flex-start;width: 50%;}#sk-container-id-7 div.sk-parallel-item:only-child::after {width: 0;}#sk-container-id-7 div.sk-dashed-wrapped {border: 1px dashed gray;margin: 0 0.4em 0.5em 0.4em;box-sizing: border-box;padding-bottom: 0.4em;background-color: white;}#sk-container-id-7 div.sk-label label {font-family: monospace;font-weight: bold;display: inline-block;line-height: 1.2em;}#sk-container-id-7 div.sk-label-container {text-align: center;}#sk-container-id-7 div.sk-container {/* jupyter's `normalize.less` sets `[hidden] { display: none; }` but bootstrap.min.css set `[hidden] { display: none !important; }` so we also need the `!important` here to be able to override the default hidden behavior on the sphinx rendered scikit-learn.org. See: https://github.com/scikit-learn/scikit-learn/issues/21755 */display: inline-block !important;position: relative;}#sk-container-id-7 div.sk-text-repr-fallback {display: none;}</style><div id=\"sk-container-id-7\" class=\"sk-top-container\"><div class=\"sk-text-repr-fallback\"><pre>LogisticRegression(max_iter=10000, random_state=100)</pre><b>In a Jupyter environment, please rerun this cell to show the HTML representation or trust the notebook. <br />On GitHub, the HTML representation is unable to render, please try loading this page with nbviewer.org.</b></div><div class=\"sk-container\" hidden><div class=\"sk-item\"><div class=\"sk-estimator sk-toggleable\"><input class=\"sk-toggleable__control sk-hidden--visually\" id=\"sk-estimator-id-11\" type=\"checkbox\" checked><label for=\"sk-estimator-id-11\" class=\"sk-toggleable__label sk-toggleable__label-arrow\">LogisticRegression</label><div class=\"sk-toggleable__content\"><pre>LogisticRegression(max_iter=10000, random_state=100)</pre></div></div></div></div></div>"
      ],
      "text/plain": [
       "LogisticRegression(max_iter=10000, random_state=100)"
      ]
     },
     "execution_count": 37,
     "metadata": {},
     "output_type": "execute_result"
    }
   ],
   "source": [
    "LR_model.fit(X_train, y_train)"
   ]
  },
  {
   "cell_type": "code",
   "execution_count": 38,
   "id": "ce50b00c",
   "metadata": {
    "execution": {
     "iopub.execute_input": "2024-05-10T09:16:41.999901Z",
     "iopub.status.busy": "2024-05-10T09:16:41.999106Z",
     "iopub.status.idle": "2024-05-10T09:16:42.468178Z",
     "shell.execute_reply": "2024-05-10T09:16:42.467161Z"
    },
    "id": "yMiMyWxxEqO7",
    "papermill": {
     "duration": 0.514432,
     "end_time": "2024-05-10T09:16:42.470633",
     "exception": false,
     "start_time": "2024-05-10T09:16:41.956201",
     "status": "completed"
    },
    "tags": []
   },
   "outputs": [
    {
     "name": "stdout",
     "output_type": "stream",
     "text": [
      "\n",
      "--------------- Logistic Regression ---------------\n",
      "\n",
      "BÁO CÁO PHÂN LOẠI:\n",
      "               precision    recall  f1-score   support\n",
      "\n",
      "           0       0.84      0.86      0.85     28812\n",
      "           1       0.86      0.83      0.85     28820\n",
      "\n",
      "    accuracy                           0.85     57632\n",
      "   macro avg       0.85      0.85      0.85     57632\n",
      "weighted avg       0.85      0.85      0.85     57632\n",
      "\n",
      "\n",
      "MA TRẬN NHẦM LẪN:\n",
      " <sklearn.metrics._plot.confusion_matrix.ConfusionMatrixDisplay object at 0x7b6de5ee51e0>\n",
      "Train Accuracy:  0.8502251372947086\n",
      "Test Accuracy:  0.8472549972237646\n",
      "F1 Score:  0.8452818250522874\n",
      "Recall:  0.8343858431644691\n",
      "Precision:  0.8564661466680913\n"
     ]
    },
    {
     "data": {
      "image/png": "[encoded data removed]",
      "text/plain": [
       "<Figure size 640x480 with 2 Axes>"
      ]
     },
     "metadata": {},
     "output_type": "display_data"
    }
   ],
   "source": [
    "pred_LR_test = LR_model.predict(X_test)\n",
    "\n",
    "pred_LR_train = LR_model.predict(X_train)\n",
    "\n",
    "print('\\n--------------- Logistic Regression ---------------\\n')\n",
    "print('BÁO CÁO PHÂN LOẠI:\\n', classification_report(y_test, pred_LR_test, target_names=['0','1']))\n",
    "\n",
    "disp = ConfusionMatrixDisplay(confusion_matrix=confusion_matrix(y_test, pred_LR_test),display_labels=['0','1'])\n",
    "print('\\nMA TRẬN NHẦM LẪN:\\n',disp.plot())\n",
    "\n",
    "acc_train = accuracy_score(y_train,pred_LR_train)\n",
    "acc_test = accuracy_score(y_test,pred_LR_test)\n",
    "f1 = f1_score(y_test,pred_LR_test)\n",
    "recall = recall_score(y_test,pred_LR_test)\n",
    "precision = precision_score(y_test,pred_LR_test)\n",
    "\n",
    "print(\"Train Accuracy: \", acc_train)\n",
    "print(\"Test Accuracy: \", acc_test)\n",
    "print(\"F1 Score: \", f1)\n",
    "print(\"Recall: \", recall)\n",
    "print(\"Precision: \", precision)"
   ]
  },
  {
   "cell_type": "code",
   "execution_count": 39,
   "id": "1dccf912",
   "metadata": {
    "execution": {
     "iopub.execute_input": "2024-05-10T09:16:42.538363Z",
     "iopub.status.busy": "2024-05-10T09:16:42.537657Z",
     "iopub.status.idle": "2024-05-10T09:16:42.542623Z",
     "shell.execute_reply": "2024-05-10T09:16:42.541758Z"
    },
    "id": "wrhajwffEthA",
    "papermill": {
     "duration": 0.039049,
     "end_time": "2024-05-10T09:16:42.544697",
     "exception": false,
     "start_time": "2024-05-10T09:16:42.505648",
     "status": "completed"
    },
    "tags": []
   },
   "outputs": [],
   "source": [
    "storeResults('Logistic Regression', acc_train, acc_test, f1, recall, precision, 0)"
   ]
  },
  {
   "cell_type": "markdown",
   "id": "3872df91",
   "metadata": {
    "papermill": {
     "duration": 0.030458,
     "end_time": "2024-05-10T09:16:42.605751",
     "exception": false,
     "start_time": "2024-05-10T09:16:42.575293",
     "status": "completed"
    },
    "tags": []
   },
   "source": [
    "# Gradient Boosting"
   ]
  },
  {
   "cell_type": "code",
   "execution_count": 40,
   "id": "a83f5e74",
   "metadata": {
    "execution": {
     "iopub.execute_input": "2024-05-10T09:16:42.668217Z",
     "iopub.status.busy": "2024-05-10T09:16:42.667870Z",
     "iopub.status.idle": "2024-05-10T09:16:42.675163Z",
     "shell.execute_reply": "2024-05-10T09:16:42.674182Z"
    },
    "papermill": {
     "duration": 0.041271,
     "end_time": "2024-05-10T09:16:42.677471",
     "exception": false,
     "start_time": "2024-05-10T09:16:42.636200",
     "status": "completed"
    },
    "tags": []
   },
   "outputs": [
    {
     "name": "stdout",
     "output_type": "stream",
     "text": [
      "ccp_alpha=0.0, criterion=friedman_mse, init=None, learning_rate=0.1,\n",
      "loss=log_loss, max_depth=3, max_features=None, max_leaf_nodes=None,\n",
      "min_impurity_decrease=0.0, min_samples_leaf=1, min_samples_split=2,\n",
      "min_weight_fraction_leaf=0.0, n_estimators=100, n_iter_no_change=None,\n",
      "random_state=100, subsample=1.0, tol=0.0001, validation_fraction=0.1,\n",
      "verbose=0, warm_start=False\n"
     ]
    }
   ],
   "source": [
    "from sklearn.ensemble import GradientBoostingClassifier\n",
    "\n",
    "GB_model = GradientBoostingClassifier(random_state = 100)\n",
    "\n",
    "params = GB_model.get_params()\n",
    "params_str = ', '.join(f'{k}={v}' for k, v in params.items())\n",
    "\n",
    "print(textwrap.fill(params_str, width=70))"
   ]
  },
  {
   "cell_type": "code",
   "execution_count": 41,
   "id": "bac00e57",
   "metadata": {
    "execution": {
     "iopub.execute_input": "2024-05-10T09:16:42.742660Z",
     "iopub.status.busy": "2024-05-10T09:16:42.741992Z",
     "iopub.status.idle": "2024-05-10T09:17:11.745334Z",
     "shell.execute_reply": "2024-05-10T09:17:11.744398Z"
    },
    "papermill": {
     "duration": 29.037625,
     "end_time": "2024-05-10T09:17:11.747544",
     "exception": false,
     "start_time": "2024-05-10T09:16:42.709919",
     "status": "completed"
    },
    "tags": []
   },
   "outputs": [
    {
     "data": {
      "text/html": [
       "<style>#sk-container-id-8 {color: black;background-color: white;}#sk-container-id-8 pre{padding: 0;}#sk-container-id-8 div.sk-toggleable {background-color: white;}#sk-container-id-8 label.sk-toggleable__label {cursor: pointer;display: block;width: 100%;margin-bottom: 0;padding: 0.3em;box-sizing: border-box;text-align: center;}#sk-container-id-8 label.sk-toggleable__label-arrow:before {content: \"▸\";float: left;margin-right: 0.25em;color: #696969;}#sk-container-id-8 label.sk-toggleable__label-arrow:hover:before {color: black;}#sk-container-id-8 div.sk-estimator:hover label.sk-toggleable__label-arrow:before {color: black;}#sk-container-id-8 div.sk-toggleable__content {max-height: 0;max-width: 0;overflow: hidden;text-align: left;background-color: #f0f8ff;}#sk-container-id-8 div.sk-toggleable__content pre {margin: 0.2em;color: black;border-radius: 0.25em;background-color: #f0f8ff;}#sk-container-id-8 input.sk-toggleable__control:checked~div.sk-toggleable__content {max-height: 200px;max-width: 100%;overflow: auto;}#sk-container-id-8 input.sk-toggleable__control:checked~label.sk-toggleable__label-arrow:before {content: \"▾\";}#sk-container-id-8 div.sk-estimator input.sk-toggleable__control:checked~label.sk-toggleable__label {background-color: #d4ebff;}#sk-container-id-8 div.sk-label input.sk-toggleable__control:checked~label.sk-toggleable__label {background-color: #d4ebff;}#sk-container-id-8 input.sk-hidden--visually {border: 0;clip: rect(1px 1px 1px 1px);clip: rect(1px, 1px, 1px, 1px);height: 1px;margin: -1px;overflow: hidden;padding: 0;position: absolute;width: 1px;}#sk-container-id-8 div.sk-estimator {font-family: monospace;background-color: #f0f8ff;border: 1px dotted black;border-radius: 0.25em;box-sizing: border-box;margin-bottom: 0.5em;}#sk-container-id-8 div.sk-estimator:hover {background-color: #d4ebff;}#sk-container-id-8 div.sk-parallel-item::after {content: \"\";width: 100%;border-bottom: 1px solid gray;flex-grow: 1;}#sk-container-id-8 div.sk-label:hover label.sk-toggleable__label {background-color: #d4ebff;}#sk-container-id-8 div.sk-serial::before {content: \"\";position: absolute;border-left: 1px solid gray;box-sizing: border-box;top: 0;bottom: 0;left: 50%;z-index: 0;}#sk-container-id-8 div.sk-serial {display: flex;flex-direction: column;align-items: center;background-color: white;padding-right: 0.2em;padding-left: 0.2em;position: relative;}#sk-container-id-8 div.sk-item {position: relative;z-index: 1;}#sk-container-id-8 div.sk-parallel {display: flex;align-items: stretch;justify-content: center;background-color: white;position: relative;}#sk-container-id-8 div.sk-item::before, #sk-container-id-8 div.sk-parallel-item::before {content: \"\";position: absolute;border-left: 1px solid gray;box-sizing: border-box;top: 0;bottom: 0;left: 50%;z-index: -1;}#sk-container-id-8 div.sk-parallel-item {display: flex;flex-direction: column;z-index: 1;position: relative;background-color: white;}#sk-container-id-8 div.sk-parallel-item:first-child::after {align-self: flex-end;width: 50%;}#sk-container-id-8 div.sk-parallel-item:last-child::after {align-self: flex-start;width: 50%;}#sk-container-id-8 div.sk-parallel-item:only-child::after {width: 0;}#sk-container-id-8 div.sk-dashed-wrapped {border: 1px dashed gray;margin: 0 0.4em 0.5em 0.4em;box-sizing: border-box;padding-bottom: 0.4em;background-color: white;}#sk-container-id-8 div.sk-label label {font-family: monospace;font-weight: bold;display: inline-block;line-height: 1.2em;}#sk-container-id-8 div.sk-label-container {text-align: center;}#sk-container-id-8 div.sk-container {/* jupyter's `normalize.less` sets `[hidden] { display: none; }` but bootstrap.min.css set `[hidden] { display: none !important; }` so we also need the `!important` here to be able to override the default hidden behavior on the sphinx rendered scikit-learn.org. See: https://github.com/scikit-learn/scikit-learn/issues/21755 */display: inline-block !important;position: relative;}#sk-container-id-8 div.sk-text-repr-fallback {display: none;}</style><div id=\"sk-container-id-8\" class=\"sk-top-container\"><div class=\"sk-text-repr-fallback\"><pre>GradientBoostingClassifier(random_state=100)</pre><b>In a Jupyter environment, please rerun this cell to show the HTML representation or trust the notebook. <br />On GitHub, the HTML representation is unable to render, please try loading this page with nbviewer.org.</b></div><div class=\"sk-container\" hidden><div class=\"sk-item\"><div class=\"sk-estimator sk-toggleable\"><input class=\"sk-toggleable__control sk-hidden--visually\" id=\"sk-estimator-id-12\" type=\"checkbox\" checked><label for=\"sk-estimator-id-12\" class=\"sk-toggleable__label sk-toggleable__label-arrow\">GradientBoostingClassifier</label><div class=\"sk-toggleable__content\"><pre>GradientBoostingClassifier(random_state=100)</pre></div></div></div></div></div>"
      ],
      "text/plain": [
       "GradientBoostingClassifier(random_state=100)"
      ]
     },
     "execution_count": 41,
     "metadata": {},
     "output_type": "execute_result"
    }
   ],
   "source": [
    "GB_model.fit(X_train, y_train)"
   ]
  },
  {
   "cell_type": "code",
   "execution_count": 42,
   "id": "3900d976",
   "metadata": {
    "execution": {
     "iopub.execute_input": "2024-05-10T09:17:11.812517Z",
     "iopub.status.busy": "2024-05-10T09:17:11.812180Z",
     "iopub.status.idle": "2024-05-10T09:17:12.707075Z",
     "shell.execute_reply": "2024-05-10T09:17:12.706216Z"
    },
    "papermill": {
     "duration": 0.92989,
     "end_time": "2024-05-10T09:17:12.709065",
     "exception": false,
     "start_time": "2024-05-10T09:17:11.779175",
     "status": "completed"
    },
    "tags": []
   },
   "outputs": [
    {
     "name": "stdout",
     "output_type": "stream",
     "text": [
      "\n",
      "--------------- Gradient Boosting ---------------\n",
      "\n",
      "BÁO CÁO PHÂN LOẠI:\n",
      "               precision    recall  f1-score   support\n",
      "\n",
      "           0       0.85      0.94      0.89     28812\n",
      "           1       0.93      0.83      0.88     28820\n",
      "\n",
      "    accuracy                           0.88     57632\n",
      "   macro avg       0.89      0.88      0.88     57632\n",
      "weighted avg       0.89      0.88      0.88     57632\n",
      "\n",
      "\n",
      "MA TRẬN NHẦM LẪN:\n",
      " <sklearn.metrics._plot.confusion_matrix.ConfusionMatrixDisplay object at 0x7b6de4f4b760>\n",
      "Train Accuracy:  0.8832409359464876\n",
      "Test Accuracy:  0.8847515269294837\n",
      "F1 Score:  0.8780881759113103\n",
      "Recall:  0.8299791811242193\n",
      "Precision:  0.9321175278622087\n"
     ]
    },
    {
     "data": {
      "image/png": "[encoded data removed]",
      "text/plain": [
       "<Figure size 640x480 with 2 Axes>"
      ]
     },
     "metadata": {},
     "output_type": "display_data"
    }
   ],
   "source": [
    "pred_GB_test = GB_model.predict(X_test)\n",
    "\n",
    "pred_GB_train = GB_model.predict(X_train)\n",
    "\n",
    "print('\\n--------------- Gradient Boosting ---------------\\n')\n",
    "print('BÁO CÁO PHÂN LOẠI:\\n', classification_report(y_test, pred_GB_test, target_names=['0','1']))\n",
    "\n",
    "disp = ConfusionMatrixDisplay(confusion_matrix=confusion_matrix(y_test, pred_GB_test),display_labels=['0','1'])\n",
    "print('\\nMA TRẬN NHẦM LẪN:\\n',disp.plot())\n",
    "\n",
    "acc_train = accuracy_score(y_train,pred_GB_train)\n",
    "acc_test = accuracy_score(y_test,pred_GB_test)\n",
    "f1 = f1_score(y_test,pred_GB_test)\n",
    "recall = recall_score(y_test,pred_GB_test)\n",
    "precision = precision_score(y_test,pred_GB_test)\n",
    "\n",
    "print(\"Train Accuracy: \", acc_train)\n",
    "print(\"Test Accuracy: \", acc_test)\n",
    "print(\"F1 Score: \", f1)\n",
    "print(\"Recall: \", recall)\n",
    "print(\"Precision: \", precision)"
   ]
  },
  {
   "cell_type": "code",
   "execution_count": 43,
   "id": "bd18df30",
   "metadata": {
    "execution": {
     "iopub.execute_input": "2024-05-10T09:17:12.774344Z",
     "iopub.status.busy": "2024-05-10T09:17:12.773775Z",
     "iopub.status.idle": "2024-05-10T09:17:13.227029Z",
     "shell.execute_reply": "2024-05-10T09:17:13.226051Z"
    },
    "papermill": {
     "duration": 0.489158,
     "end_time": "2024-05-10T09:17:13.230454",
     "exception": false,
     "start_time": "2024-05-10T09:17:12.741296",
     "status": "completed"
    },
    "tags": []
   },
   "outputs": [
    {
     "data": {
      "image/png": "[encoded data removed]",
      "text/plain": [
       "<Figure size 900x700 with 1 Axes>"
      ]
     },
     "metadata": {},
     "output_type": "display_data"
    }
   ],
   "source": [
    "importances = GB_model.feature_importances_\n",
    "\n",
    "indices = np.argsort(importances)\n",
    "\n",
    "plt.figure(figsize = (9, 7))\n",
    "\n",
    "n_features = X_train.shape[1]\n",
    "\n",
    "plt.barh(range(n_features), importances[indices], align = 'center')\n",
    "\n",
    "plt.yticks(np.arange(n_features), X_train.columns[indices])\n",
    "for index, value in enumerate(importances[indices]):\n",
    "    plt.text(value, index, str(round(value,3)))\n",
    "plt.xlabel(\"ĐẶC TRƯNG QUAN TRỌNG\")\n",
    "plt.ylabel(\"ĐẶC TRƯNG\")\n",
    "plt.show()"
   ]
  },
  {
   "cell_type": "code",
   "execution_count": 44,
   "id": "33044f7c",
   "metadata": {
    "execution": {
     "iopub.execute_input": "2024-05-10T09:17:13.306809Z",
     "iopub.status.busy": "2024-05-10T09:17:13.306491Z",
     "iopub.status.idle": "2024-05-10T09:17:13.311072Z",
     "shell.execute_reply": "2024-05-10T09:17:13.310185Z"
    },
    "papermill": {
     "duration": 0.04582,
     "end_time": "2024-05-10T09:17:13.313285",
     "exception": false,
     "start_time": "2024-05-10T09:17:13.267465",
     "status": "completed"
    },
    "tags": []
   },
   "outputs": [],
   "source": [
    "storeResults('Gradient Boosting', acc_train, acc_test, f1, recall, precision, 0)"
   ]
  },
  {
   "cell_type": "markdown",
   "id": "df59da10",
   "metadata": {
    "papermill": {
     "duration": 0.036758,
     "end_time": "2024-05-10T09:17:13.389366",
     "exception": false,
     "start_time": "2024-05-10T09:17:13.352608",
     "status": "completed"
    },
    "tags": []
   },
   "source": [
    "# XGBoost"
   ]
  },
  {
   "cell_type": "code",
   "execution_count": 45,
   "id": "871c73ff",
   "metadata": {
    "execution": {
     "iopub.execute_input": "2024-05-10T09:17:13.457487Z",
     "iopub.status.busy": "2024-05-10T09:17:13.457070Z",
     "iopub.status.idle": "2024-05-10T09:17:13.609811Z",
     "shell.execute_reply": "2024-05-10T09:17:13.608440Z"
    },
    "papermill": {
     "duration": 0.18866,
     "end_time": "2024-05-10T09:17:13.611850",
     "exception": false,
     "start_time": "2024-05-10T09:17:13.423190",
     "status": "completed"
    },
    "tags": []
   },
   "outputs": [
    {
     "name": "stdout",
     "output_type": "stream",
     "text": [
      "objective=binary:logistic, base_score=None, booster=None,\n",
      "callbacks=None, colsample_bylevel=None, colsample_bynode=None,\n",
      "colsample_bytree=None, device=None, early_stopping_rounds=None,\n",
      "enable_categorical=False, eval_metric=None, feature_types=None,\n",
      "gamma=None, grow_policy=None, importance_type=None,\n",
      "interaction_constraints=None, learning_rate=None, max_bin=None,\n",
      "max_cat_threshold=None, max_cat_to_onehot=None, max_delta_step=None,\n",
      "max_depth=None, max_leaves=None, min_child_weight=None, missing=nan,\n",
      "monotone_constraints=None, multi_strategy=None, n_estimators=None,\n",
      "n_jobs=None, num_parallel_tree=None, random_state=100, reg_alpha=None,\n",
      "reg_lambda=None, sampling_method=None, scale_pos_weight=None,\n",
      "subsample=None, tree_method=None, validate_parameters=None,\n",
      "verbosity=None\n"
     ]
    }
   ],
   "source": [
    "import xgboost as xgb\n",
    "\n",
    "XGB_model = xgb.XGBClassifier(random_state = 100)\n",
    "\n",
    "params = XGB_model.get_params()\n",
    "params_str = ', '.join(f'{k}={v}' for k, v in params.items())\n",
    "\n",
    "print(textwrap.fill(params_str, width=70))"
   ]
  },
  {
   "cell_type": "code",
   "execution_count": 46,
   "id": "b67daee7",
   "metadata": {
    "execution": {
     "iopub.execute_input": "2024-05-10T09:17:13.679357Z",
     "iopub.status.busy": "2024-05-10T09:17:13.678613Z",
     "iopub.status.idle": "2024-05-10T09:17:15.619592Z",
     "shell.execute_reply": "2024-05-10T09:17:15.618847Z"
    },
    "papermill": {
     "duration": 1.976851,
     "end_time": "2024-05-10T09:17:15.621725",
     "exception": false,
     "start_time": "2024-05-10T09:17:13.644874",
     "status": "completed"
    },
    "tags": []
   },
   "outputs": [
    {
     "data": {
      "text/html": [
       "<style>#sk-container-id-9 {color: black;background-color: white;}#sk-container-id-9 pre{padding: 0;}#sk-container-id-9 div.sk-toggleable {background-color: white;}#sk-container-id-9 label.sk-toggleable__label {cursor: pointer;display: block;width: 100%;margin-bottom: 0;padding: 0.3em;box-sizing: border-box;text-align: center;}#sk-container-id-9 label.sk-toggleable__label-arrow:before {content: \"▸\";float: left;margin-right: 0.25em;color: #696969;}#sk-container-id-9 label.sk-toggleable__label-arrow:hover:before {color: black;}#sk-container-id-9 div.sk-estimator:hover label.sk-toggleable__label-arrow:before {color: black;}#sk-container-id-9 div.sk-toggleable__content {max-height: 0;max-width: 0;overflow: hidden;text-align: left;background-color: #f0f8ff;}#sk-container-id-9 div.sk-toggleable__content pre {margin: 0.2em;color: black;border-radius: 0.25em;background-color: #f0f8ff;}#sk-container-id-9 input.sk-toggleable__control:checked~div.sk-toggleable__content {max-height: 200px;max-width: 100%;overflow: auto;}#sk-container-id-9 input.sk-toggleable__control:checked~label.sk-toggleable__label-arrow:before {content: \"▾\";}#sk-container-id-9 div.sk-estimator input.sk-toggleable__control:checked~label.sk-toggleable__label {background-color: #d4ebff;}#sk-container-id-9 div.sk-label input.sk-toggleable__control:checked~label.sk-toggleable__label {background-color: #d4ebff;}#sk-container-id-9 input.sk-hidden--visually {border: 0;clip: rect(1px 1px 1px 1px);clip: rect(1px, 1px, 1px, 1px);height: 1px;margin: -1px;overflow: hidden;padding: 0;position: absolute;width: 1px;}#sk-container-id-9 div.sk-estimator {font-family: monospace;background-color: #f0f8ff;border: 1px dotted black;border-radius: 0.25em;box-sizing: border-box;margin-bottom: 0.5em;}#sk-container-id-9 div.sk-estimator:hover {background-color: #d4ebff;}#sk-container-id-9 div.sk-parallel-item::after {content: \"\";width: 100%;border-bottom: 1px solid gray;flex-grow: 1;}#sk-container-id-9 div.sk-label:hover label.sk-toggleable__label {background-color: #d4ebff;}#sk-container-id-9 div.sk-serial::before {content: \"\";position: absolute;border-left: 1px solid gray;box-sizing: border-box;top: 0;bottom: 0;left: 50%;z-index: 0;}#sk-container-id-9 div.sk-serial {display: flex;flex-direction: column;align-items: center;background-color: white;padding-right: 0.2em;padding-left: 0.2em;position: relative;}#sk-container-id-9 div.sk-item {position: relative;z-index: 1;}#sk-container-id-9 div.sk-parallel {display: flex;align-items: stretch;justify-content: center;background-color: white;position: relative;}#sk-container-id-9 div.sk-item::before, #sk-container-id-9 div.sk-parallel-item::before {content: \"\";position: absolute;border-left: 1px solid gray;box-sizing: border-box;top: 0;bottom: 0;left: 50%;z-index: -1;}#sk-container-id-9 div.sk-parallel-item {display: flex;flex-direction: column;z-index: 1;position: relative;background-color: white;}#sk-container-id-9 div.sk-parallel-item:first-child::after {align-self: flex-end;width: 50%;}#sk-container-id-9 div.sk-parallel-item:last-child::after {align-self: flex-start;width: 50%;}#sk-container-id-9 div.sk-parallel-item:only-child::after {width: 0;}#sk-container-id-9 div.sk-dashed-wrapped {border: 1px dashed gray;margin: 0 0.4em 0.5em 0.4em;box-sizing: border-box;padding-bottom: 0.4em;background-color: white;}#sk-container-id-9 div.sk-label label {font-family: monospace;font-weight: bold;display: inline-block;line-height: 1.2em;}#sk-container-id-9 div.sk-label-container {text-align: center;}#sk-container-id-9 div.sk-container {/* jupyter's `normalize.less` sets `[hidden] { display: none; }` but bootstrap.min.css set `[hidden] { display: none !important; }` so we also need the `!important` here to be able to override the default hidden behavior on the sphinx rendered scikit-learn.org. See: https://github.com/scikit-learn/scikit-learn/issues/21755 */display: inline-block !important;position: relative;}#sk-container-id-9 div.sk-text-repr-fallback {display: none;}</style><div id=\"sk-container-id-9\" class=\"sk-top-container\"><div class=\"sk-text-repr-fallback\"><pre>XGBClassifier(base_score=None, booster=None, callbacks=None,\n",
       "              colsample_bylevel=None, colsample_bynode=None,\n",
       "              colsample_bytree=None, device=None, early_stopping_rounds=None,\n",
       "              enable_categorical=False, eval_metric=None, feature_types=None,\n",
       "              gamma=None, grow_policy=None, importance_type=None,\n",
       "              interaction_constraints=None, learning_rate=None, max_bin=None,\n",
       "              max_cat_threshold=None, max_cat_to_onehot=None,\n",
       "              max_delta_step=None, max_depth=None, max_leaves=None,\n",
       "              min_child_weight=None, missing=nan, monotone_constraints=None,\n",
       "              multi_strategy=None, n_estimators=None, n_jobs=None,\n",
       "              num_parallel_tree=None, random_state=100, ...)</pre><b>In a Jupyter environment, please rerun this cell to show the HTML representation or trust the notebook. <br />On GitHub, the HTML representation is unable to render, please try loading this page with nbviewer.org.</b></div><div class=\"sk-container\" hidden><div class=\"sk-item\"><div class=\"sk-estimator sk-toggleable\"><input class=\"sk-toggleable__control sk-hidden--visually\" id=\"sk-estimator-id-13\" type=\"checkbox\" checked><label for=\"sk-estimator-id-13\" class=\"sk-toggleable__label sk-toggleable__label-arrow\">XGBClassifier</label><div class=\"sk-toggleable__content\"><pre>XGBClassifier(base_score=None, booster=None, callbacks=None,\n",
       "              colsample_bylevel=None, colsample_bynode=None,\n",
       "              colsample_bytree=None, device=None, early_stopping_rounds=None,\n",
       "              enable_categorical=False, eval_metric=None, feature_types=None,\n",
       "              gamma=None, grow_policy=None, importance_type=None,\n",
       "              interaction_constraints=None, learning_rate=None, max_bin=None,\n",
       "              max_cat_threshold=None, max_cat_to_onehot=None,\n",
       "              max_delta_step=None, max_depth=None, max_leaves=None,\n",
       "              min_child_weight=None, missing=nan, monotone_constraints=None,\n",
       "              multi_strategy=None, n_estimators=None, n_jobs=None,\n",
       "              num_parallel_tree=None, random_state=100, ...)</pre></div></div></div></div></div>"
      ],
      "text/plain": [
       "XGBClassifier(base_score=None, booster=None, callbacks=None,\n",
       "              colsample_bylevel=None, colsample_bynode=None,\n",
       "              colsample_bytree=None, device=None, early_stopping_rounds=None,\n",
       "              enable_categorical=False, eval_metric=None, feature_types=None,\n",
       "              gamma=None, grow_policy=None, importance_type=None,\n",
       "              interaction_constraints=None, learning_rate=None, max_bin=None,\n",
       "              max_cat_threshold=None, max_cat_to_onehot=None,\n",
       "              max_delta_step=None, max_depth=None, max_leaves=None,\n",
       "              min_child_weight=None, missing=nan, monotone_constraints=None,\n",
       "              multi_strategy=None, n_estimators=None, n_jobs=None,\n",
       "              num_parallel_tree=None, random_state=100, ...)"
      ]
     },
     "execution_count": 46,
     "metadata": {},
     "output_type": "execute_result"
    }
   ],
   "source": [
    "XGB_model.fit(X_train, y_train)"
   ]
  },
  {
   "cell_type": "code",
   "execution_count": 47,
   "id": "2e4baeb7",
   "metadata": {
    "execution": {
     "iopub.execute_input": "2024-05-10T09:17:15.689222Z",
     "iopub.status.busy": "2024-05-10T09:17:15.688606Z",
     "iopub.status.idle": "2024-05-10T09:17:16.295600Z",
     "shell.execute_reply": "2024-05-10T09:17:16.294693Z"
    },
    "papermill": {
     "duration": 0.642472,
     "end_time": "2024-05-10T09:17:16.297682",
     "exception": false,
     "start_time": "2024-05-10T09:17:15.655210",
     "status": "completed"
    },
    "tags": []
   },
   "outputs": [
    {
     "name": "stdout",
     "output_type": "stream",
     "text": [
      "\n",
      "--------------- XGBoost ---------------\n",
      "\n",
      "BÁO CÁO PHÂN LOẠI:\n",
      "               precision    recall  f1-score   support\n",
      "\n",
      "           0       0.92      0.96      0.94     28812\n",
      "           1       0.95      0.91      0.93     28820\n",
      "\n",
      "    accuracy                           0.94     57632\n",
      "   macro avg       0.94      0.94      0.94     57632\n",
      "weighted avg       0.94      0.94      0.94     57632\n",
      "\n",
      "\n",
      "MA TRẬN NHẦM LẪN:\n",
      " <sklearn.metrics._plot.confusion_matrix.ConfusionMatrixDisplay object at 0x7b6e04b5eb00>\n",
      "Train Accuracy:  0.9399764017941578\n",
      "Test Accuracy:  0.9353310660744031\n",
      "F1 Score:  0.9339196113544087\n",
      "Recall:  0.9138445523941707\n",
      "Precision:  0.9548964867118669\n"
     ]
    },
    {
     "data": {
      "image/png": "[encoded data removed]",
      "text/plain": [
       "<Figure size 640x480 with 2 Axes>"
      ]
     },
     "metadata": {},
     "output_type": "display_data"
    }
   ],
   "source": [
    "pred_XGB_test = XGB_model.predict(X_test)\n",
    "\n",
    "pred_XGB_train = XGB_model.predict(X_train)\n",
    "\n",
    "print('\\n--------------- XGBoost ---------------\\n')\n",
    "print('BÁO CÁO PHÂN LOẠI:\\n', classification_report(y_test, pred_XGB_test, target_names=['0','1']))\n",
    "\n",
    "disp = ConfusionMatrixDisplay(confusion_matrix=confusion_matrix(y_test, pred_XGB_test),display_labels=['0','1'])\n",
    "print('\\nMA TRẬN NHẦM LẪN:\\n',disp.plot())\n",
    "\n",
    "acc_train = accuracy_score(y_train,pred_XGB_train)\n",
    "acc_test = accuracy_score(y_test,pred_XGB_test)\n",
    "f1 = f1_score(y_test,pred_XGB_test)\n",
    "recall = recall_score(y_test,pred_XGB_test)\n",
    "precision = precision_score(y_test,pred_XGB_test)\n",
    "\n",
    "print(\"Train Accuracy: \", acc_train)\n",
    "print(\"Test Accuracy: \", acc_test)\n",
    "print(\"F1 Score: \", f1)\n",
    "print(\"Recall: \", recall)\n",
    "print(\"Precision: \", precision)"
   ]
  },
  {
   "cell_type": "code",
   "execution_count": 48,
   "id": "43547723",
   "metadata": {
    "execution": {
     "iopub.execute_input": "2024-05-10T09:17:16.366338Z",
     "iopub.status.busy": "2024-05-10T09:17:16.365802Z",
     "iopub.status.idle": "2024-05-10T09:17:16.370068Z",
     "shell.execute_reply": "2024-05-10T09:17:16.369255Z"
    },
    "papermill": {
     "duration": 0.040385,
     "end_time": "2024-05-10T09:17:16.372024",
     "exception": false,
     "start_time": "2024-05-10T09:17:16.331639",
     "status": "completed"
    },
    "tags": []
   },
   "outputs": [],
   "source": [
    "storeResults('XGBoost', acc_train, acc_test, f1, recall, precision, 0)"
   ]
  },
  {
   "cell_type": "markdown",
   "id": "762dbfe9",
   "metadata": {
    "papermill": {
     "duration": 0.033173,
     "end_time": "2024-05-10T09:17:16.438686",
     "exception": false,
     "start_time": "2024-05-10T09:17:16.405513",
     "status": "completed"
    },
    "tags": []
   },
   "source": [
    "## Hyperparameter Tuning\n"
   ]
  },
  {
   "cell_type": "code",
   "execution_count": 49,
   "id": "b5da30d8",
   "metadata": {
    "execution": {
     "iopub.execute_input": "2024-05-10T09:17:16.508640Z",
     "iopub.status.busy": "2024-05-10T09:17:16.507915Z",
     "iopub.status.idle": "2024-05-10T09:17:16.514719Z",
     "shell.execute_reply": "2024-05-10T09:17:16.513879Z"
    },
    "papermill": {
     "duration": 0.043685,
     "end_time": "2024-05-10T09:17:16.516518",
     "exception": false,
     "start_time": "2024-05-10T09:17:16.472833",
     "status": "completed"
    },
    "tags": []
   },
   "outputs": [],
   "source": [
    "# Minimum sum of instance weight (hessian) needed in a child.\n",
    "min_child_weight = [1, 5]\n",
    "\n",
    "# Subsample ratio of the training instances. Setting it to 0.5 means that XGBoost would randomly sample half of the training data prior to growing trees. and this will prevent overfitting.\n",
    "subsample = [0.5, 1]\n",
    "\n",
    "# Step size shrinkage used in update to prevents overfitting.\n",
    "learning_rate = [0.01, 0.1, 0.2]\n",
    "\n",
    "# the number of trees to be used\n",
    "n_estimators = [50, 100, 200]\n",
    "\n",
    "# maximum number of splits each tree can take.\n",
    "max_depth = [None, 10, 20, 30]\n",
    "\n",
    "param_grid = {\n",
    "    'min_child_weight': min_child_weight, \n",
    "    'subsample': subsample, \n",
    "    'learning_rate': learning_rate,\n",
    "    'n_estimators': n_estimators,\n",
    "    'max_depth': max_depth\n",
    "}\n",
    "\n",
    "# cv : 3-fold cross validation\n",
    "# verbose: Controls the verbosity: the higher, the more messages.\n",
    "grid = GridSearchCV(xgb.XGBClassifier(random_state = 100), param_grid = param_grid, cv = 3,scoring = \"accuracy\", verbose = 1, n_jobs = -1, return_train_score=True)"
   ]
  },
  {
   "cell_type": "code",
   "execution_count": 50,
   "id": "05a5cd32",
   "metadata": {
    "execution": {
     "iopub.execute_input": "2024-05-10T09:17:16.584818Z",
     "iopub.status.busy": "2024-05-10T09:17:16.584252Z",
     "iopub.status.idle": "2024-05-10T09:44:54.535102Z",
     "shell.execute_reply": "2024-05-10T09:44:54.533886Z"
    },
    "papermill": {
     "duration": 1658.020901,
     "end_time": "2024-05-10T09:44:54.570766",
     "exception": false,
     "start_time": "2024-05-10T09:17:16.549865",
     "status": "completed"
    },
    "tags": []
   },
   "outputs": [
    {
     "name": "stdout",
     "output_type": "stream",
     "text": [
      "Fitting 3 folds for each of 144 candidates, totalling 432 fits\n"
     ]
    },
    {
     "name": "stderr",
     "output_type": "stream",
     "text": [
      "/opt/conda/lib/python3.10/site-packages/joblib/externals/loky/process_executor.py:752: UserWarning: A worker stopped while some jobs were given to the executor. This can be caused by a too short worker timeout or by a memory leak.\n",
      "  warnings.warn(\n"
     ]
    },
    {
     "data": {
      "text/html": [
       "<style>#sk-container-id-10 {color: black;background-color: white;}#sk-container-id-10 pre{padding: 0;}#sk-container-id-10 div.sk-toggleable {background-color: white;}#sk-container-id-10 label.sk-toggleable__label {cursor: pointer;display: block;width: 100%;margin-bottom: 0;padding: 0.3em;box-sizing: border-box;text-align: center;}#sk-container-id-10 label.sk-toggleable__label-arrow:before {content: \"▸\";float: left;margin-right: 0.25em;color: #696969;}#sk-container-id-10 label.sk-toggleable__label-arrow:hover:before {color: black;}#sk-container-id-10 div.sk-estimator:hover label.sk-toggleable__label-arrow:before {color: black;}#sk-container-id-10 div.sk-toggleable__content {max-height: 0;max-width: 0;overflow: hidden;text-align: left;background-color: #f0f8ff;}#sk-container-id-10 div.sk-toggleable__content pre {margin: 0.2em;color: black;border-radius: 0.25em;background-color: #f0f8ff;}#sk-container-id-10 input.sk-toggleable__control:checked~div.sk-toggleable__content {max-height: 200px;max-width: 100%;overflow: auto;}#sk-container-id-10 input.sk-toggleable__control:checked~label.sk-toggleable__label-arrow:before {content: \"▾\";}#sk-container-id-10 div.sk-estimator input.sk-toggleable__control:checked~label.sk-toggleable__label {background-color: #d4ebff;}#sk-container-id-10 div.sk-label input.sk-toggleable__control:checked~label.sk-toggleable__label {background-color: #d4ebff;}#sk-container-id-10 input.sk-hidden--visually {border: 0;clip: rect(1px 1px 1px 1px);clip: rect(1px, 1px, 1px, 1px);height: 1px;margin: -1px;overflow: hidden;padding: 0;position: absolute;width: 1px;}#sk-container-id-10 div.sk-estimator {font-family: monospace;background-color: #f0f8ff;border: 1px dotted black;border-radius: 0.25em;box-sizing: border-box;margin-bottom: 0.5em;}#sk-container-id-10 div.sk-estimator:hover {background-color: #d4ebff;}#sk-container-id-10 div.sk-parallel-item::after {content: \"\";width: 100%;border-bottom: 1px solid gray;flex-grow: 1;}#sk-container-id-10 div.sk-label:hover label.sk-toggleable__label {background-color: #d4ebff;}#sk-container-id-10 div.sk-serial::before {content: \"\";position: absolute;border-left: 1px solid gray;box-sizing: border-box;top: 0;bottom: 0;left: 50%;z-index: 0;}#sk-container-id-10 div.sk-serial {display: flex;flex-direction: column;align-items: center;background-color: white;padding-right: 0.2em;padding-left: 0.2em;position: relative;}#sk-container-id-10 div.sk-item {position: relative;z-index: 1;}#sk-container-id-10 div.sk-parallel {display: flex;align-items: stretch;justify-content: center;background-color: white;position: relative;}#sk-container-id-10 div.sk-item::before, #sk-container-id-10 div.sk-parallel-item::before {content: \"\";position: absolute;border-left: 1px solid gray;box-sizing: border-box;top: 0;bottom: 0;left: 50%;z-index: -1;}#sk-container-id-10 div.sk-parallel-item {display: flex;flex-direction: column;z-index: 1;position: relative;background-color: white;}#sk-container-id-10 div.sk-parallel-item:first-child::after {align-self: flex-end;width: 50%;}#sk-container-id-10 div.sk-parallel-item:last-child::after {align-self: flex-start;width: 50%;}#sk-container-id-10 div.sk-parallel-item:only-child::after {width: 0;}#sk-container-id-10 div.sk-dashed-wrapped {border: 1px dashed gray;margin: 0 0.4em 0.5em 0.4em;box-sizing: border-box;padding-bottom: 0.4em;background-color: white;}#sk-container-id-10 div.sk-label label {font-family: monospace;font-weight: bold;display: inline-block;line-height: 1.2em;}#sk-container-id-10 div.sk-label-container {text-align: center;}#sk-container-id-10 div.sk-container {/* jupyter's `normalize.less` sets `[hidden] { display: none; }` but bootstrap.min.css set `[hidden] { display: none !important; }` so we also need the `!important` here to be able to override the default hidden behavior on the sphinx rendered scikit-learn.org. See: https://github.com/scikit-learn/scikit-learn/issues/21755 */display: inline-block !important;position: relative;}#sk-container-id-10 div.sk-text-repr-fallback {display: none;}</style><div id=\"sk-container-id-10\" class=\"sk-top-container\"><div class=\"sk-text-repr-fallback\"><pre>GridSearchCV(cv=3,\n",
       "             estimator=XGBClassifier(base_score=None, booster=None,\n",
       "                                     callbacks=None, colsample_bylevel=None,\n",
       "                                     colsample_bynode=None,\n",
       "                                     colsample_bytree=None, device=None,\n",
       "                                     early_stopping_rounds=None,\n",
       "                                     enable_categorical=False, eval_metric=None,\n",
       "                                     feature_types=None, gamma=None,\n",
       "                                     grow_policy=None, importance_type=None,\n",
       "                                     interaction_constraints=None,\n",
       "                                     learning_rate=None,...\n",
       "                                     max_leaves=None, min_child_weight=None,\n",
       "                                     missing=nan, monotone_constraints=None,\n",
       "                                     multi_strategy=None, n_estimators=None,\n",
       "                                     n_jobs=None, num_parallel_tree=None,\n",
       "                                     random_state=100, ...),\n",
       "             n_jobs=-1,\n",
       "             param_grid={&#x27;learning_rate&#x27;: [0.01, 0.1, 0.2],\n",
       "                         &#x27;max_depth&#x27;: [None, 10, 20, 30],\n",
       "                         &#x27;min_child_weight&#x27;: [1, 5],\n",
       "                         &#x27;n_estimators&#x27;: [50, 100, 200],\n",
       "                         &#x27;subsample&#x27;: [0.5, 1]},\n",
       "             return_train_score=True, scoring=&#x27;accuracy&#x27;, verbose=1)</pre><b>In a Jupyter environment, please rerun this cell to show the HTML representation or trust the notebook. <br />On GitHub, the HTML representation is unable to render, please try loading this page with nbviewer.org.</b></div><div class=\"sk-container\" hidden><div class=\"sk-item sk-dashed-wrapped\"><div class=\"sk-label-container\"><div class=\"sk-label sk-toggleable\"><input class=\"sk-toggleable__control sk-hidden--visually\" id=\"sk-estimator-id-14\" type=\"checkbox\" ><label for=\"sk-estimator-id-14\" class=\"sk-toggleable__label sk-toggleable__label-arrow\">GridSearchCV</label><div class=\"sk-toggleable__content\"><pre>GridSearchCV(cv=3,\n",
       "             estimator=XGBClassifier(base_score=None, booster=None,\n",
       "                                     callbacks=None, colsample_bylevel=None,\n",
       "                                     colsample_bynode=None,\n",
       "                                     colsample_bytree=None, device=None,\n",
       "                                     early_stopping_rounds=None,\n",
       "                                     enable_categorical=False, eval_metric=None,\n",
       "                                     feature_types=None, gamma=None,\n",
       "                                     grow_policy=None, importance_type=None,\n",
       "                                     interaction_constraints=None,\n",
       "                                     learning_rate=None,...\n",
       "                                     max_leaves=None, min_child_weight=None,\n",
       "                                     missing=nan, monotone_constraints=None,\n",
       "                                     multi_strategy=None, n_estimators=None,\n",
       "                                     n_jobs=None, num_parallel_tree=None,\n",
       "                                     random_state=100, ...),\n",
       "             n_jobs=-1,\n",
       "             param_grid={&#x27;learning_rate&#x27;: [0.01, 0.1, 0.2],\n",
       "                         &#x27;max_depth&#x27;: [None, 10, 20, 30],\n",
       "                         &#x27;min_child_weight&#x27;: [1, 5],\n",
       "                         &#x27;n_estimators&#x27;: [50, 100, 200],\n",
       "                         &#x27;subsample&#x27;: [0.5, 1]},\n",
       "             return_train_score=True, scoring=&#x27;accuracy&#x27;, verbose=1)</pre></div></div></div><div class=\"sk-parallel\"><div class=\"sk-parallel-item\"><div class=\"sk-item\"><div class=\"sk-label-container\"><div class=\"sk-label sk-toggleable\"><input class=\"sk-toggleable__control sk-hidden--visually\" id=\"sk-estimator-id-15\" type=\"checkbox\" ><label for=\"sk-estimator-id-15\" class=\"sk-toggleable__label sk-toggleable__label-arrow\">estimator: XGBClassifier</label><div class=\"sk-toggleable__content\"><pre>XGBClassifier(base_score=None, booster=None, callbacks=None,\n",
       "              colsample_bylevel=None, colsample_bynode=None,\n",
       "              colsample_bytree=None, device=None, early_stopping_rounds=None,\n",
       "              enable_categorical=False, eval_metric=None, feature_types=None,\n",
       "              gamma=None, grow_policy=None, importance_type=None,\n",
       "              interaction_constraints=None, learning_rate=None, max_bin=None,\n",
       "              max_cat_threshold=None, max_cat_to_onehot=None,\n",
       "              max_delta_step=None, max_depth=None, max_leaves=None,\n",
       "              min_child_weight=None, missing=nan, monotone_constraints=None,\n",
       "              multi_strategy=None, n_estimators=None, n_jobs=None,\n",
       "              num_parallel_tree=None, random_state=100, ...)</pre></div></div></div><div class=\"sk-serial\"><div class=\"sk-item\"><div class=\"sk-estimator sk-toggleable\"><input class=\"sk-toggleable__control sk-hidden--visually\" id=\"sk-estimator-id-16\" type=\"checkbox\" ><label for=\"sk-estimator-id-16\" class=\"sk-toggleable__label sk-toggleable__label-arrow\">XGBClassifier</label><div class=\"sk-toggleable__content\"><pre>XGBClassifier(base_score=None, booster=None, callbacks=None,\n",
       "              colsample_bylevel=None, colsample_bynode=None,\n",
       "              colsample_bytree=None, device=None, early_stopping_rounds=None,\n",
       "              enable_categorical=False, eval_metric=None, feature_types=None,\n",
       "              gamma=None, grow_policy=None, importance_type=None,\n",
       "              interaction_constraints=None, learning_rate=None, max_bin=None,\n",
       "              max_cat_threshold=None, max_cat_to_onehot=None,\n",
       "              max_delta_step=None, max_depth=None, max_leaves=None,\n",
       "              min_child_weight=None, missing=nan, monotone_constraints=None,\n",
       "              multi_strategy=None, n_estimators=None, n_jobs=None,\n",
       "              num_parallel_tree=None, random_state=100, ...)</pre></div></div></div></div></div></div></div></div></div></div>"
      ],
      "text/plain": [
       "GridSearchCV(cv=3,\n",
       "             estimator=XGBClassifier(base_score=None, booster=None,\n",
       "                                     callbacks=None, colsample_bylevel=None,\n",
       "                                     colsample_bynode=None,\n",
       "                                     colsample_bytree=None, device=None,\n",
       "                                     early_stopping_rounds=None,\n",
       "                                     enable_categorical=False, eval_metric=None,\n",
       "                                     feature_types=None, gamma=None,\n",
       "                                     grow_policy=None, importance_type=None,\n",
       "                                     interaction_constraints=None,\n",
       "                                     learning_rate=None,...\n",
       "                                     max_leaves=None, min_child_weight=None,\n",
       "                                     missing=nan, monotone_constraints=None,\n",
       "                                     multi_strategy=None, n_estimators=None,\n",
       "                                     n_jobs=None, num_parallel_tree=None,\n",
       "                                     random_state=100, ...),\n",
       "             n_jobs=-1,\n",
       "             param_grid={'learning_rate': [0.01, 0.1, 0.2],\n",
       "                         'max_depth': [None, 10, 20, 30],\n",
       "                         'min_child_weight': [1, 5],\n",
       "                         'n_estimators': [50, 100, 200],\n",
       "                         'subsample': [0.5, 1]},\n",
       "             return_train_score=True, scoring='accuracy', verbose=1)"
      ]
     },
     "execution_count": 50,
     "metadata": {},
     "output_type": "execute_result"
    }
   ],
   "source": [
    "# Huấn luyện mô hình với Grid Search.\n",
    "grid.fit(X_train, y_train)"
   ]
  },
  {
   "cell_type": "code",
   "execution_count": 51,
   "id": "f9d8aff0",
   "metadata": {
    "execution": {
     "iopub.execute_input": "2024-05-10T09:44:54.641184Z",
     "iopub.status.busy": "2024-05-10T09:44:54.640215Z",
     "iopub.status.idle": "2024-05-10T09:44:54.646963Z",
     "shell.execute_reply": "2024-05-10T09:44:54.645970Z"
    },
    "papermill": {
     "duration": 0.044437,
     "end_time": "2024-05-10T09:44:54.649069",
     "exception": false,
     "start_time": "2024-05-10T09:44:54.604632",
     "status": "completed"
    },
    "tags": []
   },
   "outputs": [
    {
     "data": {
      "text/plain": [
       "{'learning_rate': 0.2,\n",
       " 'max_depth': 20,\n",
       " 'min_child_weight': 5,\n",
       " 'n_estimators': 200,\n",
       " 'subsample': 1}"
      ]
     },
     "execution_count": 51,
     "metadata": {},
     "output_type": "execute_result"
    }
   ],
   "source": [
    "grid.best_params_"
   ]
  },
  {
   "cell_type": "code",
   "execution_count": 52,
   "id": "71aa2daa",
   "metadata": {
    "execution": {
     "iopub.execute_input": "2024-05-10T09:44:54.718790Z",
     "iopub.status.busy": "2024-05-10T09:44:54.718185Z",
     "iopub.status.idle": "2024-05-10T09:44:54.723140Z",
     "shell.execute_reply": "2024-05-10T09:44:54.722304Z"
    },
    "papermill": {
     "duration": 0.04218,
     "end_time": "2024-05-10T09:44:54.725113",
     "exception": false,
     "start_time": "2024-05-10T09:44:54.682933",
     "status": "completed"
    },
    "tags": []
   },
   "outputs": [],
   "source": [
    "XGB_grid = xgb.XGBClassifier(random_state = 100, \n",
    "                              max_depth = 20,\n",
    "                              learning_rate = 0.2,\n",
    "                              min_child_weight = 5,\n",
    "                              subsample = 1,\n",
    "                             n_estimators = 200\n",
    "                             )"
   ]
  },
  {
   "cell_type": "code",
   "execution_count": 53,
   "id": "5c850c12",
   "metadata": {
    "execution": {
     "iopub.execute_input": "2024-05-10T09:44:54.796135Z",
     "iopub.status.busy": "2024-05-10T09:44:54.795323Z",
     "iopub.status.idle": "2024-05-10T09:45:03.764394Z",
     "shell.execute_reply": "2024-05-10T09:45:03.763435Z"
    },
    "papermill": {
     "duration": 9.007186,
     "end_time": "2024-05-10T09:45:03.766638",
     "exception": false,
     "start_time": "2024-05-10T09:44:54.759452",
     "status": "completed"
    },
    "tags": []
   },
   "outputs": [
    {
     "data": {
      "text/html": [
       "<style>#sk-container-id-11 {color: black;background-color: white;}#sk-container-id-11 pre{padding: 0;}#sk-container-id-11 div.sk-toggleable {background-color: white;}#sk-container-id-11 label.sk-toggleable__label {cursor: pointer;display: block;width: 100%;margin-bottom: 0;padding: 0.3em;box-sizing: border-box;text-align: center;}#sk-container-id-11 label.sk-toggleable__label-arrow:before {content: \"▸\";float: left;margin-right: 0.25em;color: #696969;}#sk-container-id-11 label.sk-toggleable__label-arrow:hover:before {color: black;}#sk-container-id-11 div.sk-estimator:hover label.sk-toggleable__label-arrow:before {color: black;}#sk-container-id-11 div.sk-toggleable__content {max-height: 0;max-width: 0;overflow: hidden;text-align: left;background-color: #f0f8ff;}#sk-container-id-11 div.sk-toggleable__content pre {margin: 0.2em;color: black;border-radius: 0.25em;background-color: #f0f8ff;}#sk-container-id-11 input.sk-toggleable__control:checked~div.sk-toggleable__content {max-height: 200px;max-width: 100%;overflow: auto;}#sk-container-id-11 input.sk-toggleable__control:checked~label.sk-toggleable__label-arrow:before {content: \"▾\";}#sk-container-id-11 div.sk-estimator input.sk-toggleable__control:checked~label.sk-toggleable__label {background-color: #d4ebff;}#sk-container-id-11 div.sk-label input.sk-toggleable__control:checked~label.sk-toggleable__label {background-color: #d4ebff;}#sk-container-id-11 input.sk-hidden--visually {border: 0;clip: rect(1px 1px 1px 1px);clip: rect(1px, 1px, 1px, 1px);height: 1px;margin: -1px;overflow: hidden;padding: 0;position: absolute;width: 1px;}#sk-container-id-11 div.sk-estimator {font-family: monospace;background-color: #f0f8ff;border: 1px dotted black;border-radius: 0.25em;box-sizing: border-box;margin-bottom: 0.5em;}#sk-container-id-11 div.sk-estimator:hover {background-color: #d4ebff;}#sk-container-id-11 div.sk-parallel-item::after {content: \"\";width: 100%;border-bottom: 1px solid gray;flex-grow: 1;}#sk-container-id-11 div.sk-label:hover label.sk-toggleable__label {background-color: #d4ebff;}#sk-container-id-11 div.sk-serial::before {content: \"\";position: absolute;border-left: 1px solid gray;box-sizing: border-box;top: 0;bottom: 0;left: 50%;z-index: 0;}#sk-container-id-11 div.sk-serial {display: flex;flex-direction: column;align-items: center;background-color: white;padding-right: 0.2em;padding-left: 0.2em;position: relative;}#sk-container-id-11 div.sk-item {position: relative;z-index: 1;}#sk-container-id-11 div.sk-parallel {display: flex;align-items: stretch;justify-content: center;background-color: white;position: relative;}#sk-container-id-11 div.sk-item::before, #sk-container-id-11 div.sk-parallel-item::before {content: \"\";position: absolute;border-left: 1px solid gray;box-sizing: border-box;top: 0;bottom: 0;left: 50%;z-index: -1;}#sk-container-id-11 div.sk-parallel-item {display: flex;flex-direction: column;z-index: 1;position: relative;background-color: white;}#sk-container-id-11 div.sk-parallel-item:first-child::after {align-self: flex-end;width: 50%;}#sk-container-id-11 div.sk-parallel-item:last-child::after {align-self: flex-start;width: 50%;}#sk-container-id-11 div.sk-parallel-item:only-child::after {width: 0;}#sk-container-id-11 div.sk-dashed-wrapped {border: 1px dashed gray;margin: 0 0.4em 0.5em 0.4em;box-sizing: border-box;padding-bottom: 0.4em;background-color: white;}#sk-container-id-11 div.sk-label label {font-family: monospace;font-weight: bold;display: inline-block;line-height: 1.2em;}#sk-container-id-11 div.sk-label-container {text-align: center;}#sk-container-id-11 div.sk-container {/* jupyter's `normalize.less` sets `[hidden] { display: none; }` but bootstrap.min.css set `[hidden] { display: none !important; }` so we also need the `!important` here to be able to override the default hidden behavior on the sphinx rendered scikit-learn.org. See: https://github.com/scikit-learn/scikit-learn/issues/21755 */display: inline-block !important;position: relative;}#sk-container-id-11 div.sk-text-repr-fallback {display: none;}</style><div id=\"sk-container-id-11\" class=\"sk-top-container\"><div class=\"sk-text-repr-fallback\"><pre>XGBClassifier(base_score=None, booster=None, callbacks=None,\n",
       "              colsample_bylevel=None, colsample_bynode=None,\n",
       "              colsample_bytree=None, device=None, early_stopping_rounds=None,\n",
       "              enable_categorical=False, eval_metric=None, feature_types=None,\n",
       "              gamma=None, grow_policy=None, importance_type=None,\n",
       "              interaction_constraints=None, learning_rate=0.2, max_bin=None,\n",
       "              max_cat_threshold=None, max_cat_to_onehot=None,\n",
       "              max_delta_step=None, max_depth=20, max_leaves=None,\n",
       "              min_child_weight=5, missing=nan, monotone_constraints=None,\n",
       "              multi_strategy=None, n_estimators=200, n_jobs=None,\n",
       "              num_parallel_tree=None, random_state=100, ...)</pre><b>In a Jupyter environment, please rerun this cell to show the HTML representation or trust the notebook. <br />On GitHub, the HTML representation is unable to render, please try loading this page with nbviewer.org.</b></div><div class=\"sk-container\" hidden><div class=\"sk-item\"><div class=\"sk-estimator sk-toggleable\"><input class=\"sk-toggleable__control sk-hidden--visually\" id=\"sk-estimator-id-17\" type=\"checkbox\" checked><label for=\"sk-estimator-id-17\" class=\"sk-toggleable__label sk-toggleable__label-arrow\">XGBClassifier</label><div class=\"sk-toggleable__content\"><pre>XGBClassifier(base_score=None, booster=None, callbacks=None,\n",
       "              colsample_bylevel=None, colsample_bynode=None,\n",
       "              colsample_bytree=None, device=None, early_stopping_rounds=None,\n",
       "              enable_categorical=False, eval_metric=None, feature_types=None,\n",
       "              gamma=None, grow_policy=None, importance_type=None,\n",
       "              interaction_constraints=None, learning_rate=0.2, max_bin=None,\n",
       "              max_cat_threshold=None, max_cat_to_onehot=None,\n",
       "              max_delta_step=None, max_depth=20, max_leaves=None,\n",
       "              min_child_weight=5, missing=nan, monotone_constraints=None,\n",
       "              multi_strategy=None, n_estimators=200, n_jobs=None,\n",
       "              num_parallel_tree=None, random_state=100, ...)</pre></div></div></div></div></div>"
      ],
      "text/plain": [
       "XGBClassifier(base_score=None, booster=None, callbacks=None,\n",
       "              colsample_bylevel=None, colsample_bynode=None,\n",
       "              colsample_bytree=None, device=None, early_stopping_rounds=None,\n",
       "              enable_categorical=False, eval_metric=None, feature_types=None,\n",
       "              gamma=None, grow_policy=None, importance_type=None,\n",
       "              interaction_constraints=None, learning_rate=0.2, max_bin=None,\n",
       "              max_cat_threshold=None, max_cat_to_onehot=None,\n",
       "              max_delta_step=None, max_depth=20, max_leaves=None,\n",
       "              min_child_weight=5, missing=nan, monotone_constraints=None,\n",
       "              multi_strategy=None, n_estimators=200, n_jobs=None,\n",
       "              num_parallel_tree=None, random_state=100, ...)"
      ]
     },
     "execution_count": 53,
     "metadata": {},
     "output_type": "execute_result"
    }
   ],
   "source": [
    "XGB_grid.fit(X_train, y_train)"
   ]
  },
  {
   "cell_type": "code",
   "execution_count": 54,
   "id": "6af00398",
   "metadata": {
    "execution": {
     "iopub.execute_input": "2024-05-10T09:45:03.839936Z",
     "iopub.status.busy": "2024-05-10T09:45:03.839560Z",
     "iopub.status.idle": "2024-05-10T09:45:06.249503Z",
     "shell.execute_reply": "2024-05-10T09:45:06.248539Z"
    },
    "papermill": {
     "duration": 2.449297,
     "end_time": "2024-05-10T09:45:06.251593",
     "exception": false,
     "start_time": "2024-05-10T09:45:03.802296",
     "status": "completed"
    },
    "tags": []
   },
   "outputs": [
    {
     "name": "stdout",
     "output_type": "stream",
     "text": [
      "\n",
      "--------------- XGBoost after tuning ---------------\n",
      "\n",
      "BÁO CÁO PHÂN LOẠI:\n",
      "               precision    recall  f1-score   support\n",
      "\n",
      "           0       0.95      0.97      0.96     28812\n",
      "           1       0.97      0.95      0.96     28820\n",
      "\n",
      "    accuracy                           0.96     57632\n",
      "   macro avg       0.96      0.96      0.96     57632\n",
      "weighted avg       0.96      0.96      0.96     57632\n",
      "\n",
      "\n",
      "MA TRẬN NHẦM LẪN:\n",
      " <sklearn.metrics._plot.confusion_matrix.ConfusionMatrixDisplay object at 0x7b6de65585b0>\n",
      "Train Accuracy:  0.9875155080121114\n",
      "Test Accuracy:  0.9582697112715158\n",
      "F1 Score:  0.9578417795852543\n",
      "Recall:  0.9479875086745315\n",
      "Precision:  0.9679030715272612\n"
     ]
    },
    {
     "data": {
      "image/png": "[encoded data removed]",
      "text/plain": [
       "<Figure size 640x480 with 2 Axes>"
      ]
     },
     "metadata": {},
     "output_type": "display_data"
    }
   ],
   "source": [
    "pred_XGB_test = XGB_grid.predict(X_test)\n",
    "\n",
    "pred_XGB_train = XGB_grid.predict(X_train)\n",
    "\n",
    "print('\\n--------------- XGBoost after tuning ---------------\\n')\n",
    "print('BÁO CÁO PHÂN LOẠI:\\n', classification_report(y_test, pred_XGB_test, target_names=['0','1']))\n",
    "\n",
    "disp = ConfusionMatrixDisplay(confusion_matrix=confusion_matrix(y_test, pred_XGB_test),display_labels=['0','1'])\n",
    "print('\\nMA TRẬN NHẦM LẪN:\\n',disp.plot())\n",
    "\n",
    "acc_train = accuracy_score(y_train,pred_XGB_train)\n",
    "acc_test = accuracy_score(y_test,pred_XGB_test)\n",
    "f1 = f1_score(y_test,pred_XGB_test)\n",
    "recall = recall_score(y_test,pred_XGB_test)\n",
    "precision = precision_score(y_test,pred_XGB_test)\n",
    "\n",
    "print(\"Train Accuracy: \", acc_train)\n",
    "print(\"Test Accuracy: \", acc_test)\n",
    "print(\"F1 Score: \", f1)\n",
    "print(\"Recall: \", recall)\n",
    "print(\"Precision: \", precision)"
   ]
  },
  {
   "cell_type": "code",
   "execution_count": 55,
   "id": "1c2d5e33",
   "metadata": {
    "execution": {
     "iopub.execute_input": "2024-05-10T09:45:06.324989Z",
     "iopub.status.busy": "2024-05-10T09:45:06.324037Z",
     "iopub.status.idle": "2024-05-10T09:45:06.773429Z",
     "shell.execute_reply": "2024-05-10T09:45:06.772530Z"
    },
    "papermill": {
     "duration": 0.489014,
     "end_time": "2024-05-10T09:45:06.776279",
     "exception": false,
     "start_time": "2024-05-10T09:45:06.287265",
     "status": "completed"
    },
    "tags": []
   },
   "outputs": [
    {
     "data": {
      "image/png": "[encoded data removed]",
      "text/plain": [
       "<Figure size 900x700 with 1 Axes>"
      ]
     },
     "metadata": {},
     "output_type": "display_data"
    }
   ],
   "source": [
    "importances = XGB_grid.feature_importances_\n",
    "\n",
    "indices = np.argsort(importances)\n",
    "\n",
    "plt.figure(figsize = (9, 7))\n",
    "\n",
    "n_features = X_train.shape[1]\n",
    "\n",
    "plt.barh(range(n_features), importances[indices], align = 'center')\n",
    "\n",
    "plt.yticks(np.arange(n_features), X_train.columns[indices])\n",
    "for index, value in enumerate(importances[indices]):\n",
    "    plt.text(value, index, str(round(value,3)))\n",
    "plt.xlabel(\"ĐẶC TRƯNG QUAN TRỌNG\")\n",
    "plt.ylabel(\"ĐẶC TRƯNG\")\n",
    "plt.show()"
   ]
  },
  {
   "cell_type": "code",
   "execution_count": 56,
   "id": "4aa2f159",
   "metadata": {
    "execution": {
     "iopub.execute_input": "2024-05-10T09:45:06.851989Z",
     "iopub.status.busy": "2024-05-10T09:45:06.851635Z",
     "iopub.status.idle": "2024-05-10T09:45:06.856268Z",
     "shell.execute_reply": "2024-05-10T09:45:06.855419Z"
    },
    "papermill": {
     "duration": 0.04468,
     "end_time": "2024-05-10T09:45:06.858162",
     "exception": false,
     "start_time": "2024-05-10T09:45:06.813482",
     "status": "completed"
    },
    "tags": []
   },
   "outputs": [],
   "source": [
    "storeResults('XGBoost', acc_train, acc_test, f1, recall, precision, 1)"
   ]
  },
  {
   "cell_type": "markdown",
   "id": "e9690cdb",
   "metadata": {
    "papermill": {
     "duration": 0.036507,
     "end_time": "2024-05-10T09:45:06.931833",
     "exception": false,
     "start_time": "2024-05-10T09:45:06.895326",
     "status": "completed"
    },
    "tags": []
   },
   "source": [
    "# Evaluation Metrics"
   ]
  },
  {
   "cell_type": "code",
   "execution_count": 57,
   "id": "05c4bb52",
   "metadata": {
    "execution": {
     "iopub.execute_input": "2024-05-10T09:45:07.007157Z",
     "iopub.status.busy": "2024-05-10T09:45:07.006779Z",
     "iopub.status.idle": "2024-05-10T09:45:07.029405Z",
     "shell.execute_reply": "2024-05-10T09:45:07.028527Z"
    },
    "papermill": {
     "duration": 0.062992,
     "end_time": "2024-05-10T09:45:07.031453",
     "exception": false,
     "start_time": "2024-05-10T09:45:06.968461",
     "status": "completed"
    },
    "tags": []
   },
   "outputs": [
    {
     "data": {
      "text/html": [
       "<div>\n",
       "<style scoped>\n",
       "    .dataframe tbody tr th:only-of-type {\n",
       "        vertical-align: middle;\n",
       "    }\n",
       "\n",
       "    .dataframe tbody tr th {\n",
       "        vertical-align: top;\n",
       "    }\n",
       "\n",
       "    .dataframe thead th {\n",
       "        text-align: right;\n",
       "    }\n",
       "</style>\n",
       "<table border=\"1\" class=\"dataframe\">\n",
       "  <thead>\n",
       "    <tr style=\"text-align: right;\">\n",
       "      <th></th>\n",
       "      <th>MÔ HÌNH</th>\n",
       "      <th>ĐỘ CHÍNH XÁC TRÊN TẬP HUẤN LUYỆN</th>\n",
       "      <th>ĐỘ CHÍNH XÁC TRÊN TẬP KIỂM TRA</th>\n",
       "      <th>F1 SCORE</th>\n",
       "      <th>RECALL SCORE</th>\n",
       "      <th>PRECISION SCORE</th>\n",
       "    </tr>\n",
       "  </thead>\n",
       "  <tbody>\n",
       "    <tr>\n",
       "      <th>0</th>\n",
       "      <td>XGBoost</td>\n",
       "      <td>94.0%</td>\n",
       "      <td>93.5%</td>\n",
       "      <td>93.4%</td>\n",
       "      <td>91.4%</td>\n",
       "      <td>95.5%</td>\n",
       "    </tr>\n",
       "    <tr>\n",
       "      <th>1</th>\n",
       "      <td>Random Forest</td>\n",
       "      <td>99.4%</td>\n",
       "      <td>93.4%</td>\n",
       "      <td>93.3%</td>\n",
       "      <td>92.0%</td>\n",
       "      <td>94.6%</td>\n",
       "    </tr>\n",
       "    <tr>\n",
       "      <th>2</th>\n",
       "      <td>Decision Tree</td>\n",
       "      <td>99.4%</td>\n",
       "      <td>91.5%</td>\n",
       "      <td>91.4%</td>\n",
       "      <td>90.8%</td>\n",
       "      <td>92.1%</td>\n",
       "    </tr>\n",
       "    <tr>\n",
       "      <th>3</th>\n",
       "      <td>Gradient Boosting</td>\n",
       "      <td>88.3%</td>\n",
       "      <td>88.5%</td>\n",
       "      <td>87.8%</td>\n",
       "      <td>83.0%</td>\n",
       "      <td>93.2%</td>\n",
       "    </tr>\n",
       "    <tr>\n",
       "      <th>4</th>\n",
       "      <td>Logistic Regression</td>\n",
       "      <td>85.0%</td>\n",
       "      <td>84.7%</td>\n",
       "      <td>84.5%</td>\n",
       "      <td>83.4%</td>\n",
       "      <td>85.6%</td>\n",
       "    </tr>\n",
       "  </tbody>\n",
       "</table>\n",
       "</div>"
      ],
      "text/plain": [
       "               MÔ HÌNH ĐỘ CHÍNH XÁC TRÊN TẬP HUẤN LUYỆN  \\\n",
       "0              XGBoost                            94.0%   \n",
       "1        Random Forest                            99.4%   \n",
       "2        Decision Tree                            99.4%   \n",
       "3    Gradient Boosting                            88.3%   \n",
       "4  Logistic Regression                            85.0%   \n",
       "\n",
       "  ĐỘ CHÍNH XÁC TRÊN TẬP KIỂM TRA F1 SCORE RECALL SCORE PRECISION SCORE  \n",
       "0                          93.5%    93.4%        91.4%           95.5%  \n",
       "1                          93.4%    93.3%        92.0%           94.6%  \n",
       "2                          91.5%    91.4%        90.8%           92.1%  \n",
       "3                          88.5%    87.8%        83.0%           93.2%  \n",
       "4                          84.7%    84.5%        83.4%           85.6%  "
      ]
     },
     "execution_count": 57,
     "metadata": {},
     "output_type": "execute_result"
    }
   ],
   "source": [
    "ML_model = sort_models(ML_model)\n",
    "dicts = [obj.__dict__ for obj in ML_model]\n",
    "\n",
    "df = pd.DataFrame.from_records(dicts)\n",
    "\n",
    "df['acc_train'] = (df['acc_train'] * 100).round(2).astype(str) + '%'\n",
    "df['acc_tests'] = (df['acc_tests'] * 100).round(2).astype(str) + '%'\n",
    "df['f1_score'] = (df['f1_score'] * 100).round(2).astype(str) + '%'\n",
    "df['recall_score'] = (df['recall_score'] * 100).round(2).astype(str) + '%'\n",
    "df['precision_score'] = (df['precision_score'] * 100).round(2).astype(str) + '%'\n",
    "\n",
    "df = df.rename(columns={\n",
    "    'name': 'MÔ HÌNH',\n",
    "    'acc_train': 'ĐỘ CHÍNH XÁC TRÊN TẬP HUẤN LUYỆN',\n",
    "    'acc_tests': 'ĐỘ CHÍNH XÁC TRÊN TẬP KIỂM TRA',\n",
    "    'f1_score': 'F1 SCORE',\n",
    "    'recall_score': 'RECALL SCORE',\n",
    "    'precision_score': 'PRECISION SCORE'\n",
    "})\n",
    "\n",
    "df"
   ]
  },
  {
   "cell_type": "code",
   "execution_count": 58,
   "id": "73a621f1",
   "metadata": {
    "execution": {
     "iopub.execute_input": "2024-05-10T09:45:07.110039Z",
     "iopub.status.busy": "2024-05-10T09:45:07.109319Z",
     "iopub.status.idle": "2024-05-10T09:45:07.131118Z",
     "shell.execute_reply": "2024-05-10T09:45:07.130147Z"
    },
    "papermill": {
     "duration": 0.063144,
     "end_time": "2024-05-10T09:45:07.133329",
     "exception": false,
     "start_time": "2024-05-10T09:45:07.070185",
     "status": "completed"
    },
    "tags": []
   },
   "outputs": [
    {
     "data": {
      "text/html": [
       "<div>\n",
       "<style scoped>\n",
       "    .dataframe tbody tr th:only-of-type {\n",
       "        vertical-align: middle;\n",
       "    }\n",
       "\n",
       "    .dataframe tbody tr th {\n",
       "        vertical-align: top;\n",
       "    }\n",
       "\n",
       "    .dataframe thead th {\n",
       "        text-align: right;\n",
       "    }\n",
       "</style>\n",
       "<table border=\"1\" class=\"dataframe\">\n",
       "  <thead>\n",
       "    <tr style=\"text-align: right;\">\n",
       "      <th></th>\n",
       "      <th>MÔ HÌNH</th>\n",
       "      <th>ĐỘ CHÍNH XÁC TRÊN TẬP HUẤN LUYỆN</th>\n",
       "      <th>ĐỘ CHÍNH XÁC TRÊN TẬP KIỂM TRA</th>\n",
       "      <th>F1 SCORE</th>\n",
       "      <th>RECALL SCORE</th>\n",
       "      <th>PRECISION SCORE</th>\n",
       "    </tr>\n",
       "  </thead>\n",
       "  <tbody>\n",
       "    <tr>\n",
       "      <th>0</th>\n",
       "      <td>XGBoost</td>\n",
       "      <td>98.8%</td>\n",
       "      <td>95.8%</td>\n",
       "      <td>95.8%</td>\n",
       "      <td>94.8%</td>\n",
       "      <td>96.8%</td>\n",
       "    </tr>\n",
       "    <tr>\n",
       "      <th>1</th>\n",
       "      <td>Random Forest</td>\n",
       "      <td>98.5%</td>\n",
       "      <td>93.6%</td>\n",
       "      <td>93.5%</td>\n",
       "      <td>92.1%</td>\n",
       "      <td>94.8%</td>\n",
       "    </tr>\n",
       "    <tr>\n",
       "      <th>2</th>\n",
       "      <td>Decision Tree</td>\n",
       "      <td>96.6%</td>\n",
       "      <td>91.7%</td>\n",
       "      <td>91.6%</td>\n",
       "      <td>90.2%</td>\n",
       "      <td>92.9%</td>\n",
       "    </tr>\n",
       "  </tbody>\n",
       "</table>\n",
       "</div>"
      ],
      "text/plain": [
       "         MÔ HÌNH ĐỘ CHÍNH XÁC TRÊN TẬP HUẤN LUYỆN  \\\n",
       "0        XGBoost                            98.8%   \n",
       "1  Random Forest                            98.5%   \n",
       "2  Decision Tree                            96.6%   \n",
       "\n",
       "  ĐỘ CHÍNH XÁC TRÊN TẬP KIỂM TRA F1 SCORE RECALL SCORE PRECISION SCORE  \n",
       "0                          95.8%    95.8%        94.8%           96.8%  \n",
       "1                          93.6%    93.5%        92.1%           94.8%  \n",
       "2                          91.7%    91.6%        90.2%           92.9%  "
      ]
     },
     "execution_count": 58,
     "metadata": {},
     "output_type": "execute_result"
    }
   ],
   "source": [
    "ML_top3_model_tuning = sort_models(ML_top3_model_tuning)\n",
    "dicts = [obj.__dict__ for obj in ML_top3_model_tuning]\n",
    "\n",
    "df = pd.DataFrame.from_records(dicts)\n",
    "\n",
    "df['acc_train'] = (df['acc_train'] * 100).round(2).astype(str) + '%'\n",
    "df['acc_tests'] = (df['acc_tests'] * 100).round(2).astype(str) + '%'\n",
    "df['f1_score'] = (df['f1_score'] * 100).round(2).astype(str) + '%'\n",
    "df['recall_score'] = (df['recall_score'] * 100).round(2).astype(str) + '%'\n",
    "df['precision_score'] = (df['precision_score'] * 100).round(2).astype(str) + '%'\n",
    "\n",
    "df = df.rename(columns={\n",
    "    'name': 'MÔ HÌNH',\n",
    "    'acc_train': 'ĐỘ CHÍNH XÁC TRÊN TẬP HUẤN LUYỆN',\n",
    "    'acc_tests': 'ĐỘ CHÍNH XÁC TRÊN TẬP KIỂM TRA',\n",
    "    'f1_score': 'F1 SCORE',\n",
    "    'recall_score': 'RECALL SCORE',\n",
    "    'precision_score': 'PRECISION SCORE'\n",
    "})\n",
    "\n",
    "df"
   ]
  },
  {
   "cell_type": "markdown",
   "id": "a58a89a5",
   "metadata": {
    "id": "1zy8Q8kJ_qFu",
    "papermill": {
     "duration": 0.037135,
     "end_time": "2024-05-10T09:45:07.209794",
     "exception": false,
     "start_time": "2024-05-10T09:45:07.172659",
     "status": "completed"
    },
    "tags": []
   },
   "source": [
    "# Test model"
   ]
  },
  {
   "cell_type": "code",
   "execution_count": 59,
   "id": "b556d273",
   "metadata": {
    "execution": {
     "iopub.execute_input": "2024-05-10T09:45:07.286615Z",
     "iopub.status.busy": "2024-05-10T09:45:07.286238Z",
     "iopub.status.idle": "2024-05-10T09:45:07.314267Z",
     "shell.execute_reply": "2024-05-10T09:45:07.313531Z"
    },
    "executionInfo": {
     "elapsed": 8,
     "status": "ok",
     "timestamp": 1714446216675,
     "user": {
      "displayName": "Văn Tiến Phạm",
      "userId": "12820767994936355268"
     },
     "user_tz": -420
    },
    "id": "qIGXiFlQ7Ve9",
    "papermill": {
     "duration": 0.069004,
     "end_time": "2024-05-10T09:45:07.316223",
     "exception": false,
     "start_time": "2024-05-10T09:45:07.247219",
     "status": "completed"
    },
    "tags": []
   },
   "outputs": [],
   "source": [
    "class FeatureExtraction:\n",
    "  def __init__(self):\n",
    "    pass\n",
    "\n",
    "  def IpAddress(self, url):\n",
    "    match = re.search(\n",
    "        '(([01]?\\\\d\\\\d?|2[0-4]\\\\d|25[0-5])\\\\.([01]?\\\\d\\\\d?|2[0-4]\\\\d|25[0-5])\\\\.([01]?\\\\d\\\\d?|2[0-4]\\\\d|25[0-5])\\\\.'\n",
    "        '([01]?\\\\d\\\\d?|2[0-4]\\\\d|25[0-5])\\\\/)|'  # IPv4\n",
    "        '((0x[0-9a-fA-F]{1,2})\\\\.(0x[0-9a-fA-F]{1,2})\\\\.(0x[0-9a-fA-F]{1,2})\\\\.(0x[0-9a-fA-F]{1,2})\\\\/)' # IPv4 in hexadecimal\n",
    "        '(?:[a-fA-F0-9]{1,4}:){7}[a-fA-F0-9]{1,4}', url)  # Ipv6\n",
    "    if match:\n",
    "        return 1\n",
    "    else:\n",
    "        return 0\n",
    "\n",
    "  def UrlLength(self, url):\n",
    "    return len(url)\n",
    "\n",
    "  def HostnameLength(self, url):\n",
    "    try:\n",
    "      return len(urlparse(url).hostname)\n",
    "    except:\n",
    "      return 0\n",
    "\n",
    "  def PathLength(self, url):\n",
    "    try:\n",
    "        parsed_url = urlparse(url)\n",
    "        return len(parsed_url.path)\n",
    "    except:\n",
    "        return 0\n",
    "\n",
    "  def QueryLength(self, url):\n",
    "    try:\n",
    "        parsed_url = urlparse(url)\n",
    "        return len(parsed_url.query)\n",
    "    except:\n",
    "        return 0\n",
    "\n",
    "  def UseShortService(self, url):\n",
    "    #listing shortening services\n",
    "    shortening_services = r\"bit\\.ly|goo\\.gl|shorte\\.st|go2l\\.ink|x\\.co|ow\\.ly|t\\.co|tinyurl|tr\\.im|is\\.gd|cli\\.gs|\" \\\n",
    "                          r\"yfrog\\.com|migre\\.me|ff\\.im|tiny\\.cc|url4\\.eu|twit\\.ac|su\\.pr|twurl\\.nl|snipurl\\.com|\" \\\n",
    "                          r\"short\\.to|BudURL\\.com|ping\\.fm|post\\.ly|Just\\.as|bkite\\.com|snipr\\.com|fic\\.kr|loopt\\.us|\" \\\n",
    "                          r\"doiop\\.com|short\\.ie|kl\\.am|wp\\.me|rubyurl\\.com|om\\.ly|to\\.ly|bit\\.do|t\\.co|lnkd\\.in|db\\.tt|\" \\\n",
    "                          r\"qr\\.ae|adf\\.ly|goo\\.gl|bitly\\.com|cur\\.lv|tinyurl\\.com|ow\\.ly|bit\\.ly|ity\\.im|q\\.gs|is\\.gd|\" \\\n",
    "                          r\"po\\.st|bc\\.vc|twitthis\\.com|u\\.to|j\\.mp|buzurl\\.com|cutt\\.us|u\\.bb|yourls\\.org|x\\.co|\" \\\n",
    "                          r\"prettylinkpro\\.com|scrnch\\.me|filoops\\.info|vzturl\\.com|qr\\.net|1url\\.com|tweez\\.me|v\\.gd|\" \\\n",
    "                          r\"tr\\.im|link\\.zip\\.net\"\n",
    "\n",
    "    return 1 if re.search(shortening_services,url) else 0\n",
    "\n",
    "  def SusTlds(self, url):\n",
    "    suspicious_tlds = [\n",
    "      'tk', 'pw', 'info', 'biz', 'xyz', 'top', 'club', 'work', 'online',\n",
    "      'site', 'website', 'space', 'click', 'link', 'download', 'trade', 'cn'\n",
    "      'review', 'party', 'win', 'stream', 'gdn', 'racing', 'science', 'net'\n",
    "      'gq', 'icu', 'ooo', 'mobi', 'fun', 'buzz', 'kim', 'ga', 'cf', 'org', 'ml', 'co', 'ru'\n",
    "    ]\n",
    "    try:\n",
    "      tld = get_tld(url)\n",
    "      if tld in suspicious_tlds: return 1\n",
    "      else: return 0\n",
    "    except:\n",
    "      return 1\n",
    "\n",
    "  def NumSensitiveWords(self, url):\n",
    "    words = ['number', 'update', 'fraud', 'spoof', 'bank', 'banking', 'paypal', 'spoofing', 'credit', 'confirm', \n",
    "            'free', 'webscr', 'payment', 'secure', 'PayPal', 'password', 'bonus', 'identity', 'lucky', 'social', 'money', 'account', \n",
    "            'transfer', 'ebayisapi', 'keylogger', 'card', 'verify', 'sign in', 'ssn', 'service', 'signin', 'login']\n",
    "    word_count = sum(url.count(word) for word in words)\n",
    "    return word_count\n",
    "\n",
    "  def NumNumericChars(self, url):\n",
    "    digits = 0\n",
    "    for i in url:\n",
    "        if i.isnumeric():\n",
    "            digits += 1\n",
    "    return digits\n",
    "\n",
    "  def NumDots(self, url):\n",
    "    return url.count('.')\n",
    "\n",
    "  def NumDash(self, url):\n",
    "    return url.count('-')\n",
    "\n",
    "  def NumDashInHostname(self, url):\n",
    "    try:\n",
    "        url_info = tldextract.extract(url)\n",
    "        hostname = url_info.domain\n",
    "        return hostname.count('-')\n",
    "    except:\n",
    "        return 0\n",
    "    \n",
    "  def NumUnderscore(self, url):\n",
    "    return url.count('_')\n",
    "\n",
    "  def NumPercent(self, url):\n",
    "    return url.count(\"%\")\n",
    "\n",
    "  def NumAmpersand(self, url):\n",
    "    return url.count(\"&\")\n",
    "\n",
    "  def NumHash(self, url):\n",
    "    return url.count(\"#\")\n",
    "\n",
    "  def NumQueryComponents(self, url):\n",
    "    try:\n",
    "        parsed_url = urlparse(url)\n",
    "        return len(parsed_url.query.split('&')) if parsed_url.query else 0\n",
    "    except:\n",
    "        return 0\n",
    "    \n",
    "  def AtSymbol(self, url):\n",
    "    return 1 if \"@\" in url else 0\n",
    "\n",
    "  def TildeSymbol(self, url):\n",
    "    return 1 if \"~\" in url else 0\n",
    "\n",
    "  def DoubleSlashInPath(self, url):\n",
    "    pos = url.rfind('//')\n",
    "    if pos > 6:\n",
    "      return 1 if pos > 7 else 0\n",
    "    return 0\n",
    "\n",
    "  def SubDomainLevel(self, url):\n",
    "    try:\n",
    "        url_info = tldextract.extract(url)\n",
    "        subdomain = url_info.subdomain\n",
    "        if subdomain:\n",
    "            return subdomain.count('.') + 1\n",
    "        else:\n",
    "            return 0\n",
    "    except:\n",
    "        return 0\n",
    "\n",
    "  def PathLevel(self, url):\n",
    "    try:\n",
    "        parsed_url = urlparse(url)\n",
    "        if parsed_url.path:\n",
    "            return parsed_url.path.count('/') + 1\n",
    "        else:\n",
    "            return 0\n",
    "    except:\n",
    "        return 0\n",
    "\n",
    "  def DomainInSubdomains(self, url):\n",
    "    try:\n",
    "        url_info = tldextract.extract(url)\n",
    "        tld = get_tld(url, fail_silently=True)\n",
    "        if tld:\n",
    "            return 1 if tld in url_info.subdomain else 0\n",
    "        else:\n",
    "            return 1\n",
    "    except:\n",
    "        return 1\n",
    "\n",
    "  def DomainInPaths(self, url):\n",
    "    try:\n",
    "        parsed_url = urlparse(url)\n",
    "        tld = get_tld(url, fail_silently=True)\n",
    "        if tld:\n",
    "            return 1 if tld in parsed_url.path else 0\n",
    "        else:\n",
    "            return 1\n",
    "    except:\n",
    "        return 1\n",
    "\n",
    "  def EntropyDomainName(self, url):\n",
    "    try:\n",
    "        hostname = urlparse(url).netloc\n",
    "        counter = Counter(hostname)\n",
    "        probabilities = [count / len(hostname) for count in counter.values()]\n",
    "        return -sum(p * math.log2(p) for p in probabilities)\n",
    "    except:\n",
    "        return 0\n",
    "    \n",
    "  def rank_host(self, url):\n",
    "    try:\n",
    "        domain = tldextract.extract(url).registered_domain\n",
    "        return 0 if domain in alexa_domains else 1\n",
    "    except Exception:\n",
    "        return 1\n",
    "  "
   ]
  },
  {
   "cell_type": "code",
   "execution_count": 60,
   "id": "f94d5f29",
   "metadata": {
    "execution": {
     "iopub.execute_input": "2024-05-10T09:45:07.394873Z",
     "iopub.status.busy": "2024-05-10T09:45:07.394523Z",
     "iopub.status.idle": "2024-05-10T09:45:07.400942Z",
     "shell.execute_reply": "2024-05-10T09:45:07.399999Z"
    },
    "executionInfo": {
     "elapsed": 514,
     "status": "ok",
     "timestamp": 1714446217181,
     "user": {
      "displayName": "Văn Tiến Phạm",
      "userId": "12820767994936355268"
     },
     "user_tz": -420
    },
    "id": "3FrghqyW7GV2",
    "papermill": {
     "duration": 0.047271,
     "end_time": "2024-05-10T09:45:07.403097",
     "exception": false,
     "start_time": "2024-05-10T09:45:07.355826",
     "status": "completed"
    },
    "tags": []
   },
   "outputs": [],
   "source": [
    "def main(url):\n",
    "    feature = FeatureExtraction()\n",
    "    status_df = pd.DataFrame({'url': [url]})\n",
    "\n",
    "    for func_name in dir(FeatureExtraction):\n",
    "        if not func_name.startswith('__') and callable(getattr(FeatureExtraction, func_name)):\n",
    "            status_df[func_name] = status_df['url'].apply(getattr(feature, func_name))\n",
    "\n",
    "    status_df.drop(columns=['url'], inplace=True)\n",
    "    test = pd.DataFrame(status_df, columns=status_df.columns)\n",
    "    return test"
   ]
  },
  {
   "cell_type": "code",
   "execution_count": 61,
   "id": "739b3c05",
   "metadata": {
    "execution": {
     "iopub.execute_input": "2024-05-10T09:45:07.480300Z",
     "iopub.status.busy": "2024-05-10T09:45:07.479605Z",
     "iopub.status.idle": "2024-05-10T09:45:07.484516Z",
     "shell.execute_reply": "2024-05-10T09:45:07.483596Z"
    },
    "executionInfo": {
     "elapsed": 2,
     "status": "ok",
     "timestamp": 1714446217181,
     "user": {
      "displayName": "Văn Tiến Phạm",
      "userId": "12820767994936355268"
     },
     "user_tz": -420
    },
    "id": "ekAwqEU76_Wh",
    "papermill": {
     "duration": 0.045729,
     "end_time": "2024-05-10T09:45:07.486483",
     "exception": false,
     "start_time": "2024-05-10T09:45:07.440754",
     "status": "completed"
    },
    "tags": []
   },
   "outputs": [],
   "source": [
    "def get_prediction_from_url(test_url):\n",
    "    features_test = main(test_url)\n",
    "\n",
    "    pred = RFC_grid.predict(features_test)\n",
    "    return int(pred[0]) # 1 là độc hại"
   ]
  },
  {
   "cell_type": "code",
   "execution_count": 62,
   "id": "a19f2cfc",
   "metadata": {
    "execution": {
     "iopub.execute_input": "2024-05-10T09:45:07.564248Z",
     "iopub.status.busy": "2024-05-10T09:45:07.563623Z",
     "iopub.status.idle": "2024-05-10T09:45:20.177734Z",
     "shell.execute_reply": "2024-05-10T09:45:20.176761Z"
    },
    "executionInfo": {
     "elapsed": 8761,
     "status": "ok",
     "timestamp": 1714446225940,
     "user": {
      "displayName": "Văn Tiến Phạm",
      "userId": "12820767994936355268"
     },
     "user_tz": -420
    },
    "id": "u_Fpnlr78pBJ",
    "outputId": "443d971c-f9bb-4320-c05a-499237917f9c",
    "papermill": {
     "duration": 12.65545,
     "end_time": "2024-05-10T09:45:20.179870",
     "exception": false,
     "start_time": "2024-05-10T09:45:07.524420",
     "status": "completed"
    },
    "tags": []
   },
   "outputs": [
    {
     "name": "stdout",
     "output_type": "stream",
     "text": [
      "0.886\n"
     ]
    }
   ],
   "source": [
    "response = requests.get('https://openphish.com/feed.txt')\n",
    "response.raise_for_status()  # Raise an exception if the request was unsuccessful\n",
    "urls = response.text.splitlines()\n",
    "\n",
    "cnt = 0\n",
    "for url in urls:\n",
    "  if get_prediction_from_url(url) == 1: cnt += 1\n",
    "\n",
    "    \n",
    "print(cnt / len(urls))"
   ]
  },
  {
   "cell_type": "code",
   "execution_count": 63,
   "id": "b086dfad",
   "metadata": {
    "execution": {
     "iopub.execute_input": "2024-05-10T09:45:20.256954Z",
     "iopub.status.busy": "2024-05-10T09:45:20.256193Z",
     "iopub.status.idle": "2024-05-10T09:45:21.094824Z",
     "shell.execute_reply": "2024-05-10T09:45:21.093639Z"
    },
    "executionInfo": {
     "elapsed": 13,
     "status": "ok",
     "timestamp": 1714446225940,
     "user": {
      "displayName": "Văn Tiến Phạm",
      "userId": "12820767994936355268"
     },
     "user_tz": -420
    },
    "id": "YpJ-L3o8JNVM",
    "outputId": "701e92b9-cf2a-4022-d526-3a5af795fb23",
    "papermill": {
     "duration": 0.879554,
     "end_time": "2024-05-10T09:45:21.097144",
     "exception": false,
     "start_time": "2024-05-10T09:45:20.217590",
     "status": "completed"
    },
    "tags": []
   },
   "outputs": [
    {
     "name": "stdout",
     "output_type": "stream",
     "text": [
      "0.5833333333333334\n"
     ]
    }
   ],
   "source": [
    "url_ats = [\"https://colab.research.google.com/drive/1_iX6qDpqh0FsqFMzRF42iwBg21UXy0xR?authuser=1#scrollTo=1ianw5UonSXv\", \"https://github.com/vaibhavbichave/Phishing-URL-Detection/blob/master/Phishing%20URL%20Detection.ipynb\", \"https://github.com/shreyagopal/Phishing-Website-Detection-by-Machine-Learning-Techniques/blob/master/Phishing%20Website%20Detection_Models%20%26%20Training.ipynb\", \"https://vncoder.vn/bai-hoc/histogram-507\", \"https://www.youtube.com/watch?v=a4jzMCXkQ0U&t=2384s\", \"https://www.facebook.com/\", \"https://github.com/huggingface\", \"https://www.youtube.com/\", \"https://huggingface.co/\", \"https://en.wikipedia.org/wiki/Main_Page\", \"https://www.youtube.com/watch?v=Ikub5DUp0WA\", \"https://www.kaggle.com/code/vantien03/url-detector/edit\", \"https://www.facebook.com/vantien.pham.1042\", \"https://drive.google.com/\", \"https://github.com/bregman-arie/devops-exercises?fbclid=IwAR2spB1fdIvEez9X243llhIRob85aGb3rSupkoU9TLGR2o-GaepkvMJxlZs\", \"https://portal.ptit.edu.vn/\", \"https://outlook.office.com/mail/inbox\", \"https://daotao.ptit.edu.vn/#\", \"https://portal.ptit.edu.vn/giaovu/\", \"https://viblo.asia/p/quy-trinh-lam-viec-chuan-chi-voi-git-eW65G10RZDO\", \"https://www.figma.com/community/plugin/1264600219316901594/vector-to-3d\", \"https://app.durable.co/website-builder\", \"https://qldt.ptit.edu.vn/default.aspx?page=gioithieu\", \"https://thinhnotes.com/chuyen-nghe-ba/use-case-diagram-va-5-sai-lam-thuong-gap/\", \"https://softwaredesign.home.blog/tutorials/hotel-reservation-management-application/?fbclid=IwAR1BMTR6Kobs5u__qhbB9tvV_hZG7HslsexNhuSIopfb4JnmWhqCHbxUulE\", \"https://mvnrepository.com/\", \"https://openui.fly.dev/ai/o81amTu3VjycJk4OdfPcS\", \"https://code.ptit.edu.vn/\", \"https://code.ptit.edu.vn/login\", \"https://dsec.ptit.edu.vn/login\", \"https://code.ptit.edu.vn/student/question\", \"https://chat.zalo.me/\", \"https://www.google.com/\", \"https://www.facebook.com/\", \"https://www.youtube.com/\", \"https://www.msn.com/vi-vn/entertainment/news/t%C3%A1c-gi%E1%BA%A3-7-vi%C3%AAn-ng%E1%BB%8Dc-r%E1%BB%93ng-qua-%C4%91%E1%BB%9Di/ar-BB1jwPrT?ocid=msedgntp&pc=CNNDDB&cvid=48828957fcaa41708e6522f501b09dbc&ei=16\"] \n",
    "\n",
    "cnt = 0\n",
    "for url in url_ats:\n",
    "  if get_prediction_from_url(url) == 0: cnt += 1\n",
    "\n",
    "print(cnt / len(url_ats))"
   ]
  },
  {
   "cell_type": "code",
   "execution_count": 64,
   "id": "a465de42",
   "metadata": {
    "execution": {
     "iopub.execute_input": "2024-05-10T09:45:21.235519Z",
     "iopub.status.busy": "2024-05-10T09:45:21.234800Z",
     "iopub.status.idle": "2024-05-10T09:45:21.268242Z",
     "shell.execute_reply": "2024-05-10T09:45:21.267106Z"
    },
    "papermill": {
     "duration": 0.132343,
     "end_time": "2024-05-10T09:45:21.270458",
     "exception": false,
     "start_time": "2024-05-10T09:45:21.138115",
     "status": "completed"
    },
    "tags": []
   },
   "outputs": [
    {
     "name": "stdout",
     "output_type": "stream",
     "text": [
      "0\n"
     ]
    }
   ],
   "source": [
    "a = \"https://chat.zalo.me/\"\n",
    "print(get_prediction_from_url(a))"
   ]
  },
  {
   "cell_type": "markdown",
   "id": "7fc1f577",
   "metadata": {
    "papermill": {
     "duration": 0.037471,
     "end_time": "2024-05-10T09:45:21.347891",
     "exception": false,
     "start_time": "2024-05-10T09:45:21.310420",
     "status": "completed"
    },
    "tags": []
   },
   "source": [
    "# Save Model RandomForest"
   ]
  },
  {
   "cell_type": "code",
   "execution_count": 65,
   "id": "4f9a2987",
   "metadata": {
    "execution": {
     "iopub.execute_input": "2024-05-10T09:45:21.427499Z",
     "iopub.status.busy": "2024-05-10T09:45:21.427120Z",
     "iopub.status.idle": "2024-05-10T09:45:22.051718Z",
     "shell.execute_reply": "2024-05-10T09:45:22.050855Z"
    },
    "papermill": {
     "duration": 0.668018,
     "end_time": "2024-05-10T09:45:22.054116",
     "exception": false,
     "start_time": "2024-05-10T09:45:21.386098",
     "status": "completed"
    },
    "tags": []
   },
   "outputs": [],
   "source": [
    "import pickle\n",
    "with open('URL_Classifier.pkl', 'wb') as file:  \n",
    "    pickle.dump(RFC_grid, file)"
   ]
  },
  {
   "cell_type": "code",
   "execution_count": 66,
   "id": "62900aa8",
   "metadata": {
    "execution": {
     "iopub.execute_input": "2024-05-10T09:45:22.131715Z",
     "iopub.status.busy": "2024-05-10T09:45:22.131325Z",
     "iopub.status.idle": "2024-05-10T09:45:22.674927Z",
     "shell.execute_reply": "2024-05-10T09:45:22.673945Z"
    },
    "papermill": {
     "duration": 0.584916,
     "end_time": "2024-05-10T09:45:22.677203",
     "exception": false,
     "start_time": "2024-05-10T09:45:22.092287",
     "status": "completed"
    },
    "tags": []
   },
   "outputs": [
    {
     "data": {
      "text/html": [
       "<style>#sk-container-id-12 {color: black;background-color: white;}#sk-container-id-12 pre{padding: 0;}#sk-container-id-12 div.sk-toggleable {background-color: white;}#sk-container-id-12 label.sk-toggleable__label {cursor: pointer;display: block;width: 100%;margin-bottom: 0;padding: 0.3em;box-sizing: border-box;text-align: center;}#sk-container-id-12 label.sk-toggleable__label-arrow:before {content: \"▸\";float: left;margin-right: 0.25em;color: #696969;}#sk-container-id-12 label.sk-toggleable__label-arrow:hover:before {color: black;}#sk-container-id-12 div.sk-estimator:hover label.sk-toggleable__label-arrow:before {color: black;}#sk-container-id-12 div.sk-toggleable__content {max-height: 0;max-width: 0;overflow: hidden;text-align: left;background-color: #f0f8ff;}#sk-container-id-12 div.sk-toggleable__content pre {margin: 0.2em;color: black;border-radius: 0.25em;background-color: #f0f8ff;}#sk-container-id-12 input.sk-toggleable__control:checked~div.sk-toggleable__content {max-height: 200px;max-width: 100%;overflow: auto;}#sk-container-id-12 input.sk-toggleable__control:checked~label.sk-toggleable__label-arrow:before {content: \"▾\";}#sk-container-id-12 div.sk-estimator input.sk-toggleable__control:checked~label.sk-toggleable__label {background-color: #d4ebff;}#sk-container-id-12 div.sk-label input.sk-toggleable__control:checked~label.sk-toggleable__label {background-color: #d4ebff;}#sk-container-id-12 input.sk-hidden--visually {border: 0;clip: rect(1px 1px 1px 1px);clip: rect(1px, 1px, 1px, 1px);height: 1px;margin: -1px;overflow: hidden;padding: 0;position: absolute;width: 1px;}#sk-container-id-12 div.sk-estimator {font-family: monospace;background-color: #f0f8ff;border: 1px dotted black;border-radius: 0.25em;box-sizing: border-box;margin-bottom: 0.5em;}#sk-container-id-12 div.sk-estimator:hover {background-color: #d4ebff;}#sk-container-id-12 div.sk-parallel-item::after {content: \"\";width: 100%;border-bottom: 1px solid gray;flex-grow: 1;}#sk-container-id-12 div.sk-label:hover label.sk-toggleable__label {background-color: #d4ebff;}#sk-container-id-12 div.sk-serial::before {content: \"\";position: absolute;border-left: 1px solid gray;box-sizing: border-box;top: 0;bottom: 0;left: 50%;z-index: 0;}#sk-container-id-12 div.sk-serial {display: flex;flex-direction: column;align-items: center;background-color: white;padding-right: 0.2em;padding-left: 0.2em;position: relative;}#sk-container-id-12 div.sk-item {position: relative;z-index: 1;}#sk-container-id-12 div.sk-parallel {display: flex;align-items: stretch;justify-content: center;background-color: white;position: relative;}#sk-container-id-12 div.sk-item::before, #sk-container-id-12 div.sk-parallel-item::before {content: \"\";position: absolute;border-left: 1px solid gray;box-sizing: border-box;top: 0;bottom: 0;left: 50%;z-index: -1;}#sk-container-id-12 div.sk-parallel-item {display: flex;flex-direction: column;z-index: 1;position: relative;background-color: white;}#sk-container-id-12 div.sk-parallel-item:first-child::after {align-self: flex-end;width: 50%;}#sk-container-id-12 div.sk-parallel-item:last-child::after {align-self: flex-start;width: 50%;}#sk-container-id-12 div.sk-parallel-item:only-child::after {width: 0;}#sk-container-id-12 div.sk-dashed-wrapped {border: 1px dashed gray;margin: 0 0.4em 0.5em 0.4em;box-sizing: border-box;padding-bottom: 0.4em;background-color: white;}#sk-container-id-12 div.sk-label label {font-family: monospace;font-weight: bold;display: inline-block;line-height: 1.2em;}#sk-container-id-12 div.sk-label-container {text-align: center;}#sk-container-id-12 div.sk-container {/* jupyter's `normalize.less` sets `[hidden] { display: none; }` but bootstrap.min.css set `[hidden] { display: none !important; }` so we also need the `!important` here to be able to override the default hidden behavior on the sphinx rendered scikit-learn.org. See: https://github.com/scikit-learn/scikit-learn/issues/21755 */display: inline-block !important;position: relative;}#sk-container-id-12 div.sk-text-repr-fallback {display: none;}</style><div id=\"sk-container-id-12\" class=\"sk-top-container\"><div class=\"sk-text-repr-fallback\"><pre>RandomForestClassifier(criterion=&#x27;entropy&#x27;, min_samples_split=5,\n",
       "                       n_estimators=200, random_state=100)</pre><b>In a Jupyter environment, please rerun this cell to show the HTML representation or trust the notebook. <br />On GitHub, the HTML representation is unable to render, please try loading this page with nbviewer.org.</b></div><div class=\"sk-container\" hidden><div class=\"sk-item\"><div class=\"sk-estimator sk-toggleable\"><input class=\"sk-toggleable__control sk-hidden--visually\" id=\"sk-estimator-id-18\" type=\"checkbox\" checked><label for=\"sk-estimator-id-18\" class=\"sk-toggleable__label sk-toggleable__label-arrow\">RandomForestClassifier</label><div class=\"sk-toggleable__content\"><pre>RandomForestClassifier(criterion=&#x27;entropy&#x27;, min_samples_split=5,\n",
       "                       n_estimators=200, random_state=100)</pre></div></div></div></div></div>"
      ],
      "text/plain": [
       "RandomForestClassifier(criterion='entropy', min_samples_split=5,\n",
       "                       n_estimators=200, random_state=100)"
      ]
     },
     "execution_count": 66,
     "metadata": {},
     "output_type": "execute_result"
    }
   ],
   "source": [
    "with open('/kaggle/working/URL_Classifier.pkl', 'rb') as file:  \n",
    "    RFC_Model = pickle.load(file)\n",
    "\n",
    "RFC_Model"
   ]
  }
 ],
 "metadata": {
  "accelerator": "GPU",
  "colab": {
   "authorship_tag": "ABX9TyNh1WHKfrsIiNarI3rd9AAH",
   "gpuType": "T4",
   "provenance": []
  },
  "kaggle": {
   "accelerator": "gpu",
   "dataSources": [],
   "dockerImageVersionId": 30699,
   "isGpuEnabled": true,
   "isInternetEnabled": true,
   "language": "python",
   "sourceType": "notebook"
  },
  "kernelspec": {
   "display_name": "Python 3",
   "language": "python",
   "name": "python3"
  },
  "language_info": {
   "codemirror_mode": {
    "name": "ipython",
    "version": 3
   },
   "file_extension": ".py",
   "mimetype": "text/x-python",
   "name": "python",
   "nbconvert_exporter": "python",
   "pygments_lexer": "ipython3",
   "version": "3.10.13"
  },
  "papermill": {
   "default_parameters": {},
   "duration": 3613.587819,
   "end_time": "2024-05-10T09:45:25.443003",
   "environment_variables": {},
   "exception": null,
   "input_path": "__notebook__.ipynb",
   "output_path": "__notebook__.ipynb",
   "parameters": {},
   "start_time": "2024-05-10T08:45:11.855184",
   "version": "2.5.0"
  }
 },
 "nbformat": 4,
 "nbformat_minor": 5
}
